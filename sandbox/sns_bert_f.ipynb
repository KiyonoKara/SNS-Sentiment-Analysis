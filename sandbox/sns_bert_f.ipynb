{
 "cells": [
  {
   "cell_type": "markdown",
   "source": [
    "# SNS Sentiment Analysis BERT\n",
    "\n",
    "Analyze social media texts and measure potential inflammatory / offensive language with a BERT neural network.\n",
    "\n",
    "(This does not work, unable to pass data through the BERT model, Iter nor Tensor conversions are working at all for the data and model)."
   ],
   "metadata": {
    "collapsed": false
   },
   "id": "bc952063a2c1e5aa"
  },
  {
   "cell_type": "code",
   "outputs": [],
   "source": [
    "import ast\n",
    "import numpy as np\n",
    "import pandas as pd\n",
    "import tensorflow as tf\n",
    "import transformers\n",
    "from transformers import TFBertModel, BertTokenizer"
   ],
   "metadata": {
    "collapsed": false
   },
   "id": "6ce8c337d98e9337",
   "execution_count": null
  },
  {
   "cell_type": "code",
   "outputs": [
    {
     "name": "stderr",
     "output_type": "stream",
     "text": [
      "Some weights of the PyTorch model were not used when initializing the TF 2.0 model TFBertModel: ['cls.seq_relationship.weight', 'cls.seq_relationship.bias', 'cls.predictions.bias', 'cls.predictions.transform.LayerNorm.weight', 'cls.predictions.transform.dense.bias', 'cls.predictions.transform.dense.weight', 'cls.predictions.transform.LayerNorm.bias']\n",
      "- This IS expected if you are initializing TFBertModel from a PyTorch model trained on another task or with another architecture (e.g. initializing a TFBertForSequenceClassification model from a BertForPreTraining model).\n",
      "- This IS NOT expected if you are initializing TFBertModel from a PyTorch model that you expect to be exactly identical (e.g. initializing a TFBertForSequenceClassification model from a BertForSequenceClassification model).\n",
      "All the weights of TFBertModel were initialized from the PyTorch model.\n",
      "If your task is similar to the task the model of the checkpoint was trained on, you can already use TFBertModel for predictions without further training.\n"
     ]
    }
   ],
   "source": [
    "# Load the pre-trained BERT model and tokenizer\n",
    "tokenizer = BertTokenizer.from_pretrained('bert-base-uncased')\n",
    "bert_model = TFBertModel.from_pretrained('bert-base-uncased', output_hidden_states=False, return_dict=False)\n",
    "bert_model.trainable = False"
   ],
   "metadata": {
    "collapsed": false,
    "ExecuteTime": {
     "end_time": "2024-04-08T15:15:51.046352Z",
     "start_time": "2024-04-08T15:15:49.838825Z"
    }
   },
   "id": "d3db10e7bbe9c1cc",
   "execution_count": 3
  },
  {
   "cell_type": "code",
   "outputs": [
    {
     "name": "stdout",
     "output_type": "stream",
     "text": [
      "Tensorflow Version :  2.14.0\n",
      "Transformers Version :  4.35.0\n"
     ]
    }
   ],
   "source": [
    "print(\"Tensorflow Version : \", tf.__version__)\n",
    "print(\"Transformers Version : \", transformers.__version__)"
   ],
   "metadata": {
    "collapsed": false,
    "ExecuteTime": {
     "end_time": "2024-04-08T15:15:54.743988Z",
     "start_time": "2024-04-08T15:15:54.741652Z"
    }
   },
   "id": "f8713cddac2c6e22",
   "execution_count": 5
  },
  {
   "cell_type": "markdown",
   "source": [
    "# Load the data"
   ],
   "metadata": {
    "collapsed": false
   },
   "id": "9aa46c2e6d9392a6"
  },
  {
   "cell_type": "code",
   "outputs": [
    {
     "name": "stdout",
     "output_type": "stream",
     "text": [
      "(800,) (200,)\n",
      "(800,) (200,)\n"
     ]
    }
   ],
   "source": [
    "# Load dataset\n",
    "train = pd.read_csv(\"./datasets/processed/train.csv\")\n",
    "X_train = train[train.columns[0]].apply(ast.literal_eval)[:800]\n",
    "y_train = train[train.columns[1]].astype(int)[:200]\n",
    "print(X_train.shape, y_train.shape)\n",
    "\n",
    "test = pd.read_csv(\"./datasets/processed/test.csv\")\n",
    "X_test = test[test.columns[0]].apply(ast.literal_eval)[:800]\n",
    "y_test = test[test.columns[1]].astype(int)[:200]\n",
    "print(X_test.shape, y_test.shape)"
   ],
   "metadata": {
    "collapsed": false,
    "ExecuteTime": {
     "end_time": "2024-04-08T15:18:47.337261Z",
     "start_time": "2024-04-08T15:18:46.738175Z"
    }
   },
   "id": "76d1f06a3663a7f0",
   "execution_count": 12
  },
  {
   "cell_type": "code",
   "outputs": [],
   "source": [
    "train_text = [\" \".join(s) for s in X_train]\n",
    "test_text = [\" \".join(s) for s in X_test]"
   ],
   "metadata": {
    "collapsed": false,
    "ExecuteTime": {
     "end_time": "2024-04-08T15:18:48.008905Z",
     "start_time": "2024-04-08T15:18:48.002559Z"
    }
   },
   "id": "d9165aebb007aaff",
   "execution_count": 13
  },
  {
   "cell_type": "code",
   "outputs": [
    {
     "data": {
      "text/plain": "{'input_ids': <tf.Tensor: shape=(2, 512), dtype=int32, numpy=\narray([[ 101, 3231, 6251, ...,    0,    0,    0],\n       [ 101, 2023, 2003, ...,    0,    0,    0]], dtype=int32)>, 'token_type_ids': <tf.Tensor: shape=(2, 512), dtype=int32, numpy=\narray([[0, 0, 0, ..., 0, 0, 0],\n       [0, 0, 0, ..., 0, 0, 0]], dtype=int32)>, 'attention_mask': <tf.Tensor: shape=(2, 512), dtype=int32, numpy=\narray([[1, 1, 1, ..., 0, 0, 0],\n       [1, 1, 1, ..., 0, 0, 0]], dtype=int32)>}"
     },
     "execution_count": 7,
     "metadata": {},
     "output_type": "execute_result"
    }
   ],
   "source": [
    "example_input = tokenizer([\"Test sentence\", \"This is a test sentence\"], padding='max_length', truncation=True, return_tensors='tf')\n",
    "example_input"
   ],
   "metadata": {
    "collapsed": false,
    "ExecuteTime": {
     "end_time": "2024-04-08T15:12:26.575214Z",
     "start_time": "2024-04-08T15:12:26.566166Z"
    }
   },
   "id": "20cc39d220235809",
   "execution_count": 7
  },
  {
   "cell_type": "code",
   "outputs": [],
   "source": [
    "BATCH_SIZE = 4\n",
    "MAX_LENGTH = 128\n",
    "\n",
    "def data_generator(text, labels, batch_size: int) -> (dict, tf.Tensor):\n",
    "    num_samples = len(text)\n",
    "    i = 0\n",
    "    while True:\n",
    "        x_data, y_data = [], []\n",
    "        for j in range(batch_size):\n",
    "            start = i * batch_size\n",
    "            try:\n",
    "                x_data.append(text[start + j])\n",
    "                y_data.append(labels[start + j])\n",
    "            except KeyError:\n",
    "                print(\"INDEX:\", j, \"START:\", start, \"\\n\", labels)\n",
    "            i += 1\n",
    "\n",
    "\n",
    "        if i * batch_size >= num_samples:\n",
    "            i = 0\n",
    "\n",
    "        batch_x = tokenizer(x_data, return_tensors=\"tf\", max_length=MAX_LENGTH, padding='max_length', truncation=True)\n",
    "        batch_y = tf.convert_to_tensor(y_data)\n",
    "\n",
    "        yield dict(batch_x), batch_y"
   ],
   "metadata": {
    "collapsed": false,
    "ExecuteTime": {
     "end_time": "2024-04-08T15:15:59.543588Z",
     "start_time": "2024-04-08T15:15:59.537108Z"
    }
   },
   "id": "33b1cbf576a43744",
   "execution_count": 8
  },
  {
   "cell_type": "code",
   "outputs": [],
   "source": [
    "train_data_gen = data_generator(train_text, y_train, BATCH_SIZE)\n",
    "test_data_gen = data_generator(test_text, y_test, BATCH_SIZE)\n",
    "\n",
    "# train_text_t = tokenizer(train_text, return_tensors=\"tf\", max_length=MAX_LENGTH, padding='max_length', truncation=True)\n",
    "# test_text_t = tokenizer(test_text, return_tensors=\"tf\", max_length=MAX_LENGTH, padding='max_length', truncation=True)\n",
    "\n",
    "# train_dataset = tf.data.Dataset.from_tensor_slices((train_text_t['input_ids'], train_text_t['attention_mask'], y_train))\n",
    "# test_dataset = tf.data.Dataset.from_tensor_slices((test_text_t['input_ids'], test_text_t['attention_mask'], y_test))\n",
    "# \n",
    "# train_dataset = train_dataset.batch(BATCH_SIZE)\n",
    "# test_dataset = test_dataset.batch(BATCH_SIZE)"
   ],
   "metadata": {
    "collapsed": false,
    "ExecuteTime": {
     "end_time": "2024-04-08T15:18:55.365997Z",
     "start_time": "2024-04-08T15:18:54.375743Z"
    }
   },
   "id": "30ed4557f794063a",
   "execution_count": 14
  },
  {
   "cell_type": "code",
   "outputs": [],
   "source": [
    "def create_bert_model():\n",
    "    input_ids = tf.keras.layers.Input(shape=(None,), dtype=tf.int32, name='input_ids')\n",
    "    attention_mask = tf.keras.layers.Input(shape=(None,), dtype=tf.int32, name='attention_mask')\n",
    "    token_type_ids = tf.keras.layers.Input(shape=(None,), dtype=tf.int32, name='token_type_ids')\n",
    "\n",
    "    bert_output = bert_model(input_ids, attention_mask=attention_mask, token_type_ids=token_type_ids)\n",
    "    sequence_output = bert_output[0]\n",
    "    # Take the [CLS] token representation\n",
    "    pooled_output = sequence_output[:, 0, :]\n",
    "\n",
    "    x = tf.keras.layers.Dropout(0.2)(pooled_output)\n",
    "    x = tf.keras.layers.Dense(256, activation='relu')(x)\n",
    "    x = tf.keras.layers.Dropout(0.2)(x)\n",
    "    output = tf.keras.layers.Dense(1, activation='sigmoid')(x)\n",
    "\n",
    "    model = tf.keras.Model(inputs=[input_ids, attention_mask, token_type_ids], outputs=output)\n",
    "    model.compile(optimizer=tf.keras.optimizers.legacy.Adam(learning_rate=3e-5), loss='binary_crossentropy', metrics=['accuracy'])\n",
    "\n",
    "    return model"
   ],
   "metadata": {
    "collapsed": false,
    "ExecuteTime": {
     "end_time": "2024-04-08T15:18:58.777766Z",
     "start_time": "2024-04-08T15:18:58.770041Z"
    }
   },
   "id": "b21c8f62fb049987",
   "execution_count": 15
  },
  {
   "cell_type": "code",
   "outputs": [],
   "source": [
    "class SNSBERTClassification(tf.keras.Model):\n",
    "    def __init__(self, bert_model_, num_classes=1):\n",
    "        super().__init__()\n",
    "        self.bert = bert_model_\n",
    "        self.fc = tf.keras.layers.Dense(num_classes, activation=\"sigmoid\")\n",
    "\n",
    "    def call(self, inputs, training=None, mask=None):\n",
    "        x = self.bert(inputs)[1]\n",
    "        return self.fc(x)"
   ],
   "metadata": {
    "collapsed": false,
    "ExecuteTime": {
     "end_time": "2024-04-08T15:16:05.609081Z",
     "start_time": "2024-04-08T15:16:05.605928Z"
    }
   },
   "id": "8f4f32b2767ac509",
   "execution_count": 10
  },
  {
   "cell_type": "code",
   "outputs": [],
   "source": [
    "bert_classifier = SNSBERTClassification(bert_model, num_classes=1)\n",
    "\n",
    "bert_classifier.compile(\n",
    "    optimizer=tf.keras.optimizers.legacy.Adam(learning_rate=1e-5),\n",
    "    loss='sparse_categorical_crossentropy',\n",
    "    metrics=['accuracy']\n",
    ")"
   ],
   "metadata": {
    "collapsed": false,
    "ExecuteTime": {
     "end_time": "2024-04-08T15:16:06.426492Z",
     "start_time": "2024-04-08T15:16:06.406439Z"
    }
   },
   "id": "3face30af7c4bd32",
   "execution_count": 11
  },
  {
   "cell_type": "code",
   "outputs": [],
   "source": [
    "b = create_bert_model()\n",
    "\n",
    "X_train_tokens = tokenizer.batch_encode_plus(\n",
    "    train_text[:200],\n",
    "    max_length=MAX_LENGTH,\n",
    "    padding='max_length',\n",
    "    truncation=True,\n",
    "    return_tensors='tf'\n",
    ")\n",
    "\n",
    "# Tokenize the testing data\n",
    "X_test_tokens = tokenizer.batch_encode_plus(\n",
    "    test_text[:200],\n",
    "    max_length=MAX_LENGTH,\n",
    "    padding='max_length',\n",
    "    truncation=True,\n",
    "    return_tensors='tf'\n",
    ")"
   ],
   "metadata": {
    "collapsed": false
   },
   "id": "f51a783da964925c",
   "execution_count": null
  },
  {
   "cell_type": "code",
   "outputs": [],
   "source": [
    "b.fit(\n",
    "    [X_train_tokens['input_ids'], X_train_tokens['attention_mask'], X_train_tokens['token_type_ids']],\n",
    "    y_train,\n",
    "    validation_data=([X_test_tokens['input_ids'], X_test_tokens['attention_mask'], X_test_tokens['token_type_ids']], y_test),\n",
    "    epochs=3,\n",
    "    batch_size=32\n",
    ")"
   ],
   "metadata": {
    "collapsed": false
   },
   "id": "4edbeecf635cfa64",
   "execution_count": null
  },
  {
   "cell_type": "code",
   "outputs": [],
   "source": [
    "bert_history = bert_classifier.fit(\n",
    "    train_data_gen,\n",
    "    epochs=3,\n",
    "    batch_size=BATCH_SIZE,\n",
    "    steps_per_epoch=len(train_text) // BATCH_SIZE,\n",
    "    validation_data=test_data_gen,\n",
    "    validation_steps=BATCH_SIZE * 4,\n",
    "    validation_batch_size=BATCH_SIZE\n",
    ")"
   ],
   "metadata": {
    "collapsed": false
   },
   "id": "51333fadfffa7825",
   "execution_count": null
  },
  {
   "cell_type": "code",
   "outputs": [],
   "source": [
    "model_ = tf.keras.Sequential([\n",
    "    bert_model,\n",
    "    tf.keras.layers.Lambda(lambda x: x[0][:,0,:]),\n",
    "    tf.keras.layers.Dense(50, activation=\"relu\"),\n",
    "    tf.keras.layers.Dense(1, activation=\"sigmoid\")\n",
    "])\n",
    "\n",
    "model_.compile(loss=\"binary_crossentropy\", optimizer=\"adam\", metrics=[\"accuracy\"])\n",
    "\n",
    "model_.fit(\n",
    "    train_data_gen,\n",
    "    batch_size=BATCH_SIZE,\n",
    "    steps_per_epoch=len(train_text) // BATCH_SIZE,\n",
    "    validation_data=test_data_gen,\n",
    "    validation_steps=len(test_text) // BATCH_SIZE,\n",
    "    validation_batch_size=BATCH_SIZE,\n",
    "    epochs=3\n",
    ")"
   ],
   "metadata": {
    "collapsed": false
   },
   "id": "c8544fa84374e77f",
   "execution_count": null
  },
  {
   "cell_type": "code",
   "outputs": [],
   "source": [
    "bert_classifier.evaluate_generator(test_data_gen)"
   ],
   "metadata": {
    "collapsed": false
   },
   "id": "91f6291db8cfbd0b"
  }
 ],
 "metadata": {
  "kernelspec": {
   "display_name": "Python 3",
   "language": "python",
   "name": "python3"
  },
  "language_info": {
   "codemirror_mode": {
    "name": "ipython",
    "version": 2
   },
   "file_extension": ".py",
   "mimetype": "text/x-python",
   "name": "python",
   "nbconvert_exporter": "python",
   "pygments_lexer": "ipython2",
   "version": "2.7.6"
  }
 },
 "nbformat": 4,
 "nbformat_minor": 5
}
