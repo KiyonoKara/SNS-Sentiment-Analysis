{
 "cells": [
  {
   "cell_type": "markdown",
   "source": [
    "# SNS Sentiment Analysis\n",
    "\n",
    "Analyze social media texts and measure potential inflammatory / offensive language."
   ],
   "metadata": {
    "collapsed": false
   }
  },
  {
   "cell_type": "markdown",
   "source": [
    "# Data Pre-processing\n",
    "\n",
    "From the selected datasets, extract the text and labels from all of them, then combine into one large CSV dataset.\n",
    "\n",
    "(Install NLTK data if not already installed)."
   ],
   "metadata": {
    "collapsed": false
   }
  },
  {
   "cell_type": "code",
   "execution_count": 1,
   "outputs": [],
   "source": [
    "import nltk, os\n",
    "\n",
    "# Run this if you are locally accessing the NLTK data\n",
    "nltk.data.path.append('./nltk_data/')\n",
    "if not os.path.exists('./nltk_data'):\n",
    "    nltk.download('punkt', download_dir='./nltk_data/')\n",
    "    nltk.download('stopwords', download_dir='./nltk_data/')\n",
    "    nltk.download('words', download_dir='./nltk_data/')\n",
    "    nltk.download('brown', download_dir='./nltk_data/')"
   ],
   "metadata": {
    "collapsed": false,
    "ExecuteTime": {
     "end_time": "2024-04-08T05:55:50.053395Z",
     "start_time": "2024-04-08T05:55:49.164737Z"
    }
   }
  },
  {
   "cell_type": "code",
   "execution_count": 2,
   "outputs": [],
   "source": [
    "hate_speech_dataset_path = \"./datasets/hate_speech_detect/HateSpeechDatasetBalanced.csv\"\n",
    "malignant_dataset_path = \"./datasets/malignant/train.csv\""
   ],
   "metadata": {
    "collapsed": false,
    "ExecuteTime": {
     "end_time": "2024-04-08T05:56:00.299479Z",
     "start_time": "2024-04-08T05:56:00.298531Z"
    }
   }
  },
  {
   "cell_type": "code",
   "execution_count": null,
   "outputs": [],
   "source": [],
   "metadata": {
    "collapsed": false
   }
  },
  {
   "cell_type": "code",
   "execution_count": 7,
   "outputs": [],
   "source": [
    "import data_util as du"
   ],
   "metadata": {
    "collapsed": false,
    "ExecuteTime": {
     "end_time": "2024-04-08T05:51:38.159203Z",
     "start_time": "2024-04-08T05:51:38.143993Z"
    }
   }
  },
  {
   "cell_type": "code",
   "execution_count": null,
   "outputs": [],
   "source": [
    "hs_tuples = du.generate_tuples_from_file(hate_speech_dataset_path)"
   ],
   "metadata": {
    "collapsed": false
   }
  },
  {
   "cell_type": "code",
   "execution_count": null,
   "outputs": [],
   "source": [
    "m_tuples = du.generate_tuples_from_df(processed_m_train_df)"
   ],
   "metadata": {
    "collapsed": false
   }
  },
  {
   "cell_type": "code",
   "execution_count": null,
   "outputs": [],
   "source": [
    "# Combine and save the data to a CSV\n",
    "processed_data_save = pd.DataFrame({\n",
    "    \"text\": hs_tuples[0] + m_tuples[0],\n",
    "    \"label\": hs_tuples[1] + m_tuples[1]\n",
    "})\n",
    "\n",
    "processed_data_save.to_csv(\"./datasets/processed/all_data.csv\", index=False)"
   ],
   "metadata": {
    "collapsed": false
   }
  },
  {
   "cell_type": "markdown",
   "source": [
    "# Load data and split"
   ],
   "metadata": {
    "collapsed": false
   }
  },
  {
   "cell_type": "code",
   "execution_count": null,
   "outputs": [],
   "source": [],
   "metadata": {
    "collapsed": false
   }
  }
 ],
 "metadata": {
  "kernelspec": {
   "display_name": "Python 3",
   "language": "python",
   "name": "python3"
  },
  "language_info": {
   "codemirror_mode": {
    "name": "ipython",
    "version": 2
   },
   "file_extension": ".py",
   "mimetype": "text/x-python",
   "name": "python",
   "nbconvert_exporter": "python",
   "pygments_lexer": "ipython2",
   "version": "2.7.6"
  }
 },
 "nbformat": 4,
 "nbformat_minor": 0
}
