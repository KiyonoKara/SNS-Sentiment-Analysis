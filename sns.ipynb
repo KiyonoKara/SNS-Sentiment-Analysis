{
 "cells": [
  {
   "cell_type": "markdown",
   "source": [
    "# SNS Sentiment Analysis\n",
    "\n",
    "Analyze social media texts and measure potential inflammatory / offensive language."
   ],
   "metadata": {
    "collapsed": false
   },
   "id": "743076517f8b7504"
  },
  {
   "cell_type": "markdown",
   "source": [
    "# Data Pre-processing\n",
    "\n",
    "From the selected datasets, extract the text and labels from all of them, then combine into one large CSV dataset.\n",
    "\n",
    "(Install NLTK data if not already installed)."
   ],
   "metadata": {
    "collapsed": false
   },
   "id": "be6513fac010032c"
  },
  {
   "cell_type": "code",
   "outputs": [],
   "source": [
    "import nltk, os\n",
    "\n",
    "# Run this if you are locally accessing the NLTK data\n",
    "nltk.data.path.append('./nltk_data/')\n",
    "if not os.path.exists('./nltk_data'):\n",
    "    nltk.download('punkt', download_dir='./nltk_data/')\n",
    "    nltk.download('stopwords', download_dir='./nltk_data/')\n",
    "    nltk.download('words', download_dir='./nltk_data/')\n",
    "    nltk.download('brown', download_dir='./nltk_data/')"
   ],
   "metadata": {
    "collapsed": false,
    "ExecuteTime": {
     "end_time": "2024-04-03T02:35:39.153019Z",
     "start_time": "2024-04-03T02:35:39.148615Z"
    }
   },
   "id": "640687e9515193af",
   "execution_count": 6
  },
  {
   "cell_type": "code",
   "outputs": [],
   "source": [
    "hate_speech_dataset_path = \"./datasets/hate_speech_detect/HateSpeechDatasetBalanced.csv\"\n",
    "malignant_dataset_path = \"./datasets/malignant/train.csv\""
   ],
   "metadata": {
    "collapsed": false,
    "ExecuteTime": {
     "end_time": "2024-04-03T00:17:17.466312Z",
     "start_time": "2024-04-03T00:17:17.462890Z"
    }
   },
   "id": "f73f5a60d015e1dd",
   "execution_count": 2
  },
  {
   "cell_type": "code",
   "outputs": [],
   "source": [
    "import pandas as pd\n",
    "# Process malignant train data\n",
    "m_train_df = pd.read_csv(malignant_dataset_path)\n",
    "m_train_df_no_id = m_train_df.drop(columns=m_train_df.columns[0])\n",
    "\n",
    "processed_m_train_df = pd.DataFrame({\n",
    "    \"text\": m_train_df_no_id[m_train_df_no_id.columns[0]],\n",
    "    \"label\": m_train_df_no_id[m_train_df_no_id.columns[1:]].max(axis=1)\n",
    "})"
   ],
   "metadata": {
    "collapsed": false,
    "ExecuteTime": {
     "end_time": "2024-04-03T00:17:18.613655Z",
     "start_time": "2024-04-03T00:17:17.861871Z"
    }
   },
   "id": "f058a52e3c2c051d",
   "execution_count": 3
  },
  {
   "cell_type": "code",
   "outputs": [],
   "source": [
    "import data_util as du"
   ],
   "metadata": {
    "collapsed": false,
    "ExecuteTime": {
     "end_time": "2024-04-03T02:34:40.266669Z",
     "start_time": "2024-04-03T02:34:39.421547Z"
    }
   },
   "id": "ff40ee0836889eec",
   "execution_count": 1
  },
  {
   "cell_type": "markdown",
   "source": [],
   "metadata": {
    "collapsed": false
   },
   "id": "37129fe89d266558"
  },
  {
   "cell_type": "code",
   "outputs": [],
   "source": [
    "hs_tuples = du.generate_tuples_from_file(hate_speech_dataset_path)"
   ],
   "metadata": {
    "collapsed": false,
    "ExecuteTime": {
     "end_time": "2024-04-03T00:21:31.099387Z",
     "start_time": "2024-04-03T00:20:09.845677Z"
    }
   },
   "id": "bee9b1a5d1aa3932",
   "execution_count": 8
  },
  {
   "cell_type": "code",
   "outputs": [],
   "source": [
    "m_tuples = du.generate_tuples_from_df(processed_m_train_df)"
   ],
   "metadata": {
    "collapsed": false,
    "ExecuteTime": {
     "end_time": "2024-04-03T00:22:14.355134Z",
     "start_time": "2024-04-03T00:21:31.101299Z"
    }
   },
   "id": "36bcb735d7fc78b0",
   "execution_count": 9
  },
  {
   "cell_type": "code",
   "outputs": [],
   "source": [
    "# Combine and save the data to a CSV\n",
    "processed_data_save = pd.DataFrame({\n",
    "    \"text\": hs_tuples[0] + m_tuples[0],\n",
    "    \"label\": hs_tuples[1] + m_tuples[1]\n",
    "})\n",
    "\n",
    "processed_data_save.to_csv(\"./datasets/processed/all_data.csv\", index=False)"
   ],
   "metadata": {
    "collapsed": false,
    "ExecuteTime": {
     "end_time": "2024-04-03T00:42:52.401611Z",
     "start_time": "2024-04-03T00:42:43.799122Z"
    }
   },
   "id": "26a67ee73a011d43",
   "execution_count": 20
  },
  {
   "cell_type": "code",
   "outputs": [],
   "source": [
    "# Load the saved data\n",
    "import ast\n",
    "import pandas as pd\n",
    "\n",
    "complete_df = pd.read_csv(\"./datasets/processed/all_data.csv\")\n",
    "complete_df[complete_df.columns[0]] = complete_df[complete_df.columns[0]].apply(ast.literal_eval)\n",
    "complete_df[complete_df.columns[1]] = complete_df[complete_df.columns[1]].astype(int)"
   ],
   "metadata": {
    "collapsed": false,
    "ExecuteTime": {
     "end_time": "2024-04-03T02:35:30.332516Z",
     "start_time": "2024-04-03T02:34:44.071798Z"
    }
   },
   "id": "cc3ecf947bb8c19f",
   "execution_count": 2
  },
  {
   "cell_type": "code",
   "outputs": [],
   "source": [
    "from sklearn.model_selection import train_test_split\n",
    "\n",
    "# Split the data up into training and testing\n",
    "X_train, X_test, y_train, y_test = train_test_split(complete_df.text, complete_df.label, test_size=0.2, random_state=42)"
   ],
   "metadata": {
    "collapsed": false,
    "ExecuteTime": {
     "end_time": "2024-04-03T02:35:30.381032Z",
     "start_time": "2024-04-03T02:35:30.333702Z"
    }
   },
   "id": "7bbfb0914a1677e0",
   "execution_count": 3
  },
  {
   "cell_type": "markdown",
   "source": [
    "# Vectorize Data"
   ],
   "metadata": {
    "collapsed": false
   },
   "id": "6133d91a278a005a"
  },
  {
   "cell_type": "code",
   "outputs": [],
   "source": [
    "train_text = [\" \".join(r) for r in X_train]\n",
    "test_text = [\" \".join(r) for r in X_test]"
   ],
   "metadata": {
    "collapsed": false,
    "ExecuteTime": {
     "end_time": "2024-04-03T02:35:31.448360Z",
     "start_time": "2024-04-03T02:35:30.381725Z"
    }
   },
   "id": "371add535ffa94c4",
   "execution_count": 4
  },
  {
   "cell_type": "code",
   "outputs": [
    {
     "name": "stdout",
     "output_type": "stream",
     "text": [
      "708552 177138\n",
      "0.8\n",
      "0.2\n"
     ]
    }
   ],
   "source": [
    "# Check for distribution of training vs testing data\n",
    "print(len(train_text), len(test_text))\n",
    "print(len(train_text) / (len(train_text) + len(test_text)))\n",
    "print(len(test_text) / (len(train_text) + len(test_text)))"
   ],
   "metadata": {
    "collapsed": false,
    "ExecuteTime": {
     "end_time": "2024-04-03T00:49:20.171302Z",
     "start_time": "2024-04-03T00:49:20.162669Z"
    }
   },
   "id": "ab0a8dad1060943d",
   "execution_count": 33
  },
  {
   "cell_type": "code",
   "outputs": [],
   "source": [
    "vocabulary = du.create_vocabulary(complete_df.text.to_list())"
   ],
   "metadata": {
    "collapsed": false
   },
   "id": "51c34cf59d380154",
   "execution_count": null
  },
  {
   "cell_type": "code",
   "outputs": [],
   "source": [
    "from nltk.corpus import brown\n",
    "\n",
    "# Further processing (do not run this unless you really need refined vocabulary)\n",
    "# DO NOT RUN THIS\n",
    "vocabulary = [word.lower() for word in vocabulary if word.lower() in brown.words()]\n",
    "print(len(vocabulary))"
   ],
   "metadata": {
    "collapsed": false
   },
   "id": "151e014ca7751b44",
   "execution_count": null
  },
  {
   "cell_type": "code",
   "outputs": [],
   "source": [
    "# Save vocabulary to save resources\n",
    "print(len(vocabulary))\n",
    "with open(\"./datasets/processed/vocabulary.txt\", \"w\") as vocab_file: \n",
    "    vocab_file.write(repr(vocabulary))"
   ],
   "metadata": {
    "collapsed": false
   },
   "id": "e8c374ccf06ea08a"
  },
  {
   "cell_type": "code",
   "outputs": [
    {
     "name": "stdout",
     "output_type": "stream",
     "text": [
      "265004\n"
     ]
    }
   ],
   "source": [
    "# Load vocabulary from file if needed\n",
    "vocabulary = ast.literal_eval(open(\"./datasets/processed/vocabulary.txt\", \"r\").read())\n",
    "print(len(vocabulary))"
   ],
   "metadata": {
    "collapsed": false,
    "ExecuteTime": {
     "end_time": "2024-04-03T04:18:47.704153Z",
     "start_time": "2024-04-03T04:18:45.369107Z"
    }
   },
   "id": "5231d09c956347fe",
   "execution_count": 11
  },
  {
   "cell_type": "code",
   "outputs": [],
   "source": [
    "from sklearn.feature_extraction.text import CountVectorizer\n",
    "train_partial_index = len(train_text) * 10 // 100 # 10%\n",
    "test_partial_index = len(test_text) * 10 // 100 # 10%\n",
    "\n",
    "vocabulary_e = vocabulary[:len(vocabulary) * 10 // 100]\n",
    "# Binary \n",
    "bin_vectorizer = CountVectorizer(input='content', stop_words='english', binary=True, vocabulary=vocabulary_e, tokenizer=None, preprocessor=None, lowercase=False)\n",
    "X_train_bin = bin_vectorizer.fit_transform(train_text[:train_partial_index])\n",
    "X_test_bin = bin_vectorizer.transform(test_text[:test_partial_index])\n",
    "\n",
    "# Multinomial\n",
    "mul_vectorizer = CountVectorizer(input='content', stop_words='english', binary=False, vocabulary=vocabulary_e, tokenizer=None, preprocessor=None, lowercase=False)\n",
    "X_train_mul = mul_vectorizer.fit_transform(train_text[:train_partial_index])\n",
    "X_test_mul = mul_vectorizer.transform(test_text[:test_partial_index])"
   ],
   "metadata": {
    "collapsed": false,
    "ExecuteTime": {
     "end_time": "2024-04-03T02:25:25.467634Z",
     "start_time": "2024-04-03T02:25:23.335322Z"
    }
   },
   "id": "84fa2cca7df10dd3",
   "execution_count": 5
  },
  {
   "cell_type": "code",
   "outputs": [
    {
     "name": "stdout",
     "output_type": "stream",
     "text": [
      "708552 177138\n",
      "(70855, 26500)\n",
      "(70855, 26500)\n",
      "(17713, 26500)\n",
      "(17713, 26500)\n"
     ]
    }
   ],
   "source": [
    "import numpy as np\n",
    "\n",
    "print(len(train_text), len(test_text))\n",
    "print(np.shape(X_train_bin))\n",
    "print(np.shape(X_train_mul))\n",
    "print(np.shape(X_test_bin))\n",
    "print(np.shape(X_test_mul))"
   ],
   "metadata": {
    "collapsed": false,
    "ExecuteTime": {
     "end_time": "2024-04-03T02:27:32.249641Z",
     "start_time": "2024-04-03T02:27:32.245210Z"
    }
   },
   "id": "1aa0a89ef8fd3920",
   "execution_count": 10
  },
  {
   "cell_type": "code",
   "outputs": [
    {
     "name": "stderr",
     "output_type": "stream",
     "text": [
      "/Library/Python/3.9/site-packages/urllib3/__init__.py:34: NotOpenSSLWarning: urllib3 v2.0 only supports OpenSSL 1.1.1+, currently the 'ssl' module is compiled with 'LibreSSL 2.8.3'. See: https://github.com/urllib3/urllib3/issues/3020\n",
      "  warnings.warn(\n"
     ]
    },
    {
     "name": "stdout",
     "output_type": "stream",
     "text": [
      "Model: \"sequential\"\n",
      "_________________________________________________________________\n",
      " Layer (type)                Output Shape              Param #   \n",
      "=================================================================\n",
      " dense (Dense)               (None, 256)               6784256   \n",
      "                                                                 \n",
      " dropout (Dropout)           (None, 256)               0         \n",
      "                                                                 \n",
      " dense_1 (Dense)             (None, 128)               32896     \n",
      "                                                                 \n",
      " dropout_1 (Dropout)         (None, 128)               0         \n",
      "                                                                 \n",
      " dense_2 (Dense)             (None, 64)                8256      \n",
      "                                                                 \n",
      " dropout_2 (Dropout)         (None, 64)                0         \n",
      "                                                                 \n",
      " dense_3 (Dense)             (None, 32)                2080      \n",
      "                                                                 \n",
      " dropout_3 (Dropout)         (None, 32)                0         \n",
      "                                                                 \n",
      " dense_4 (Dense)             (None, 1)                 33        \n",
      "                                                                 \n",
      "=================================================================\n",
      "Total params: 6827521 (26.04 MB)\n",
      "Trainable params: 6827521 (26.04 MB)\n",
      "Non-trainable params: 0 (0.00 Byte)\n",
      "_________________________________________________________________\n",
      "Model: \"sequential_1\"\n",
      "_________________________________________________________________\n",
      " Layer (type)                Output Shape              Param #   \n",
      "=================================================================\n",
      " dense_5 (Dense)             (None, 256)               6784256   \n",
      "                                                                 \n",
      " dropout_4 (Dropout)         (None, 256)               0         \n",
      "                                                                 \n",
      " dense_6 (Dense)             (None, 128)               32896     \n",
      "                                                                 \n",
      " dropout_5 (Dropout)         (None, 128)               0         \n",
      "                                                                 \n",
      " dense_7 (Dense)             (None, 64)                8256      \n",
      "                                                                 \n",
      " dropout_6 (Dropout)         (None, 64)                0         \n",
      "                                                                 \n",
      " dense_8 (Dense)             (None, 32)                2080      \n",
      "                                                                 \n",
      " dropout_7 (Dropout)         (None, 32)                0         \n",
      "                                                                 \n",
      " dense_9 (Dense)             (None, 1)                 33        \n",
      "                                                                 \n",
      "=================================================================\n",
      "Total params: 6827521 (26.04 MB)\n",
      "Trainable params: 6827521 (26.04 MB)\n",
      "Non-trainable params: 0 (0.00 Byte)\n",
      "_________________________________________________________________\n"
     ]
    }
   ],
   "source": [
    "from keras.models import Sequential\n",
    "from keras.layers import Dense, Dropout\n",
    "from keras.optimizers.legacy import Adam\n",
    "\n",
    "def create_neural_network(X_training_data):\n",
    "    model = Sequential()\n",
    "    model.add(Dense(units=256, input_dim=X_training_data.shape[1], activation='relu'))\n",
    "    model.add(Dropout(0.5))\n",
    "    model.add(Dense(units=128, activation='relu'))\n",
    "    model.add(Dropout(0.5))\n",
    "    model.add(Dense(units=64, activation='relu'))\n",
    "    model.add(Dropout(0.5))\n",
    "    model.add(Dense(units=32, activation='relu'))\n",
    "    model.add(Dropout(0.5))\n",
    "    \n",
    "    # Output layer\n",
    "    adam_opt = Adam(learning_rate=0.001)\n",
    "    model.add(Dense(units=1, activation='sigmoid'))\n",
    "    model.compile(loss='binary_crossentropy', optimizer=adam_opt, metrics=['accuracy'])\n",
    "    return model\n",
    "\n",
    "bin_model = create_neural_network(X_train_bin)\n",
    "bin_model.summary()\n",
    "\n",
    "mul_model = create_neural_network(X_train_mul)\n",
    "mul_model.summary()"
   ],
   "metadata": {
    "collapsed": false,
    "ExecuteTime": {
     "end_time": "2024-04-03T02:25:29.046498Z",
     "start_time": "2024-04-03T02:25:25.471448Z"
    }
   },
   "id": "59c06ef58fb25ad",
   "execution_count": 7
  },
  {
   "cell_type": "code",
   "outputs": [
    {
     "name": "stdout",
     "output_type": "stream",
     "text": [
      "(70855, 26500)\n",
      "(17713, 26500)\n",
      "(708552,) 7085\n",
      "(177138,) 1771\n"
     ]
    }
   ],
   "source": [
    "# Use 10% of data\n",
    "X_train_bin_partial_index = X_train_bin.shape[0] * 10 // 100\n",
    "X_train_mul_partial_index = X_train_mul.shape[0] * 10 // 100\n",
    "X_test_bin_partial_index = X_test_bin.shape[0] * 10 // 100\n",
    "X_test_mul_partial_index = X_test_mul.shape[0] * 10 // 100\n",
    "y_train_partial_index = len(y_train) * 1 // 100\n",
    "y_test_partial_index = len(y_test) * 1 // 100\n",
    "\n",
    "print(X_train_bin.shape)\n",
    "print(X_test_bin.shape)\n",
    "print(y_train.shape, y_train_partial_index)\n",
    "print(y_test.shape, y_test_partial_index)"
   ],
   "metadata": {
    "collapsed": false
   },
   "id": "7ea7cc29f4f3a234",
   "execution_count": 8
  },
  {
   "cell_type": "code",
   "outputs": [
    {
     "name": "stdout",
     "output_type": "stream",
     "text": [
      "Binary Neural Network Model:\n",
      "Epoch 1/5\n",
      "111/111 [==============================] - 3s 20ms/step - loss: 0.6747 - accuracy: 0.5853 - val_loss: 0.6452 - val_accuracy: 0.6002\n",
      "Epoch 2/5\n",
      "111/111 [==============================] - 2s 16ms/step - loss: 0.6398 - accuracy: 0.6241 - val_loss: 0.6333 - val_accuracy: 0.6160\n",
      "Epoch 3/5\n",
      "111/111 [==============================] - 2s 15ms/step - loss: 0.6213 - accuracy: 0.6374 - val_loss: 0.6223 - val_accuracy: 0.6183\n",
      "Epoch 4/5\n",
      "111/111 [==============================] - 2s 15ms/step - loss: 0.6125 - accuracy: 0.6429 - val_loss: 0.6227 - val_accuracy: 0.6143\n",
      "Epoch 5/5\n",
      "111/111 [==============================] - 2s 15ms/step - loss: 0.6004 - accuracy: 0.6500 - val_loss: 0.6235 - val_accuracy: 0.6189\n"
     ]
    },
    {
     "data": {
      "text/plain": "<keras.src.callbacks.History at 0x35e65aa90>"
     },
     "execution_count": 9,
     "metadata": {},
     "output_type": "execute_result"
    }
   ],
   "source": [
    "import numpy as np\n",
    "\n",
    "print(\"Binary Neural Network Model:\")\n",
    "bin_model.fit(np.array(X_train_bin.toarray()[:X_train_bin_partial_index]), \n",
    "              np.array(y_train[:y_train_partial_index]), \n",
    "              epochs=5, batch_size=64, \n",
    "              validation_data=(np.array(X_test_bin.toarray())[:X_test_bin_partial_index], np.array(y_test)[:y_test_partial_index]))"
   ],
   "metadata": {
    "collapsed": false,
    "ExecuteTime": {
     "end_time": "2024-04-03T02:25:41.674006Z",
     "start_time": "2024-04-03T02:25:29.051305Z"
    }
   },
   "id": "6bcf766ba8cdd774",
   "execution_count": 9
  },
  {
   "cell_type": "code",
   "outputs": [],
   "source": [
    "bin_model.predict(np.array(X_test_bin.toarray())[:X_test_bin_partial_index])\n",
    "\n",
    "bin_loss, bin_accuracy = bin_model.evaluate(X_test_bin.toarray()[:X_test_bin_partial_index], np.array(y_test[:y_test_partial_index]))\n",
    "print(\"Binary Loss on Dev set:\", bin_loss)\n",
    "print(\"Binary Accuracy on Dev set:\", bin_accuracy)"
   ],
   "metadata": {
    "collapsed": false
   },
   "id": "304e3957cfbf73ae",
   "execution_count": null
  },
  {
   "cell_type": "code",
   "outputs": [],
   "source": [
    "print(\" Multinomial Neural Network Model:\")\n",
    "mul_model.fit(np.array(X_train_mul.toarray()),\n",
    "              np.array(y_train[:y_train_partial_index]),\n",
    "              epochs=5, batch_size=64, \n",
    "              validation_data=(np.array(X_test.toarray())[:X_test_mul_partial_index], np.array(y_test)[:y_test_partial_index]))"
   ],
   "metadata": {
    "collapsed": false
   },
   "id": "5d30e1b03660ef30"
  },
  {
   "cell_type": "code",
   "outputs": [],
   "source": [
    "bin_model.save('sns_bin_model.keras')\n",
    "mul_model.save('sns_mul_model.keras')"
   ],
   "metadata": {
    "collapsed": false
   },
   "id": "fe276e5e39d22ace"
  }
 ],
 "metadata": {
  "kernelspec": {
   "display_name": "Python 3",
   "language": "python",
   "name": "python3"
  },
  "language_info": {
   "codemirror_mode": {
    "name": "ipython",
    "version": 2
   },
   "file_extension": ".py",
   "mimetype": "text/x-python",
   "name": "python",
   "nbconvert_exporter": "python",
   "pygments_lexer": "ipython2",
   "version": "2.7.6"
  }
 },
 "nbformat": 4,
 "nbformat_minor": 5
}
