{
 "cells": [
  {
   "cell_type": "markdown",
   "source": [
    "# SNS Sentiment Analysis NN\n",
    "\n",
    "Analyze social media texts and measure potential inflammatory / offensive language with a feedforward neural network."
   ],
   "metadata": {
    "collapsed": false
   },
   "id": "5614af81228c83e9"
  },
  {
   "cell_type": "code",
   "execution_count": 1,
   "outputs": [
    {
     "name": "stderr",
     "output_type": "stream",
     "text": [
      "/Users/kalan/PycharmProjects/DS4400/venv/lib/python3.9/site-packages/urllib3/__init__.py:35: NotOpenSSLWarning: urllib3 v2 only supports OpenSSL 1.1.1+, currently the 'ssl' module is compiled with 'LibreSSL 2.8.3'. See: https://github.com/urllib3/urllib3/issues/3020\n",
      "  warnings.warn(\n"
     ]
    }
   ],
   "source": [
    "import ast\n",
    "import numpy as np\n",
    "import pandas as pd\n",
    "import tensorflow as tf\n",
    "import data_util as du\n",
    "import keras_tuner as kt\n",
    "from keras.models import Sequential\n",
    "from keras.layers import Dense, Dropout\n",
    "from tensorflow.keras.optimizers.legacy import Adam\n",
    "from sklearn.feature_extraction.text import CountVectorizer\n",
    "from matplotlib import pyplot as plt"
   ],
   "metadata": {
    "collapsed": false,
    "ExecuteTime": {
     "end_time": "2024-04-12T23:53:09.372171Z",
     "start_time": "2024-04-12T23:53:04.397069Z"
    }
   },
   "id": "c9f2c98f368e4b25"
  },
  {
   "cell_type": "markdown",
   "source": [
    "# Load Data\n",
    "\n",
    "Load preprocessed data, vocabulary included. "
   ],
   "metadata": {
    "collapsed": false
   },
   "id": "b8b14a0fda3ba9b7"
  },
  {
   "cell_type": "code",
   "outputs": [
    {
     "name": "stdout",
     "output_type": "stream",
     "text": [
      "(8000,) (8000,)\n",
      "(2000,) (2000,)\n",
      "Vocabulary size: 11560\n"
     ]
    }
   ],
   "source": [
    "# Load dataset\n",
    "train = pd.read_csv(\"./datasets/processed/train.csv\")\n",
    "X_train = train[train.columns[0]].apply(ast.literal_eval)\n",
    "y_train = train[train.columns[1]].astype(int)\n",
    "print(X_train.shape, y_train.shape)\n",
    "\n",
    "test = pd.read_csv(\"./datasets/processed/test.csv\")\n",
    "X_test = test[test.columns[0]].apply(ast.literal_eval)\n",
    "y_test = test[test.columns[1]].astype(int)\n",
    "print(X_test.shape, y_test.shape)\n",
    "\n",
    "# Load vocabulary\n",
    "vocabulary = ast.literal_eval(open(\"./datasets/processed/vocabulary.txt\", \"r\").read())\n",
    "print(\"Vocabulary size:\", len(vocabulary))"
   ],
   "metadata": {
    "collapsed": false,
    "ExecuteTime": {
     "end_time": "2024-04-12T23:53:09.912839Z",
     "start_time": "2024-04-12T23:53:09.379755Z"
    }
   },
   "id": "f3353cbd63cea128",
   "execution_count": 2
  },
  {
   "cell_type": "code",
   "outputs": [
    {
     "name": "stdout",
     "output_type": "stream",
     "text": [
      "Lengths of train and test: 8000 2000\n",
      "train:test ratio: 0.8\n",
      "test:train ratio: 0.2\n"
     ]
    }
   ],
   "source": [
    "train_text = [\" \".join(s) for s in X_train]\n",
    "test_text = [\" \".join(s) for s in X_test]\n",
    "print(\"Lengths of train and test:\", len(train_text), len(test_text))\n",
    "print(\"train:test ratio:\", len(train_text) / (len(train_text) + len(test_text)))\n",
    "print(\"test:train ratio:\", len(test_text) / (len(train_text) + len(test_text)))"
   ],
   "metadata": {
    "collapsed": false,
    "ExecuteTime": {
     "end_time": "2024-04-12T23:53:09.925444Z",
     "start_time": "2024-04-12T23:53:09.913639Z"
    }
   },
   "id": "d678733692490132",
   "execution_count": 3
  },
  {
   "cell_type": "markdown",
   "source": [
    "# Vectorize data\n",
    "\n",
    "In multinomial vectorization, we use it to calculate probabilities based on frequency of words from the vocabulary than whether the word has appeared at least once."
   ],
   "metadata": {
    "collapsed": false
   },
   "id": "e7f386939c8df7b9"
  },
  {
   "cell_type": "code",
   "outputs": [],
   "source": [
    "# Multinomial vectorizer, used to calculate probabilities based on vocabulary frequencies \n",
    "m_vectorizer = CountVectorizer(input='content', stop_words='english', binary=False, vocabulary=vocabulary, tokenizer=None, preprocessor=None)\n",
    "X_train_m = m_vectorizer.fit_transform(train_text)\n",
    "X_test_m = m_vectorizer.transform(test_text)"
   ],
   "metadata": {
    "collapsed": false,
    "ExecuteTime": {
     "end_time": "2024-04-12T23:53:10.054932Z",
     "start_time": "2024-04-12T23:53:09.926155Z"
    }
   },
   "id": "4ca5c2fda149009b",
   "execution_count": 4
  },
  {
   "cell_type": "markdown",
   "source": [
    "# Create a feedforward neural network then train it\n",
    "\n",
    "Network has been tuned with different values for optimal results."
   ],
   "metadata": {
    "collapsed": false
   },
   "id": "78a043c02d2fd1e9"
  },
  {
   "cell_type": "code",
   "outputs": [],
   "source": [
    "def create_ff_neural_network(X_training_data):\n",
    "    model = Sequential([\n",
    "        # Input layer\n",
    "        # Input shape is also just vocabulary size\n",
    "        Dense(units=256, input_dim=X_training_data.shape[1], activation='tanh'),\n",
    "        Dropout(0.2),\n",
    "        Dense(units=128, activation='tanh'),\n",
    "        Dropout(0.2),\n",
    "        Dense(units=64, activation='tanh'),\n",
    "        Dropout(0.2),\n",
    "        Dense(units=32, activation='tanh'),\n",
    "        Dropout(0.2),\n",
    "        # Output layer\n",
    "        Dense(units=1, activation='sigmoid')\n",
    "    ])\n",
    "    \n",
    "    # Legacy Adam\n",
    "    opt = Adam(learning_rate=2e-5)\n",
    "    model.compile(loss='binary_crossentropy', optimizer=opt, metrics=['accuracy'])\n",
    "    return model"
   ],
   "metadata": {
    "collapsed": false,
    "ExecuteTime": {
     "end_time": "2024-04-12T23:53:14.309037Z",
     "start_time": "2024-04-12T23:53:14.303724Z"
    }
   },
   "id": "699bbea8dd4293a4",
   "execution_count": 5
  },
  {
   "cell_type": "code",
   "outputs": [
    {
     "name": "stdout",
     "output_type": "stream",
     "text": [
      "Model: \"sequential\"\n",
      "_________________________________________________________________\n",
      " Layer (type)                Output Shape              Param #   \n",
      "=================================================================\n",
      " dense (Dense)               (None, 256)               2959616   \n",
      "                                                                 \n",
      " dropout (Dropout)           (None, 256)               0         \n",
      "                                                                 \n",
      " dense_1 (Dense)             (None, 128)               32896     \n",
      "                                                                 \n",
      " dropout_1 (Dropout)         (None, 128)               0         \n",
      "                                                                 \n",
      " dense_2 (Dense)             (None, 64)                8256      \n",
      "                                                                 \n",
      " dropout_2 (Dropout)         (None, 64)                0         \n",
      "                                                                 \n",
      " dense_3 (Dense)             (None, 32)                2080      \n",
      "                                                                 \n",
      " dropout_3 (Dropout)         (None, 32)                0         \n",
      "                                                                 \n",
      " dense_4 (Dense)             (None, 1)                 33        \n",
      "                                                                 \n",
      "=================================================================\n",
      "Total params: 3002881 (11.46 MB)\n",
      "Trainable params: 3002881 (11.46 MB)\n",
      "Non-trainable params: 0 (0.00 Byte)\n",
      "_________________________________________________________________\n"
     ]
    }
   ],
   "source": [
    "multinomial_model_ff = create_ff_neural_network(X_train_m)\n",
    "multinomial_model_ff.summary()"
   ],
   "metadata": {
    "collapsed": false,
    "ExecuteTime": {
     "end_time": "2024-04-12T23:53:15.064554Z",
     "start_time": "2024-04-12T23:53:14.816930Z"
    }
   },
   "id": "cb36400665ebf981",
   "execution_count": 6
  },
  {
   "cell_type": "markdown",
   "source": [
    "## Learning Rate Scheduler\n",
    "\n",
    "If we have a high learning rate, we may unintentionally speed up convergence by making large updates. By reducing the learning rate, it helps the model fine-tune its weights allowing it to obtain a more accurate stance. This is made to prevent over-fitting with our large data."
   ],
   "metadata": {
    "collapsed": false
   },
   "id": "e21dc7a1ebb5aaf1"
  },
  {
   "cell_type": "code",
   "outputs": [],
   "source": [
    "# Learning rate scheduler\n",
    "def scheduler(epoch, lr):\n",
    "    if epoch < 5:\n",
    "        return lr\n",
    "    else:\n",
    "        return lr * tf.math.exp(-0.1)\n",
    "\n",
    "# Create a learning rate callback\n",
    "lr_callback = tf.keras.callbacks.LearningRateScheduler(scheduler)"
   ],
   "metadata": {
    "collapsed": false,
    "ExecuteTime": {
     "end_time": "2024-04-12T23:53:19.386083Z",
     "start_time": "2024-04-12T23:53:19.382640Z"
    }
   },
   "id": "1994fdbffa2d705b",
   "execution_count": 7
  },
  {
   "cell_type": "code",
   "outputs": [
    {
     "name": "stdout",
     "output_type": "stream",
     "text": [
      "Multinomial Feedforward Neural Network:\n",
      "Epoch 1/10\n"
     ]
    },
    {
     "name": "stderr",
     "output_type": "stream",
     "text": [
      "2024-04-08 20:08:55.925207: W tensorflow/tsl/platform/profile_utils/cpu_utils.cc:128] Failed to get CPU frequency: 0 Hz\n"
     ]
    },
    {
     "name": "stdout",
     "output_type": "stream",
     "text": [
      "250/250 [==============================] - 2s 5ms/step - loss: 0.6756 - accuracy: 0.5789 - val_loss: 0.6532 - val_accuracy: 0.6745 - lr: 2.0000e-05\n",
      "Epoch 2/10\n",
      "250/250 [==============================] - 1s 4ms/step - loss: 0.6373 - accuracy: 0.6806 - val_loss: 0.6161 - val_accuracy: 0.7100 - lr: 2.0000e-05\n",
      "Epoch 3/10\n",
      "250/250 [==============================] - 1s 4ms/step - loss: 0.5923 - accuracy: 0.7253 - val_loss: 0.5780 - val_accuracy: 0.7325 - lr: 2.0000e-05\n",
      "Epoch 4/10\n",
      "250/250 [==============================] - 1s 4ms/step - loss: 0.5438 - accuracy: 0.7514 - val_loss: 0.5482 - val_accuracy: 0.7350 - lr: 2.0000e-05\n",
      "Epoch 5/10\n",
      "250/250 [==============================] - 1s 4ms/step - loss: 0.5016 - accuracy: 0.7739 - val_loss: 0.5313 - val_accuracy: 0.7390 - lr: 2.0000e-05\n",
      "Epoch 6/10\n",
      "250/250 [==============================] - 1s 4ms/step - loss: 0.4661 - accuracy: 0.7929 - val_loss: 0.5245 - val_accuracy: 0.7405 - lr: 1.8097e-05\n",
      "Epoch 7/10\n",
      "250/250 [==============================] - 1s 4ms/step - loss: 0.4422 - accuracy: 0.8026 - val_loss: 0.5247 - val_accuracy: 0.7370 - lr: 1.6375e-05\n",
      "Epoch 8/10\n",
      "250/250 [==============================] - 1s 4ms/step - loss: 0.4203 - accuracy: 0.8135 - val_loss: 0.5282 - val_accuracy: 0.7405 - lr: 1.4816e-05\n",
      "Epoch 9/10\n",
      "250/250 [==============================] - 1s 4ms/step - loss: 0.4064 - accuracy: 0.8204 - val_loss: 0.5325 - val_accuracy: 0.7405 - lr: 1.3406e-05\n",
      "Epoch 10/10\n",
      "250/250 [==============================] - 1s 4ms/step - loss: 0.3930 - accuracy: 0.8296 - val_loss: 0.5388 - val_accuracy: 0.7385 - lr: 1.2131e-05\n"
     ]
    }
   ],
   "source": [
    "print(\"Multinomial Feedforward Neural Network:\")\n",
    "\n",
    "ff_history = multinomial_model_ff.fit(np.array(X_train_m.toarray()),\n",
    "              np.array(y_train),\n",
    "              epochs=10, batch_size=32,\n",
    "              validation_data=(np.array(X_test_m.toarray()), np.array(y_test)),\n",
    "              callbacks=[lr_callback])"
   ],
   "metadata": {
    "collapsed": false,
    "ExecuteTime": {
     "end_time": "2024-04-09T00:09:07.077834Z",
     "start_time": "2024-04-09T00:08:55.160290Z"
    }
   },
   "id": "2cd7fb6d68c6ce84",
   "execution_count": 9
  },
  {
   "cell_type": "code",
   "outputs": [],
   "source": [
    "# multinomial_model_ff.save('./models/sns_multinomial_ff.h5')\n",
    "# multinomial_model_ff.save('./models/sns_multinomial_ff.keras')"
   ],
   "metadata": {
    "collapsed": false,
    "ExecuteTime": {
     "end_time": "2024-04-09T00:09:09.533429Z",
     "start_time": "2024-04-09T00:09:09.452704Z"
    }
   },
   "id": "33fc96563ddb9a73",
   "execution_count": 10
  },
  {
   "cell_type": "code",
   "outputs": [],
   "source": [
    "# multinomial_model_ff = keras.models.load_model('./models/sns_multinomial.h5')"
   ],
   "metadata": {
    "collapsed": false,
    "ExecuteTime": {
     "end_time": "2024-04-09T00:09:10.552600Z",
     "start_time": "2024-04-09T00:09:10.447650Z"
    }
   },
   "id": "e3b9c6ea201603d8",
   "execution_count": 11
  },
  {
   "cell_type": "markdown",
   "source": [
    "## Tuned Neural Network"
   ],
   "metadata": {
    "collapsed": false
   },
   "id": "5fa721c1a41d21ca"
  },
  {
   "cell_type": "code",
   "outputs": [],
   "source": [
    "def create_tuned_ffnn(hp: kt.HyperParameters):\n",
    "    model = Sequential([\n",
    "        # Input layer\n",
    "        # Input shape is also just vocabulary size\n",
    "        Dense(units=X_train_m.shape[1], input_dim=X_train_m.shape[1], activation='tanh'),\n",
    "        Dropout(0.2),\n",
    "        Dense(units=128, activation='tanh'),\n",
    "        Dropout(0.2),\n",
    "        Dense(units=64, activation='tanh'),\n",
    "        Dropout(0.2),\n",
    "        Dense(units=32, activation='tanh'),\n",
    "        Dropout(0.2),\n",
    "        # Output layer\n",
    "        Dense(units=1, activation='sigmoid')\n",
    "    ])\n",
    "    \n",
    "    hp_learning_rate = hp.Choice('learning_rate', values=[1e-2, 1e-3, 1e-4, 1e-5])\n",
    "    # Legacy Adam\n",
    "    opt = Adam(learning_rate=hp_learning_rate)\n",
    "    model.compile(loss='binary_crossentropy', optimizer=opt, metrics=['accuracy'])\n",
    "    return model"
   ],
   "metadata": {
    "collapsed": false,
    "ExecuteTime": {
     "end_time": "2024-04-13T00:21:22.888918Z",
     "start_time": "2024-04-13T00:21:22.877992Z"
    }
   },
   "id": "db1d96bfb6b95948",
   "execution_count": 30
  },
  {
   "cell_type": "code",
   "outputs": [
    {
     "name": "stdout",
     "output_type": "stream",
     "text": [
      "Reloading Tuner from ./tuners/tuner0.json\n"
     ]
    }
   ],
   "source": [
    "tuner = kt.RandomSearch(create_tuned_ffnn,\n",
    "                     objective='val_accuracy',\n",
    "                     max_trials=5,\n",
    "                     executions_per_trial=1,\n",
    "                     project_name='tuners',\n",
    "                     directory='./')"
   ],
   "metadata": {
    "collapsed": false,
    "ExecuteTime": {
     "end_time": "2024-04-13T00:21:35.563433Z",
     "start_time": "2024-04-13T00:21:35.549136Z"
    }
   },
   "id": "30c3bee73cedab26",
   "execution_count": 33
  },
  {
   "cell_type": "code",
   "outputs": [],
   "source": [
    "stop_early = tf.keras.callbacks.EarlyStopping(monitor='val_loss', patience=5)"
   ],
   "metadata": {
    "collapsed": false,
    "ExecuteTime": {
     "end_time": "2024-04-13T00:21:36.398709Z",
     "start_time": "2024-04-13T00:21:36.396625Z"
    }
   },
   "id": "379bf96234ce93be",
   "execution_count": 34
  },
  {
   "cell_type": "code",
   "outputs": [
    {
     "name": "stdout",
     "output_type": "stream",
     "text": [
      "Trial 15 Complete [00h 05m 19s]\n",
      "val_accuracy: 0.7444999814033508\n",
      "\n",
      "Best val_accuracy So Far: 0.7444999814033508\n",
      "Total elapsed time: 00h 32m 29s\n"
     ]
    }
   ],
   "source": [
    "tuner_history = tuner.search(np.array(X_train_m.toarray()), np.array(y_train), validation_data=(np.array(X_test_m.toarray()), np.array(y_test)), epochs=5, callbacks=[stop_early])"
   ],
   "metadata": {
    "collapsed": false
   },
   "id": "10dab9092677555",
   "execution_count": 36
  },
  {
   "cell_type": "code",
   "outputs": [],
   "source": [
    "best_params = tuner.get_best_hyperparameters(num_trials=1)[0]"
   ],
   "metadata": {
    "collapsed": false,
    "ExecuteTime": {
     "end_time": "2024-04-13T00:27:02.029974Z",
     "start_time": "2024-04-13T00:27:02.026964Z"
    }
   },
   "id": "eba398276088dd89",
   "execution_count": 37
  },
  {
   "cell_type": "code",
   "outputs": [],
   "source": [
    "best_nn = tuner.hypermodel.build(best_params)"
   ],
   "metadata": {
    "collapsed": false,
    "ExecuteTime": {
     "end_time": "2024-04-13T00:27:04.870129Z",
     "start_time": "2024-04-13T00:27:04.343083Z"
    }
   },
   "id": "c8f455656d349244",
   "execution_count": 38
  },
  {
   "cell_type": "code",
   "outputs": [
    {
     "name": "stdout",
     "output_type": "stream",
     "text": [
      "Epoch 1/10\n",
      "250/250 [==============================] - 44s 172ms/step - loss: 0.6397 - accuracy: 0.6639 - val_loss: 0.5932 - val_accuracy: 0.7330 - lr: 1.0000e-05\n",
      "Epoch 2/10\n",
      "250/250 [==============================] - 43s 169ms/step - loss: 0.5600 - accuracy: 0.7464 - val_loss: 0.5480 - val_accuracy: 0.7370 - lr: 1.0000e-05\n",
      "Epoch 3/10\n",
      "250/250 [==============================] - 41s 163ms/step - loss: 0.5032 - accuracy: 0.7781 - val_loss: 0.5252 - val_accuracy: 0.7410 - lr: 1.0000e-05\n",
      "Epoch 4/10\n",
      "250/250 [==============================] - 41s 163ms/step - loss: 0.4621 - accuracy: 0.7960 - val_loss: 0.5174 - val_accuracy: 0.7425 - lr: 1.0000e-05\n",
      "Epoch 5/10\n",
      "250/250 [==============================] - 40s 159ms/step - loss: 0.4257 - accuracy: 0.8179 - val_loss: 0.5205 - val_accuracy: 0.7415 - lr: 1.0000e-05\n",
      "Epoch 6/10\n",
      "250/250 [==============================] - 39s 157ms/step - loss: 0.3971 - accuracy: 0.8313 - val_loss: 0.5291 - val_accuracy: 0.7390 - lr: 9.0484e-06\n",
      "Epoch 7/10\n",
      "250/250 [==============================] - 39s 156ms/step - loss: 0.3769 - accuracy: 0.8405 - val_loss: 0.5407 - val_accuracy: 0.7390 - lr: 8.1873e-06\n",
      "Epoch 8/10\n",
      "250/250 [==============================] - 39s 155ms/step - loss: 0.3584 - accuracy: 0.8479 - val_loss: 0.5539 - val_accuracy: 0.7365 - lr: 7.4082e-06\n",
      "Epoch 9/10\n",
      "250/250 [==============================] - 42s 170ms/step - loss: 0.3433 - accuracy: 0.8543 - val_loss: 0.5670 - val_accuracy: 0.7350 - lr: 6.7032e-06\n",
      "Epoch 10/10\n",
      "250/250 [==============================] - 42s 168ms/step - loss: 0.3314 - accuracy: 0.8545 - val_loss: 0.5800 - val_accuracy: 0.7365 - lr: 6.0653e-06\n"
     ]
    }
   ],
   "source": [
    "best_nn_history = best_nn.fit(np.array(X_train_m.toarray()),\n",
    "              np.array(y_train),\n",
    "              epochs=10, batch_size=32,\n",
    "              validation_data=(np.array(X_test_m.toarray()), np.array(y_test)),\n",
    "              callbacks=[lr_callback])"
   ],
   "metadata": {
    "collapsed": false,
    "ExecuteTime": {
     "end_time": "2024-04-13T00:33:59.167992Z",
     "start_time": "2024-04-13T00:27:07.694131Z"
    }
   },
   "id": "6d0e7c6cbed9d6b",
   "execution_count": 39
  },
  {
   "cell_type": "code",
   "outputs": [],
   "source": [
    "best_nn.save('./models/sns_tuned_nn.h5')\n",
    "best_nn.save_weights('./models/sns_tuned_nn.weights.h5')"
   ],
   "metadata": {
    "collapsed": false
   },
   "id": "dd36f15d40fcfcca",
   "execution_count": null
  },
  {
   "cell_type": "markdown",
   "source": [
    "# Make predictions"
   ],
   "metadata": {
    "collapsed": false
   },
   "id": "a0ebecda2c08f996"
  },
  {
   "cell_type": "code",
   "outputs": [],
   "source": [
    "def probs_to_preds(probabilities: list) -> list[int]:\n",
    "    \"\"\"\n",
    "    Converts continuous (sigmoid) outputs to discrete binary probabilities\n",
    "    :param probabilities: List of probabilities between [0, 1]\n",
    "    :return: \n",
    "    \"\"\"\n",
    "    return [1 if p[0] > 0.5 else 0 for p in probabilities]"
   ],
   "metadata": {
    "collapsed": false,
    "ExecuteTime": {
     "end_time": "2024-04-13T00:35:12.378439Z",
     "start_time": "2024-04-13T00:35:12.372542Z"
    }
   },
   "id": "a657ffdf2cc5425d",
   "execution_count": 40
  },
  {
   "cell_type": "code",
   "outputs": [
    {
     "name": "stdout",
     "output_type": "stream",
     "text": [
      "63/63 [==============================] - 0s 2ms/step\n"
     ]
    }
   ],
   "source": [
    "raw_predictions_ff = multinomial_model_ff.predict(X_test_m.toarray())\n",
    "preds_ff = probs_to_preds(raw_predictions_ff)"
   ],
   "metadata": {
    "collapsed": false,
    "ExecuteTime": {
     "end_time": "2024-04-09T00:10:04.292739Z",
     "start_time": "2024-04-09T00:10:04.064873Z"
    }
   },
   "id": "1978eb826196376e",
   "execution_count": 15
  },
  {
   "cell_type": "code",
   "outputs": [
    {
     "name": "stdout",
     "output_type": "stream",
     "text": [
      "63/63 [==============================] - 1s 14ms/step\n"
     ]
    }
   ],
   "source": [
    "raw_predictions_best_nn = best_nn.predict(X_test_m.toarray())\n",
    "preds_best_nn = probs_to_preds(raw_predictions_best_nn)"
   ],
   "metadata": {
    "collapsed": false,
    "ExecuteTime": {
     "end_time": "2024-04-13T00:35:18.236816Z",
     "start_time": "2024-04-13T00:35:17.071222Z"
    }
   },
   "id": "40e61d0befa97b30",
   "execution_count": 41
  },
  {
   "cell_type": "code",
   "outputs": [
    {
     "name": "stdout",
     "output_type": "stream",
     "text": [
      "Precision: 0.718139534883721\n",
      "Recall: 0.7774420946626385\n",
      "F1 Score: 0.746615087040619\n",
      "Accuracy: 0.738\n"
     ]
    }
   ],
   "source": [
    "_, _, _, _ = du.get_prfa(y_test, preds_ff, verbose=True)"
   ],
   "metadata": {
    "collapsed": false,
    "ExecuteTime": {
     "end_time": "2024-04-09T00:10:11.081031Z",
     "start_time": "2024-04-09T00:10:11.045935Z"
    }
   },
   "id": "85684e6910a7c365",
   "execution_count": 16
  },
  {
   "cell_type": "code",
   "outputs": [
    {
     "name": "stdout",
     "output_type": "stream",
     "text": [
      "Precision: 0.71939736346516\n",
      "Recall: 0.7693856998992951\n",
      "F1 Score: 0.743552311435523\n",
      "Accuracy: 0.7365\n"
     ]
    }
   ],
   "source": [
    "_ = du.get_prfa(y_test, preds_best_nn, verbose=True)"
   ],
   "metadata": {
    "collapsed": false,
    "ExecuteTime": {
     "end_time": "2024-04-13T00:35:27.893422Z",
     "start_time": "2024-04-13T00:35:27.881959Z"
    }
   },
   "id": "65a12529a348b04c",
   "execution_count": 43
  },
  {
   "cell_type": "code",
   "outputs": [],
   "source": [
    "def predict_inflammatory_level(model: Sequential, text):\n",
    "    # Vectorize the input text\n",
    "    X_input = m_vectorizer.transform([text])\n",
    "    \n",
    "    # Get the prediction from the trained model\n",
    "    prediction = model.predict(X_input.toarray())\n",
    "    \n",
    "    # The output is a probability value between 0 and 1\n",
    "    inflammatory_level = prediction[0][0]\n",
    "    \n",
    "    return inflammatory_level"
   ],
   "metadata": {
    "collapsed": false,
    "ExecuteTime": {
     "end_time": "2024-04-13T00:35:41.103160Z",
     "start_time": "2024-04-13T00:35:41.098370Z"
    }
   },
   "id": "d31df7dc6b825378",
   "execution_count": 45
  },
  {
   "cell_type": "code",
   "outputs": [
    {
     "name": "stdout",
     "output_type": "stream",
     "text": [
      "1/1 [==============================] - 0s 13ms/step\n",
      "0.23211204\n"
     ]
    }
   ],
   "source": [
    "# Example of predicting inflammatory text with a probability\n",
    "print(predict_inflammatory_level(multinomial_model_ff, \"test text\"))"
   ],
   "metadata": {
    "collapsed": false,
    "ExecuteTime": {
     "end_time": "2024-04-09T00:10:59.928415Z",
     "start_time": "2024-04-09T00:10:59.889477Z"
    }
   },
   "id": "c0d00bd087f65adf",
   "execution_count": 18
  },
  {
   "cell_type": "code",
   "outputs": [
    {
     "name": "stdout",
     "output_type": "stream",
     "text": [
      "1/1 [==============================] - 0s 12ms/step\n",
      "0.19137672\n"
     ]
    }
   ],
   "source": [
    "print(predict_inflammatory_level(best_nn, \"test text, very passive\"))"
   ],
   "metadata": {
    "collapsed": false,
    "ExecuteTime": {
     "end_time": "2024-04-13T00:36:10.418261Z",
     "start_time": "2024-04-13T00:36:10.357500Z"
    }
   },
   "id": "1c549101fa7e5632",
   "execution_count": 49
  },
  {
   "cell_type": "markdown",
   "source": [
    "# Plot history"
   ],
   "metadata": {
    "collapsed": false
   },
   "id": "cd0c240c167bcc95"
  },
  {
   "cell_type": "code",
   "outputs": [
    {
     "data": {
      "text/plain": "<Figure size 500x800 with 0 Axes>"
     },
     "metadata": {},
     "output_type": "display_data"
    },
    {
     "data": {
      "text/plain": "<Figure size 640x480 with 1 Axes>",
      "image/png": "[encoded data removed]"
     },
     "metadata": {},
     "output_type": "display_data"
    }
   ],
   "source": [
    "plt.figure(figsize=(5, 8))\n",
    "pd.DataFrame(ff_history.history).plot()\n",
    "plt.xlabel(\"Epochs\")\n",
    "plt.ylabel(\"Score\")\n",
    "plt.savefig('./graphs/ff_history_2.png')\n",
    "plt.show()"
   ],
   "metadata": {
    "collapsed": false,
    "ExecuteTime": {
     "end_time": "2024-04-07T17:43:31.867423Z",
     "start_time": "2024-04-07T17:43:31.704734Z"
    }
   },
   "id": "fe570515a32b7956",
   "execution_count": 271
  },
  {
   "cell_type": "code",
   "outputs": [
    {
     "data": {
      "text/plain": "<Figure size 640x480 with 0 Axes>"
     },
     "metadata": {},
     "output_type": "display_data"
    },
    {
     "data": {
      "text/plain": "<Figure size 500x800 with 0 Axes>"
     },
     "metadata": {},
     "output_type": "display_data"
    },
    {
     "data": {
      "text/plain": "<Figure size 640x480 with 1 Axes>",
      "image/png": "[encoded data removed]"
     },
     "metadata": {},
     "output_type": "display_data"
    }
   ],
   "source": [
    "plt.clf()\n",
    "plt.figure(figsize=(5, 8))\n",
    "pd.DataFrame(best_nn_history.history).plot()\n",
    "plt.xlabel(\"Epochs\")\n",
    "plt.ylabel(\"Score\")\n",
    "plt.title(\"Tuned Neural Network Performance over Epochs\")\n",
    "plt.savefig('./graphs/best_nn_history.png')\n",
    "plt.show()"
   ],
   "metadata": {
    "collapsed": false,
    "ExecuteTime": {
     "end_time": "2024-04-13T00:39:49.004252Z",
     "start_time": "2024-04-13T00:39:48.804293Z"
    }
   },
   "id": "d937544e7b5e53d0",
   "execution_count": 53
  }
 ],
 "metadata": {
  "kernelspec": {
   "display_name": "Python 3",
   "language": "python",
   "name": "python3"
  },
  "language_info": {
   "codemirror_mode": {
    "name": "ipython",
    "version": 2
   },
   "file_extension": ".py",
   "mimetype": "text/x-python",
   "name": "python",
   "nbconvert_exporter": "python",
   "pygments_lexer": "ipython2",
   "version": "2.7.6"
  }
 },
 "nbformat": 4,
 "nbformat_minor": 5
}
