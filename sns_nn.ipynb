{
 "cells": [
  {
   "cell_type": "markdown",
   "source": [
    "# SNS Sentiment Analysis NN\n",
    "\n",
    "Analyze social media texts and measure potential inflammatory / offensive language with a feedforward neural network."
   ],
   "metadata": {
    "collapsed": false
   },
   "id": "5614af81228c83e9"
  },
  {
   "cell_type": "code",
   "outputs": [],
   "source": [
    "import ast\n",
    "import numpy as np\n",
    "import pandas as pd\n",
    "import tensorflow as tf\n",
    "import data_util as du\n",
    "import keras\n",
    "from keras.models import Sequential\n",
    "from keras.layers import Dense, Dropout\n",
    "from keras.optimizers.legacy import Adam\n",
    "from sklearn.feature_extraction.text import CountVectorizer\n",
    "from matplotlib import pyplot as plt"
   ],
   "metadata": {
    "collapsed": false,
    "ExecuteTime": {
     "end_time": "2024-04-07T17:42:45.047619Z",
     "start_time": "2024-04-07T17:42:45.042787Z"
    }
   },
   "id": "ddee305a1b2a80d8",
   "execution_count": 269
  },
  {
   "cell_type": "markdown",
   "source": [
    "# Load Data\n",
    "\n",
    "Load preprocessed data, vocabulary included. "
   ],
   "metadata": {
    "collapsed": false
   },
   "id": "b8b14a0fda3ba9b7"
  },
  {
   "cell_type": "code",
   "outputs": [
    {
     "name": "stdout",
     "output_type": "stream",
     "text": [
      "(8000,) (8000,)\n",
      "(2000,) (2000,)\n",
      "Vocabulary size: 11560\n"
     ]
    }
   ],
   "source": [
    "# Load dataset\n",
    "train = pd.read_csv(\"./datasets/processed/train.csv\")\n",
    "X_train = train[train.columns[0]].apply(ast.literal_eval)\n",
    "y_train = train[train.columns[1]].astype(int)\n",
    "print(X_train.shape, y_train.shape)\n",
    "\n",
    "test = pd.read_csv(\"./datasets/processed/test.csv\")\n",
    "X_test = test[test.columns[0]].apply(ast.literal_eval)\n",
    "y_test = test[test.columns[1]].astype(int)\n",
    "print(X_test.shape, y_test.shape)\n",
    "\n",
    "# Load vocabulary\n",
    "vocabulary = ast.literal_eval(open(\"./datasets/processed/vocabulary.txt\", \"r\").read())\n",
    "print(\"Vocabulary size:\", len(vocabulary))"
   ],
   "metadata": {
    "collapsed": false,
    "ExecuteTime": {
     "end_time": "2024-04-07T16:51:37.842645Z",
     "start_time": "2024-04-07T16:51:37.308862Z"
    }
   },
   "id": "f3353cbd63cea128",
   "execution_count": 145
  },
  {
   "cell_type": "code",
   "outputs": [
    {
     "name": "stdout",
     "output_type": "stream",
     "text": [
      "Lengths of train and test: 8000 2000\n",
      "train:test ratio: 0.8\n",
      "test:train ratio: 0.2\n"
     ]
    }
   ],
   "source": [
    "train_text = [\" \".join(s) for s in X_train]\n",
    "test_text = [\" \".join(s) for s in X_test]\n",
    "print(\"Lengths of train and test:\", len(train_text), len(test_text))\n",
    "print(\"train:test ratio:\", len(train_text) / (len(train_text) + len(test_text)))\n",
    "print(\"test:train ratio:\", len(test_text) / (len(train_text) + len(test_text)))"
   ],
   "metadata": {
    "collapsed": false,
    "ExecuteTime": {
     "end_time": "2024-04-07T16:51:37.856514Z",
     "start_time": "2024-04-07T16:51:37.843669Z"
    }
   },
   "id": "d678733692490132",
   "execution_count": 146
  },
  {
   "cell_type": "markdown",
   "source": [
    "# Vectorize data\n",
    "\n",
    "In multinomial vectorization, we use it to calculate probabilities based on frequency of words from the vocabulary than whether the word has appeared at least once."
   ],
   "metadata": {
    "collapsed": false
   },
   "id": "e7f386939c8df7b9"
  },
  {
   "cell_type": "code",
   "outputs": [],
   "source": [
    "# Multinomial vectorizer, used to calculate probabilities based on vocabulary frequencies \n",
    "m_vectorizer = CountVectorizer(input='content', stop_words='english', binary=False, vocabulary=vocabulary, tokenizer=None, preprocessor=None)\n",
    "X_train_m = m_vectorizer.fit_transform(train_text)\n",
    "X_test_m = m_vectorizer.transform(test_text)"
   ],
   "metadata": {
    "collapsed": false,
    "ExecuteTime": {
     "end_time": "2024-04-07T17:01:48.769858Z",
     "start_time": "2024-04-07T17:01:48.612218Z"
    }
   },
   "id": "4ca5c2fda149009b",
   "execution_count": 182
  },
  {
   "cell_type": "markdown",
   "source": [
    "# Create a feedforward neural network then train it\n",
    "\n",
    "Network has been tuned with different values for optimal results."
   ],
   "metadata": {
    "collapsed": false
   },
   "id": "78a043c02d2fd1e9"
  },
  {
   "cell_type": "code",
   "outputs": [],
   "source": [
    "def create_ff_neural_network(X_training_data):\n",
    "    model = Sequential([\n",
    "        # Input layer\n",
    "        # Input shape is also just vocabulary size\n",
    "        Dense(units=256, input_dim=X_training_data.shape[1], activation='tanh'),\n",
    "        Dropout(0.2),\n",
    "        Dense(units=128, activation='tanh'),\n",
    "        Dropout(0.2),\n",
    "        Dense(units=64, activation='tanh'),\n",
    "        Dropout(0.2),\n",
    "        Dense(units=32, activation='tanh'),\n",
    "        Dropout(0.2),\n",
    "        # Output layer\n",
    "        Dense(units=1, activation='sigmoid')\n",
    "    ])\n",
    "    \n",
    "    # Legacy Adam\n",
    "    opt = Adam(learning_rate=2e-5)\n",
    "    model.compile(loss='binary_crossentropy', optimizer=opt, metrics=['accuracy'])\n",
    "    return model"
   ],
   "metadata": {
    "collapsed": false,
    "ExecuteTime": {
     "end_time": "2024-04-07T17:33:31.312754Z",
     "start_time": "2024-04-07T17:33:31.307729Z"
    }
   },
   "id": "699bbea8dd4293a4",
   "execution_count": 255
  },
  {
   "cell_type": "code",
   "outputs": [
    {
     "name": "stdout",
     "output_type": "stream",
     "text": [
      "Model: \"sequential_23\"\n",
      "_________________________________________________________________\n",
      " Layer (type)                Output Shape              Param #   \n",
      "=================================================================\n",
      " dense_108 (Dense)           (None, 256)               2959616   \n",
      "                                                                 \n",
      " dropout_68 (Dropout)        (None, 256)               0         \n",
      "                                                                 \n",
      " dense_109 (Dense)           (None, 128)               32896     \n",
      "                                                                 \n",
      " dropout_69 (Dropout)        (None, 128)               0         \n",
      "                                                                 \n",
      " dense_110 (Dense)           (None, 64)                8256      \n",
      "                                                                 \n",
      " dropout_70 (Dropout)        (None, 64)                0         \n",
      "                                                                 \n",
      " dense_111 (Dense)           (None, 32)                2080      \n",
      "                                                                 \n",
      " dropout_71 (Dropout)        (None, 32)                0         \n",
      "                                                                 \n",
      " dense_112 (Dense)           (None, 1)                 33        \n",
      "                                                                 \n",
      "=================================================================\n",
      "Total params: 3002881 (11.46 MB)\n",
      "Trainable params: 3002881 (11.46 MB)\n",
      "Non-trainable params: 0 (0.00 Byte)\n",
      "_________________________________________________________________\n"
     ]
    }
   ],
   "source": [
    "multinomial_model_ff = create_ff_neural_network(X_train_m)\n",
    "multinomial_model_ff.summary()"
   ],
   "metadata": {
    "collapsed": false,
    "ExecuteTime": {
     "end_time": "2024-04-07T17:33:31.960603Z",
     "start_time": "2024-04-07T17:33:31.911975Z"
    }
   },
   "id": "cb36400665ebf981",
   "execution_count": 256
  },
  {
   "cell_type": "code",
   "outputs": [],
   "source": [
    "# Learning rate scheduler\n",
    "def scheduler(epoch, lr):\n",
    "    if epoch < 5:\n",
    "        return lr\n",
    "    else:\n",
    "        return lr * tf.math.exp(-0.1)\n",
    "\n",
    "# Create a learning rate callback\n",
    "lr_callback = tf.keras.callbacks.LearningRateScheduler(scheduler)"
   ],
   "metadata": {
    "collapsed": false,
    "ExecuteTime": {
     "end_time": "2024-04-07T17:33:36.118389Z",
     "start_time": "2024-04-07T17:33:36.113918Z"
    }
   },
   "id": "1994fdbffa2d705b",
   "execution_count": 257
  },
  {
   "cell_type": "code",
   "outputs": [
    {
     "name": "stdout",
     "output_type": "stream",
     "text": [
      "Multinomial Feedforward Neural Network:\n",
      "Epoch 1/10\n",
      "250/250 [==============================] - 5s 16ms/step - loss: 0.6845 - accuracy: 0.5633 - val_loss: 0.6696 - val_accuracy: 0.6655 - lr: 2.0000e-05\n",
      "Epoch 2/10\n",
      "250/250 [==============================] - 3s 12ms/step - loss: 0.6575 - accuracy: 0.6628 - val_loss: 0.6381 - val_accuracy: 0.7055 - lr: 2.0000e-05\n",
      "Epoch 3/10\n",
      "250/250 [==============================] - 3s 12ms/step - loss: 0.6163 - accuracy: 0.7226 - val_loss: 0.5960 - val_accuracy: 0.7210 - lr: 2.0000e-05\n",
      "Epoch 4/10\n",
      "250/250 [==============================] - 2s 10ms/step - loss: 0.5657 - accuracy: 0.7458 - val_loss: 0.5577 - val_accuracy: 0.7310 - lr: 2.0000e-05\n",
      "Epoch 5/10\n",
      "250/250 [==============================] - 2s 10ms/step - loss: 0.5155 - accuracy: 0.7659 - val_loss: 0.5330 - val_accuracy: 0.7390 - lr: 2.0000e-05\n",
      "Epoch 6/10\n",
      "250/250 [==============================] - 2s 10ms/step - loss: 0.4772 - accuracy: 0.7878 - val_loss: 0.5228 - val_accuracy: 0.7425 - lr: 1.8097e-05\n",
      "Epoch 7/10\n",
      "250/250 [==============================] - 2s 10ms/step - loss: 0.4475 - accuracy: 0.8001 - val_loss: 0.5199 - val_accuracy: 0.7420 - lr: 1.6375e-05\n",
      "Epoch 8/10\n",
      "250/250 [==============================] - 2s 10ms/step - loss: 0.4270 - accuracy: 0.8139 - val_loss: 0.5212 - val_accuracy: 0.7415 - lr: 1.4816e-05\n",
      "Epoch 9/10\n",
      "250/250 [==============================] - 2s 9ms/step - loss: 0.4097 - accuracy: 0.8192 - val_loss: 0.5250 - val_accuracy: 0.7390 - lr: 1.3406e-05\n",
      "Epoch 10/10\n",
      "250/250 [==============================] - 2s 10ms/step - loss: 0.3938 - accuracy: 0.8290 - val_loss: 0.5297 - val_accuracy: 0.7380 - lr: 1.2131e-05\n"
     ]
    }
   ],
   "source": [
    "print(\"Multinomial Feedforward Neural Network:\")\n",
    "\n",
    "ff_history = multinomial_model_ff.fit(np.array(X_train_m.toarray()),\n",
    "              np.array(y_train),\n",
    "              epochs=10, batch_size=32,\n",
    "              validation_data=(np.array(X_test_m.toarray()), np.array(y_test)),\n",
    "              callbacks=[lr_callback])"
   ],
   "metadata": {
    "collapsed": false,
    "ExecuteTime": {
     "end_time": "2024-04-07T17:34:05.202406Z",
     "start_time": "2024-04-07T17:33:36.948579Z"
    }
   },
   "id": "2cd7fb6d68c6ce84",
   "execution_count": 258
  },
  {
   "cell_type": "code",
   "outputs": [],
   "source": [
    "multinomial_model_ff.save('./models/sns_multinomial_ff.h5')\n",
    "multinomial_model_ff.save('./models/sns_multinomial_ff.keras')"
   ],
   "metadata": {
    "collapsed": false
   },
   "id": "33fc96563ddb9a73",
   "execution_count": null
  },
  {
   "cell_type": "code",
   "outputs": [],
   "source": [
    "multinomial_model_ff = keras.models.load_model('./models/sns_multinomial.h5')"
   ],
   "metadata": {
    "collapsed": false,
    "ExecuteTime": {
     "end_time": "2024-04-07T17:25:55.866636Z",
     "start_time": "2024-04-07T17:25:55.710561Z"
    }
   },
   "id": "e3b9c6ea201603d8",
   "execution_count": 242
  },
  {
   "cell_type": "markdown",
   "source": [
    "# Make predictions"
   ],
   "metadata": {
    "collapsed": false
   },
   "id": "a0ebecda2c08f996"
  },
  {
   "cell_type": "code",
   "outputs": [],
   "source": [
    "def probs_to_preds(probabilities: list) -> list[int]:\n",
    "    \"\"\"\n",
    "    Converts continuous (sigmoid) outputs to discrete binary probabilities\n",
    "    :param probabilities: List of probabilities between [0, 1]\n",
    "    :return: \n",
    "    \"\"\"\n",
    "    return [1 if p[0] > 0.5 else 0 for p in probabilities]"
   ],
   "metadata": {
    "collapsed": false,
    "ExecuteTime": {
     "end_time": "2024-04-07T17:34:30.479616Z",
     "start_time": "2024-04-07T17:34:30.475922Z"
    }
   },
   "id": "a657ffdf2cc5425d",
   "execution_count": 260
  },
  {
   "cell_type": "code",
   "outputs": [
    {
     "name": "stdout",
     "output_type": "stream",
     "text": [
      "63/63 [==============================] - 0s 2ms/step\n"
     ]
    }
   ],
   "source": [
    "raw_predictions_ff = multinomial_model_ff.predict(X_test_m.toarray())\n",
    "preds_ff = probs_to_preds(raw_predictions_ff)"
   ],
   "metadata": {
    "collapsed": false,
    "ExecuteTime": {
     "end_time": "2024-04-07T17:34:31.081814Z",
     "start_time": "2024-04-07T17:34:30.678440Z"
    }
   },
   "id": "1978eb826196376e",
   "execution_count": 261
  },
  {
   "cell_type": "code",
   "outputs": [
    {
     "name": "stdout",
     "output_type": "stream",
     "text": [
      "Precision: 0.718139534883721\n",
      "Recall: 0.7774420946626385\n",
      "F1 Score: 0.746615087040619\n",
      "Accuracy: 0.738\n"
     ]
    }
   ],
   "source": [
    "_, _, _, _ = du.get_prfa(y_test, preds_ff, verbose=True)"
   ],
   "metadata": {
    "collapsed": false,
    "ExecuteTime": {
     "end_time": "2024-04-07T17:34:33.172345Z",
     "start_time": "2024-04-07T17:34:33.157513Z"
    }
   },
   "id": "85684e6910a7c365",
   "execution_count": 262
  },
  {
   "cell_type": "code",
   "outputs": [],
   "source": [
    "def predict_inflammatory_level(model: Sequential, text):\n",
    "    # Vectorize the input text\n",
    "    X_input = m_vectorizer.transform([text])\n",
    "    \n",
    "    # Get the prediction from the trained model\n",
    "    prediction = model.predict(X_input.toarray())\n",
    "    \n",
    "    # The output is a probability value between 0 and 1\n",
    "    inflammatory_level = prediction[0][0]\n",
    "    \n",
    "    return inflammatory_level"
   ],
   "metadata": {
    "collapsed": false,
    "ExecuteTime": {
     "end_time": "2024-04-07T17:34:37.113502Z",
     "start_time": "2024-04-07T17:34:37.108707Z"
    }
   },
   "id": "d31df7dc6b825378",
   "execution_count": 263
  },
  {
   "cell_type": "code",
   "outputs": [
    {
     "name": "stdout",
     "output_type": "stream",
     "text": [
      "1/1 [==============================] - 0s 13ms/step\n",
      "0.23211196\n"
     ]
    }
   ],
   "source": [
    "# Example of predicting inflammatory text with a probability\n",
    "print(predict_inflammatory_level(multinomial_model_ff, \"test text\"))"
   ],
   "metadata": {
    "collapsed": false,
    "ExecuteTime": {
     "end_time": "2024-04-07T17:35:06.125480Z",
     "start_time": "2024-04-07T17:35:06.079008Z"
    }
   },
   "id": "c0d00bd087f65adf",
   "execution_count": 266
  },
  {
   "cell_type": "markdown",
   "source": [
    "# Plot history"
   ],
   "metadata": {
    "collapsed": false
   },
   "id": "cd0c240c167bcc95"
  },
  {
   "cell_type": "code",
   "outputs": [
    {
     "data": {
      "text/plain": "<Figure size 500x800 with 0 Axes>"
     },
     "metadata": {},
     "output_type": "display_data"
    },
    {
     "data": {
      "text/plain": "<Figure size 640x480 with 1 Axes>",
      "image/png": "[encoded data removed]"
     },
     "metadata": {},
     "output_type": "display_data"
    }
   ],
   "source": [
    "plt.figure(figsize=(5, 8))\n",
    "pd.DataFrame(ff_history.history).plot()\n",
    "plt.savefig('./graphs/ff_history.png')\n",
    "plt.xlabel(\"Epochs\")\n",
    "plt.ylabel(\"Score\")\n",
    "plt.show()"
   ],
   "metadata": {
    "collapsed": false,
    "ExecuteTime": {
     "end_time": "2024-04-07T17:43:31.867423Z",
     "start_time": "2024-04-07T17:43:31.704734Z"
    }
   },
   "id": "fe570515a32b7956",
   "execution_count": 271
  }
 ],
 "metadata": {
  "kernelspec": {
   "display_name": "Python 3",
   "language": "python",
   "name": "python3"
  },
  "language_info": {
   "codemirror_mode": {
    "name": "ipython",
    "version": 2
   },
   "file_extension": ".py",
   "mimetype": "text/x-python",
   "name": "python",
   "nbconvert_exporter": "python",
   "pygments_lexer": "ipython2",
   "version": "2.7.6"
  }
 },
 "nbformat": 4,
 "nbformat_minor": 5
}
