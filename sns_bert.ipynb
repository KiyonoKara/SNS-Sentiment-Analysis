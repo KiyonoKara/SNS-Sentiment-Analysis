{
 "cells": [
  {
   "cell_type": "markdown",
   "source": [
    "# SNS Sentiment Analysis BERT\n",
    "\n",
    "Analyze social media texts and measure potential inflammatory / offensive language with a BERT neural network.\n",
    "\n",
    "(This does not work, unable to pass data through the BERT model, Iter nor Tensor conversions are working at all for the data and model)."
   ],
   "metadata": {
    "collapsed": false
   },
   "id": "bc952063a2c1e5aa"
  },
  {
   "cell_type": "code",
   "outputs": [],
   "source": [
    "import ast\n",
    "import data_util as du\n",
    "import matplotlib.pyplot as plt\n",
    "import numpy as np\n",
    "import pandas as pd\n",
    "import tensorflow as tf\n",
    "import keras_tuner as kt\n",
    "import transformers\n",
    "import json\n",
    "from transformers import TFBertModel, BertTokenizer"
   ],
   "metadata": {
    "collapsed": false,
    "ExecuteTime": {
     "end_time": "2024-04-13T01:48:02.382808Z",
     "start_time": "2024-04-13T01:48:02.380248Z"
    }
   },
   "id": "6ce8c337d98e9337",
   "execution_count": 29
  },
  {
   "cell_type": "code",
   "outputs": [],
   "source": [
    "# Load the pre-trained BERT model and tokenizer\n",
    "tokenizer = BertTokenizer.from_pretrained('bert-base-uncased')\n",
    "bert_model = TFBertModel.from_pretrained('bert-base-uncased', output_hidden_states=False, return_dict=False)\n",
    "bert_model.trainable = False"
   ],
   "metadata": {
    "collapsed": false
   },
   "id": "d3db10e7bbe9c1cc",
   "execution_count": null
  },
  {
   "cell_type": "code",
   "outputs": [
    {
     "name": "stdout",
     "output_type": "stream",
     "text": [
      "Tensorflow Version :  2.14.0\n",
      "Transformers Version :  4.35.0\n"
     ]
    }
   ],
   "source": [
    "print(\"Tensorflow Version : \", tf.__version__)\n",
    "print(\"Transformers Version : \", transformers.__version__)"
   ],
   "metadata": {
    "collapsed": false,
    "ExecuteTime": {
     "end_time": "2024-04-13T01:02:01.096784Z",
     "start_time": "2024-04-13T01:02:01.092992Z"
    }
   },
   "id": "f8713cddac2c6e22",
   "execution_count": 5
  },
  {
   "cell_type": "markdown",
   "source": [
    "# Load the data"
   ],
   "metadata": {
    "collapsed": false
   },
   "id": "9aa46c2e6d9392a6"
  },
  {
   "cell_type": "code",
   "outputs": [
    {
     "name": "stdout",
     "output_type": "stream",
     "text": [
      "(8000,) (8000,)\n",
      "(2000,) (2000,)\n"
     ]
    }
   ],
   "source": [
    "# Load dataset\n",
    "train = pd.read_csv(\"./datasets/processed/train.csv\")\n",
    "X_train = train[train.columns[0]].apply(ast.literal_eval)\n",
    "y_train = train[train.columns[1]].astype(int)\n",
    "print(X_train.shape, y_train.shape)\n",
    "\n",
    "test = pd.read_csv(\"./datasets/processed/test.csv\")\n",
    "X_test = test[test.columns[0]].apply(ast.literal_eval)\n",
    "y_test = test[test.columns[1]].astype(int)\n",
    "print(X_test.shape, y_test.shape)"
   ],
   "metadata": {
    "collapsed": false,
    "ExecuteTime": {
     "end_time": "2024-04-13T01:02:03.577199Z",
     "start_time": "2024-04-13T01:02:02.900209Z"
    }
   },
   "id": "76d1f06a3663a7f0",
   "execution_count": 6
  },
  {
   "cell_type": "code",
   "outputs": [],
   "source": [
    "train_text = [\" \".join(s) for s in X_train]\n",
    "test_text = [\" \".join(s) for s in X_test]"
   ],
   "metadata": {
    "collapsed": false,
    "ExecuteTime": {
     "end_time": "2024-04-13T01:02:04.022668Z",
     "start_time": "2024-04-13T01:02:04.006966Z"
    }
   },
   "id": "d9165aebb007aaff",
   "execution_count": 7
  },
  {
   "cell_type": "code",
   "outputs": [
    {
     "data": {
      "text/plain": "{'input_ids': <tf.Tensor: shape=(2, 512), dtype=int32, numpy=\narray([[ 101, 3231, 6251, ...,    0,    0,    0],\n       [ 101, 2023, 2003, ...,    0,    0,    0]], dtype=int32)>, 'token_type_ids': <tf.Tensor: shape=(2, 512), dtype=int32, numpy=\narray([[0, 0, 0, ..., 0, 0, 0],\n       [0, 0, 0, ..., 0, 0, 0]], dtype=int32)>, 'attention_mask': <tf.Tensor: shape=(2, 512), dtype=int32, numpy=\narray([[1, 1, 1, ..., 0, 0, 0],\n       [1, 1, 1, ..., 0, 0, 0]], dtype=int32)>}"
     },
     "execution_count": 6,
     "metadata": {},
     "output_type": "execute_result"
    }
   ],
   "source": [
    "# Testing\n",
    "example_input = tokenizer([\"Test sentence\", \"This is a test sentence\"], padding='max_length', truncation=True, return_tensors='tf')\n",
    "example_input"
   ],
   "metadata": {
    "collapsed": false,
    "ExecuteTime": {
     "end_time": "2024-04-09T03:27:11.235250Z",
     "start_time": "2024-04-09T03:27:11.230360Z"
    }
   },
   "id": "20cc39d220235809",
   "execution_count": 6
  },
  {
   "cell_type": "code",
   "outputs": [],
   "source": [
    "MAX_LENGTH = 128\n",
    "BATCH_SIZE = 4\n",
    "\n",
    "# Tokenize the training data\n",
    "X_train_tokens = tokenizer.batch_encode_plus(\n",
    "    train_text,\n",
    "    max_length=MAX_LENGTH,\n",
    "    padding='max_length',\n",
    "    truncation=True,\n",
    "    return_tensors='tf'\n",
    ")\n",
    "\n",
    "# Tokenize the testing data\n",
    "X_test_tokens = tokenizer.batch_encode_plus(\n",
    "    test_text,\n",
    "    max_length=MAX_LENGTH,\n",
    "    padding='max_length',\n",
    "    truncation=True,\n",
    "    return_tensors='tf'\n",
    ")"
   ],
   "metadata": {
    "collapsed": false,
    "ExecuteTime": {
     "end_time": "2024-04-13T01:30:28.963398Z",
     "start_time": "2024-04-13T01:30:24.358991Z"
    }
   },
   "id": "f5cd3ff8085b5be2",
   "execution_count": 19
  },
  {
   "cell_type": "markdown",
   "source": [
    "# Create and train BERT neural network"
   ],
   "metadata": {
    "collapsed": false
   },
   "id": "13a6d1fdfb5e16d6"
  },
  {
   "cell_type": "code",
   "outputs": [],
   "source": [
    "def create_bert_model():\n",
    "    input_ids = tf.keras.layers.Input(shape=(None,), dtype=tf.int32, name='input_ids')\n",
    "    attention_mask = tf.keras.layers.Input(shape=(None,), dtype=tf.int32, name='attention_mask')\n",
    "    token_type_ids = tf.keras.layers.Input(shape=(None,), dtype=tf.int32, name='token_type_ids')\n",
    "\n",
    "    bert_output = bert_model(input_ids, attention_mask=attention_mask, token_type_ids=token_type_ids)\n",
    "    sequence_output = bert_output[0]\n",
    "    # Take the [CLS] token representation\n",
    "    pooled_output = sequence_output[:, 0, :]\n",
    "\n",
    "    x = tf.keras.layers.Dropout(0.2)(pooled_output)\n",
    "    x = tf.keras.layers.Dense(256, activation='relu')(x)\n",
    "    x = tf.keras.layers.Dropout(0.2)(x)\n",
    "    output = tf.keras.layers.Dense(1, activation='sigmoid')(x)\n",
    "\n",
    "    model = tf.keras.Model(inputs=[input_ids, attention_mask, token_type_ids], outputs=output)\n",
    "    model.compile(optimizer=tf.keras.optimizers.legacy.Adam(learning_rate=1e-3), loss='binary_crossentropy', metrics=['accuracy'])\n",
    "\n",
    "    return model"
   ],
   "metadata": {
    "collapsed": false,
    "ExecuteTime": {
     "end_time": "2024-04-09T03:27:16.093502Z",
     "start_time": "2024-04-09T03:27:16.089892Z"
    }
   },
   "id": "b21c8f62fb049987",
   "execution_count": 8
  },
  {
   "cell_type": "code",
   "outputs": [],
   "source": [
    "bert_classifier = create_bert_model()"
   ],
   "metadata": {
    "collapsed": false,
    "ExecuteTime": {
     "end_time": "2024-04-09T03:27:18.290216Z",
     "start_time": "2024-04-09T03:27:16.094361Z"
    }
   },
   "id": "f51a783da964925c",
   "execution_count": 9
  },
  {
   "cell_type": "code",
   "outputs": [],
   "source": [
    "# Learning rate scheduler\n",
    "def scheduler(epoch, lr):\n",
    "    if epoch < 3:\n",
    "        return lr\n",
    "    else:\n",
    "        return lr * tf.math.exp(-0.1)\n",
    "\n",
    "# Create a learning rate callback\n",
    "lr_callback = tf.keras.callbacks.LearningRateScheduler(scheduler)"
   ],
   "metadata": {
    "collapsed": false,
    "ExecuteTime": {
     "end_time": "2024-04-13T01:30:43.136454Z",
     "start_time": "2024-04-13T01:30:43.132849Z"
    }
   },
   "id": "1b007f6f529a0f9",
   "execution_count": 21
  },
  {
   "cell_type": "code",
   "outputs": [
    {
     "name": "stdout",
     "output_type": "stream",
     "text": [
      "Epoch 1/5\n",
      "500/500 [==============================] - 43s 79ms/step - loss: 0.5723 - accuracy: 0.7265 - val_loss: 0.6305 - val_accuracy: 0.6719 - lr: 0.0010\n",
      "Epoch 2/5\n",
      "500/500 [==============================] - 37s 75ms/step - loss: 0.5072 - accuracy: 0.7540 - val_loss: 0.9280 - val_accuracy: 0.5469 - lr: 0.0010\n",
      "Epoch 3/5\n",
      "500/500 [==============================] - 37s 75ms/step - loss: 0.5259 - accuracy: 0.7415 - val_loss: 0.6956 - val_accuracy: 0.6562 - lr: 0.0010\n",
      "Epoch 4/5\n",
      "500/500 [==============================] - 38s 76ms/step - loss: 0.5022 - accuracy: 0.7675 - val_loss: 0.7409 - val_accuracy: 0.6094 - lr: 9.0484e-04\n",
      "Epoch 5/5\n",
      "500/500 [==============================] - 43s 85ms/step - loss: 0.4887 - accuracy: 0.7680 - val_loss: 0.5935 - val_accuracy: 0.6719 - lr: 8.1873e-04\n"
     ]
    }
   ],
   "source": [
    "bert_history = bert_classifier.fit(\n",
    "    [X_train_tokens['input_ids'], X_train_tokens['attention_mask'], X_train_tokens['token_type_ids']],\n",
    "    y_train,\n",
    "    epochs=5,\n",
    "    batch_size=BATCH_SIZE,\n",
    "    steps_per_epoch=len(train_text) // (BATCH_SIZE * 4),\n",
    "    validation_data=([X_test_tokens['input_ids'], X_test_tokens['attention_mask'], X_test_tokens['token_type_ids']], y_test),\n",
    "    validation_steps=BATCH_SIZE * 4,\n",
    "    validation_batch_size=BATCH_SIZE,\n",
    "    callbacks=lr_callback\n",
    ")"
   ],
   "metadata": {
    "collapsed": false,
    "ExecuteTime": {
     "end_time": "2024-04-09T03:30:37.246334Z",
     "start_time": "2024-04-09T03:27:18.294195Z"
    }
   },
   "id": "4edbeecf635cfa64",
   "execution_count": 11
  },
  {
   "cell_type": "code",
   "outputs": [],
   "source": [
    "# Saving model\n",
    "bert_classifier.save('./models/sns_bert_model_2.keras')"
   ],
   "metadata": {
    "collapsed": false
   },
   "id": "105ec182c1d49182",
   "execution_count": null
  },
  {
   "cell_type": "code",
   "outputs": [],
   "source": [
    "# Save weights, this is an important step\n",
    "bert_classifier.save_weights('./models/sns_bert_2.weights.h5')"
   ],
   "metadata": {
    "collapsed": false
   },
   "id": "7bf9b8ccb53fbe52",
   "execution_count": null
  },
  {
   "cell_type": "code",
   "outputs": [],
   "source": [
    "# Save model as JSON\n",
    "bert_json = bert_classifier.to_json()\n",
    "with open('./models/sns_bert_model_2.json', 'w') as f:\n",
    "    f.write(bert_json)\n",
    "    f.close()"
   ],
   "metadata": {
    "collapsed": false,
    "ExecuteTime": {
     "end_time": "2024-04-09T03:32:21.219764Z",
     "start_time": "2024-04-09T03:32:21.212820Z"
    }
   },
   "id": "7161569275888a9a",
   "execution_count": 16
  },
  {
   "cell_type": "code",
   "outputs": [],
   "source": [
    "# Load model from weights\n",
    "bert_loaded = create_bert_model()\n",
    "bert_loaded.load_weights('./models/sns_bert_2.weights.h5')"
   ],
   "metadata": {
    "collapsed": false
   },
   "id": "a4741bb48c3699cf",
   "execution_count": null
  },
  {
   "cell_type": "markdown",
   "source": [
    "# Tuned BERT model"
   ],
   "metadata": {
    "collapsed": false
   },
   "id": "c434111f8f65204c"
  },
  {
   "cell_type": "code",
   "outputs": [],
   "source": [
    "def create_tuned_bert_model(hp: kt.HyperParameters):\n",
    "    input_ids = tf.keras.layers.Input(shape=(MAX_LENGTH,), dtype=tf.int32, name='input_ids')\n",
    "    attention_mask = tf.keras.layers.Input(shape=(MAX_LENGTH,), dtype=tf.int32, name='attention_mask')\n",
    "    token_type_ids = tf.keras.layers.Input(shape=(MAX_LENGTH,), dtype=tf.int32, name='token_type_ids')\n",
    "\n",
    "    bert_output = bert_model(input_ids, attention_mask=attention_mask, token_type_ids=token_type_ids)\n",
    "    sequence_output = bert_output[0]\n",
    "    # Take the [CLS] token representation\n",
    "    pooled_output = sequence_output[:, 0, :]\n",
    "    \n",
    "    dropout_rate = hp.Float('dropout', min_value=0.1, max_value=0.5, step=0.1)\n",
    "    dense_units = hp.Int('dense_units', min_value=64, max_value=256, step=64)\n",
    "    \n",
    "    x = tf.keras.layers.Dropout(dropout_rate)(pooled_output)\n",
    "    x = tf.keras.layers.Dense(dense_units, activation='relu')(x)\n",
    "    output = tf.keras.layers.Dense(1, activation='sigmoid')(x)\n",
    "    \n",
    "    learning_rate = hp.Choice('learning_rate', values=[1e-5, 1e-4, 1e-3])\n",
    "\n",
    "    model = tf.keras.Model(inputs=[input_ids, attention_mask, token_type_ids], outputs=output)\n",
    "    model.compile(optimizer=tf.keras.optimizers.legacy.Adam(learning_rate=learning_rate), loss='binary_crossentropy', metrics=['accuracy'])\n",
    "\n",
    "    return model"
   ],
   "metadata": {
    "collapsed": false,
    "ExecuteTime": {
     "end_time": "2024-04-13T01:02:13.453432Z",
     "start_time": "2024-04-13T01:02:13.446602Z"
    }
   },
   "id": "37e5388a0420481b",
   "execution_count": 9
  },
  {
   "cell_type": "code",
   "outputs": [
    {
     "name": "stdout",
     "output_type": "stream",
     "text": [
      "Reloading Tuner from ./bert_tuning/tuner0.json\n"
     ]
    }
   ],
   "source": [
    "tuner = kt.RandomSearch(\n",
    "    create_tuned_bert_model,\n",
    "    objective='val_accuracy',\n",
    "    max_trials=1,\n",
    "    executions_per_trial=1,\n",
    "    directory='./',\n",
    "    project_name='bert_tuning'\n",
    ")"
   ],
   "metadata": {
    "collapsed": false,
    "ExecuteTime": {
     "end_time": "2024-04-13T01:13:52.593650Z",
     "start_time": "2024-04-13T01:13:52.586541Z"
    }
   },
   "id": "463dea62b3ca6a6",
   "execution_count": 14
  },
  {
   "cell_type": "code",
   "outputs": [],
   "source": [
    "stop_early = tf.keras.callbacks.EarlyStopping(monitor='val_loss', patience=3)"
   ],
   "metadata": {
    "collapsed": false,
    "ExecuteTime": {
     "end_time": "2024-04-13T01:13:53.122033Z",
     "start_time": "2024-04-13T01:13:53.119719Z"
    }
   },
   "id": "958cba00e23ae0fd",
   "execution_count": 15
  },
  {
   "cell_type": "code",
   "outputs": [
    {
     "name": "stdout",
     "output_type": "stream",
     "text": [
      "Trial 2 Complete [00h 15m 48s]\n",
      "val_accuracy: 0.7929999828338623\n",
      "\n",
      "Best val_accuracy So Far: 0.8040000200271606\n",
      "Total elapsed time: 00h 25m 04s\n"
     ]
    }
   ],
   "source": [
    "tuner.search([X_train_tokens['input_ids'], X_train_tokens['attention_mask'], X_train_tokens['token_type_ids']], y_train,\n",
    "             validation_data=([X_test_tokens['input_ids'], X_test_tokens['attention_mask'], X_test_tokens['token_type_ids']], y_test),\n",
    "             epochs=2, callbacks=[stop_early])"
   ],
   "metadata": {
    "collapsed": false
   },
   "id": "924e37c22a4e9a8f",
   "execution_count": 16
  },
  {
   "cell_type": "code",
   "outputs": [],
   "source": [
    "with open('./models/sns_tuned_bert_hp_config.json', 'w') as f:\n",
    "     json.dump(tuner.get_best_hyperparameters(num_trials=1)[0].get_config(), f)"
   ],
   "metadata": {
    "collapsed": false,
    "ExecuteTime": {
     "end_time": "2024-04-13T01:54:48.999700Z",
     "start_time": "2024-04-13T01:54:48.996112Z"
    }
   },
   "id": "1cf384436e0f3878",
   "execution_count": 41
  },
  {
   "cell_type": "code",
   "outputs": [
    {
     "name": "stdout",
     "output_type": "stream",
     "text": [
      "Model: \"model\"\n",
      "__________________________________________________________________________________________________\n",
      " Layer (type)                Output Shape                 Param #   Connected to                  \n",
      "==================================================================================================\n",
      " input_ids (InputLayer)      [(None, 128)]                0         []                            \n",
      "                                                                                                  \n",
      " attention_mask (InputLayer  [(None, 128)]                0         []                            \n",
      " )                                                                                                \n",
      "                                                                                                  \n",
      " token_type_ids (InputLayer  [(None, 128)]                0         []                            \n",
      " )                                                                                                \n",
      "                                                                                                  \n",
      " tf_bert_model (TFBertModel  ((None, 128, 768),           1094822   ['input_ids[0][0]',           \n",
      " )                            (None, 768))                40         'attention_mask[0][0]',      \n",
      "                                                                     'token_type_ids[0][0]']      \n",
      "                                                                                                  \n",
      " tf.__operators__.getitem (  (None, 768)                  0         ['tf_bert_model[5][0]']       \n",
      " SlicingOpLambda)                                                                                 \n",
      "                                                                                                  \n",
      " dropout (Dropout)           (None, 768)                  0         ['tf.__operators__.getitem[0][\n",
      "                                                                    0]']                          \n",
      "                                                                                                  \n",
      " dense (Dense)               (None, 192)                  147648    ['dropout[0][0]']             \n",
      "                                                                                                  \n",
      " dense_1 (Dense)             (None, 1)                    193       ['dense[0][0]']               \n",
      "                                                                                                  \n",
      "==================================================================================================\n",
      "Total params: 109630081 (418.21 MB)\n",
      "Trainable params: 147841 (577.50 KB)\n",
      "Non-trainable params: 109482240 (417.64 MB)\n",
      "__________________________________________________________________________________________________\n"
     ]
    }
   ],
   "source": [
    "best_bert_model = tuner.get_best_models(num_models=1)[0]\n",
    "best_bert_model.summary()\n",
    "print()"
   ],
   "metadata": {
    "collapsed": false,
    "ExecuteTime": {
     "end_time": "2024-04-13T01:29:46.998405Z",
     "start_time": "2024-04-13T01:29:43.043225Z"
    }
   },
   "id": "6e285d55a66845e0",
   "execution_count": 17
  },
  {
   "cell_type": "code",
   "outputs": [
    {
     "name": "stdout",
     "output_type": "stream",
     "text": [
      "Epoch 1/5\n",
      "500/500 [==============================] - 114s 216ms/step - loss: 0.5283 - accuracy: 0.7475 - val_loss: 0.4651 - val_accuracy: 0.8125 - lr: 0.0010\n",
      "Epoch 2/5\n",
      "500/500 [==============================] - 83s 167ms/step - loss: 0.4837 - accuracy: 0.7780 - val_loss: 0.5798 - val_accuracy: 0.6719 - lr: 0.0010\n",
      "Epoch 3/5\n",
      "500/500 [==============================] - 83s 165ms/step - loss: 0.4930 - accuracy: 0.7705 - val_loss: 0.6261 - val_accuracy: 0.6719 - lr: 0.0010\n",
      "Epoch 4/5\n",
      "500/500 [==============================] - 82s 165ms/step - loss: 0.4466 - accuracy: 0.7970 - val_loss: 0.4805 - val_accuracy: 0.8281 - lr: 9.0484e-04\n",
      "Epoch 5/5\n",
      "500/500 [==============================] - 85s 170ms/step - loss: 0.4690 - accuracy: 0.7765 - val_loss: 0.4629 - val_accuracy: 0.8125 - lr: 8.1873e-04\n"
     ]
    }
   ],
   "source": [
    "best_bert_history = best_bert_model.fit(\n",
    "    [X_train_tokens['input_ids'], X_train_tokens['attention_mask'], X_train_tokens['token_type_ids']],\n",
    "    y_train,\n",
    "    epochs=5,\n",
    "    batch_size=BATCH_SIZE,\n",
    "    steps_per_epoch=len(train_text) // (BATCH_SIZE * 4),\n",
    "    validation_data=([X_test_tokens['input_ids'], X_test_tokens['attention_mask'], X_test_tokens['token_type_ids']], y_test),\n",
    "    validation_steps=BATCH_SIZE * 4,\n",
    "    validation_batch_size=BATCH_SIZE,\n",
    "    callbacks=lr_callback\n",
    ")"
   ],
   "metadata": {
    "collapsed": false,
    "ExecuteTime": {
     "end_time": "2024-04-13T01:38:14.407748Z",
     "start_time": "2024-04-13T01:30:46.965929Z"
    }
   },
   "id": "9b45b5048b5664e5",
   "execution_count": 22
  },
  {
   "cell_type": "code",
   "outputs": [],
   "source": [
    "# Save weights\n",
    "best_bert_model.save_weights('./models/sns_tuned_bert.weights.h5')"
   ],
   "metadata": {
    "collapsed": false
   },
   "id": "d764b6516994102d",
   "execution_count": null
  },
  {
   "cell_type": "code",
   "outputs": [],
   "source": [
    "# Save model as JSON\n",
    "tuned_bert_json = best_bert_model.to_json()\n",
    "with open('./models/sns_tuned_bert_model.json', 'w') as f:\n",
    "    f.write(tuned_bert_json)\n",
    "    f.close()"
   ],
   "metadata": {
    "collapsed": false,
    "ExecuteTime": {
     "end_time": "2024-04-13T01:54:28.475265Z",
     "start_time": "2024-04-13T01:54:28.467873Z"
    }
   },
   "id": "704dffd427701eb6",
   "execution_count": 39
  },
  {
   "cell_type": "code",
   "outputs": [],
   "source": [
    "# Load model from hyperparameter config and weights\n",
    "with open('./models/tuned_bert_hp_config.json', 'r') as f:\n",
    "    hp_config = json.loads(f.read())\n",
    "    f.close()\n",
    "\n",
    "hp_loaded = kt.HyperParameters().from_config(hp_config)\n",
    "tuned_bert_loaded = create_tuned_bert_model(hp_loaded)\n",
    "# tuned_bert_json_loaded = tf.keras.models.model_from_json(..., custom_objects={'TFBertModel': TFBertModel})\n",
    "tuned_bert_loaded.load_weights('./models/sns_tuned_bert.weights.h5')"
   ],
   "metadata": {
    "collapsed": false
   },
   "id": "4c48891648a3735f",
   "execution_count": null
  },
  {
   "cell_type": "markdown",
   "source": [
    "# Predictions   "
   ],
   "metadata": {
    "collapsed": false
   },
   "id": "8818c2a8f8a54327"
  },
  {
   "cell_type": "code",
   "outputs": [],
   "source": [
    "# Our test data batch\n",
    "test_data_batch = [X_test_tokens['input_ids'], X_test_tokens['attention_mask'], X_test_tokens['token_type_ids']]"
   ],
   "metadata": {
    "collapsed": false,
    "ExecuteTime": {
     "end_time": "2024-04-13T02:05:20.751109Z",
     "start_time": "2024-04-13T02:05:20.748067Z"
    }
   },
   "id": "bff7927bce29e32a",
   "execution_count": 61
  },
  {
   "cell_type": "code",
   "outputs": [
    {
     "name": "stdout",
     "output_type": "stream",
     "text": [
      "63/63 [==============================] - 36s 558ms/step\n",
      "63/63 [==============================] - 41s 607ms/step\n"
     ]
    }
   ],
   "source": [
    "# Assert loaded model and trained model are (almost) the same\n",
    "np.testing.assert_allclose(\n",
    "    bert_classifier.predict(test_data_batch),\n",
    "    bert_loaded.predict(test_data_batch)\n",
    ")"
   ],
   "metadata": {
    "collapsed": false,
    "ExecuteTime": {
     "end_time": "2024-04-09T03:36:48.459331Z",
     "start_time": "2024-04-09T03:35:31.792322Z"
    }
   },
   "id": "8a1bbfd7e76b6977",
   "execution_count": 22
  },
  {
   "cell_type": "code",
   "outputs": [],
   "source": [
    "# Load model from architecture with weights\n",
    "with open('./models/sns_bert_model_2.json', 'r') as f:\n",
    "    json_config = f.read()\n",
    "    f.close()\n",
    "bert_json_loaded = tf.keras.models.model_from_json(json_config, custom_objects={'TFBertModel': TFBertModel})\n",
    "bert_json_loaded.load_weights('./models/sns_bert_2.weights.h5')"
   ],
   "metadata": {
    "collapsed": false
   },
   "id": "e030a8e3bd77755b",
   "execution_count": 0
  },
  {
   "cell_type": "code",
   "outputs": [
    {
     "name": "stdout",
     "output_type": "stream",
     "text": [
      "63/63 [==============================] - 50s 793ms/step\n"
     ]
    }
   ],
   "source": [
    "# Test trained model\n",
    "bert_preds = bert_classifier.predict(test_data_batch)"
   ],
   "metadata": {
    "collapsed": false,
    "ExecuteTime": {
     "end_time": "2024-04-09T03:37:42.331588Z",
     "start_time": "2024-04-09T03:36:52.094780Z"
    }
   },
   "id": "e1a31d142ee2ecfa",
   "execution_count": 23
  },
  {
   "cell_type": "code",
   "outputs": [
    {
     "name": "stdout",
     "output_type": "stream",
     "text": [
      "7/7 [==============================] - 8s 763ms/step\n"
     ]
    }
   ],
   "source": [
    "# Test loaded model\n",
    "loaded_bert_preds = bert_loaded.predict(test_data_batch)"
   ],
   "metadata": {
    "collapsed": false,
    "ExecuteTime": {
     "end_time": "2024-04-08T23:11:24.012654Z",
     "start_time": "2024-04-08T23:11:15.660136Z"
    }
   },
   "id": "982b1b2b0c214a70",
   "execution_count": 26
  },
  {
   "cell_type": "code",
   "outputs": [
    {
     "name": "stdout",
     "output_type": "stream",
     "text": [
      "7/7 [==============================] - 12s 1s/step\n"
     ]
    }
   ],
   "source": [
    "# Test loaded JSON model\n",
    "bert_json_preds = bert_json_loaded.predict(test_data_batch)"
   ],
   "metadata": {
    "collapsed": false,
    "ExecuteTime": {
     "end_time": "2024-04-08T23:43:32.177406Z",
     "start_time": "2024-04-08T23:43:20.157003Z"
    }
   },
   "id": "6a82a77ea9b8850b",
   "execution_count": 71
  },
  {
   "cell_type": "code",
   "outputs": [
    {
     "name": "stdout",
     "output_type": "stream",
     "text": [
      "63/63 [==============================] - 42s 618ms/step\n"
     ]
    }
   ],
   "source": [
    "# Test tuned BERT\n",
    "bert_tuned_preds = best_bert_model.predict(test_data_batch)"
   ],
   "metadata": {
    "collapsed": false,
    "ExecuteTime": {
     "end_time": "2024-04-13T02:06:07.331096Z",
     "start_time": "2024-04-13T02:05:25.046286Z"
    }
   },
   "id": "757cc1ab5fb8ea3e",
   "execution_count": 62
  },
  {
   "cell_type": "code",
   "outputs": [
    {
     "name": "stdout",
     "output_type": "stream",
     "text": [
      "Precision: 0.8168202764976958\n",
      "Recall: 0.7139979859013091\n",
      "F1 Score: 0.7619559376679204\n",
      "Accuracy: 0.7785\n"
     ]
    }
   ],
   "source": [
    "_ = du.get_prfa(y_test, du.probs_to_preds(bert_preds), verbose=True)"
   ],
   "metadata": {
    "collapsed": false,
    "ExecuteTime": {
     "end_time": "2024-04-09T03:37:48.245476Z",
     "start_time": "2024-04-09T03:37:48.212387Z"
    }
   },
   "id": "5ff05a78b9029fd1",
   "execution_count": 24
  },
  {
   "cell_type": "code",
   "outputs": [
    {
     "name": "stdout",
     "output_type": "stream",
     "text": [
      "Precision: 0.8028169014084507\n",
      "Recall: 0.5\n",
      "F1 Score: 0.6162162162162163\n",
      "Accuracy: 0.645\n"
     ]
    }
   ],
   "source": [
    "_ = du.get_prfa(y_test, du.probs_to_preds(loaded_bert_preds), verbose=True)"
   ],
   "metadata": {
    "collapsed": false,
    "ExecuteTime": {
     "end_time": "2024-04-08T23:11:25.325918Z",
     "start_time": "2024-04-08T23:11:25.315437Z"
    }
   },
   "id": "69499d4c721298a2",
   "execution_count": 27
  },
  {
   "cell_type": "code",
   "outputs": [
    {
     "name": "stdout",
     "output_type": "stream",
     "text": [
      "Precision: 0.8028169014084507\n",
      "Recall: 0.5\n",
      "F1 Score: 0.6162162162162163\n",
      "Accuracy: 0.645\n"
     ]
    }
   ],
   "source": [
    "_ = du.get_prfa(y_test, du.probs_to_preds(bert_json_preds), verbose=True)"
   ],
   "metadata": {
    "collapsed": false,
    "ExecuteTime": {
     "end_time": "2024-04-08T23:43:34.641636Z",
     "start_time": "2024-04-08T23:43:34.631551Z"
    }
   },
   "id": "415ee3c400467172",
   "execution_count": 72
  },
  {
   "cell_type": "code",
   "outputs": [
    {
     "name": "stdout",
     "output_type": "stream",
     "text": [
      "Precision: 0.7743086529884032\n",
      "Recall: 0.8741188318227593\n",
      "F1 Score: 0.8211920529801323\n",
      "Accuracy: 0.811\n"
     ]
    }
   ],
   "source": [
    "_ = du.get_prfa(y_test, du.probs_to_preds(bert_tuned_preds), verbose=True)"
   ],
   "metadata": {
    "collapsed": false,
    "ExecuteTime": {
     "end_time": "2024-04-13T02:06:52.423010Z",
     "start_time": "2024-04-13T02:06:52.406669Z"
    }
   },
   "id": "ea56d1ccadf2cffa",
   "execution_count": 63
  },
  {
   "cell_type": "code",
   "outputs": [
    {
     "name": "stdout",
     "output_type": "stream",
     "text": [
      "7/7 [==============================] - 15s 2s/step - loss: 1.1698 - accuracy: 0.5950\n",
      "Loss: 1.1697783470153809\n",
      "Accuracy: 0.5950000286102295\n"
     ]
    }
   ],
   "source": [
    "# Extra evaluation\n",
    "metrics = bert_classifier.evaluate(test_data_batch, y_test)\n",
    "print(\"Loss:\", metrics[0])\n",
    "print(\"Accuracy:\", metrics[1]) "
   ],
   "metadata": {
    "collapsed": false,
    "ExecuteTime": {
     "end_time": "2024-04-08T16:09:11.709692Z",
     "start_time": "2024-04-08T16:08:56.373038Z"
    }
   },
   "id": "91f6291db8cfbd0b",
   "execution_count": 104
  },
  {
   "cell_type": "code",
   "outputs": [
    {
     "name": "stdout",
     "output_type": "stream",
     "text": [
      "63/63 [==============================] - 45s 636ms/step - loss: 0.4342 - accuracy: 0.8110\n",
      "Loss: 0.4341728687286377\n",
      "Accuracy: 0.8109999895095825\n"
     ]
    }
   ],
   "source": [
    "# Best model evaluation\n",
    "b_metrics = best_bert_model.evaluate(test_data_batch, y_test)\n",
    "print(\"Loss:\", b_metrics[0])\n",
    "print(\"Accuracy:\", b_metrics[1]) "
   ],
   "metadata": {
    "collapsed": false,
    "ExecuteTime": {
     "end_time": "2024-04-13T02:15:42.679292Z",
     "start_time": "2024-04-13T02:14:57.905078Z"
    }
   },
   "id": "9de81b17ed400e69",
   "execution_count": 64
  },
  {
   "cell_type": "code",
   "outputs": [
    {
     "name": "stdout",
     "output_type": "stream",
     "text": [
      "1/1 [==============================] - 5s 5s/step\n",
      "Precision: 1.0\n",
      "Recall: 0.5\n",
      "F1 Score: 0.6666666666666666\n",
      "Accuracy: 0.8\n"
     ]
    }
   ],
   "source": [
    "# Use a smaller batch of test data\n",
    "demo_data = tokenizer(test_text[:5], return_tensors=\"tf\", max_length=128, padding='max_length', truncation=True)\n",
    "\n",
    "demo_predictions = bert_classifier.predict([demo_data['input_ids'], demo_data['attention_mask'], demo_data['token_type_ids']])\n",
    "\n",
    "_ = du.get_prfa(y_test[:5], du.probs_to_preds(demo_predictions), verbose=True)"
   ],
   "metadata": {
    "collapsed": false,
    "ExecuteTime": {
     "end_time": "2024-04-08T16:10:29.140542Z",
     "start_time": "2024-04-08T16:10:24.482905Z"
    }
   },
   "id": "3abf711cb5417f16",
   "execution_count": 108
  },
  {
   "cell_type": "code",
   "outputs": [
    {
     "data": {
      "text/plain": "<Figure size 500x800 with 0 Axes>"
     },
     "metadata": {},
     "output_type": "display_data"
    },
    {
     "data": {
      "text/plain": "<Figure size 640x480 with 1 Axes>",
      "image/png": "[encoded data removed]"
     },
     "metadata": {},
     "output_type": "display_data"
    }
   ],
   "source": [
    "plt.figure(figsize=(5, 8))\n",
    "pd.DataFrame(bert_history.history).plot()\n",
    "plt.title(\"BERT training graph of epochs vs. performance (score)\")\n",
    "plt.xlabel(\"Epochs\")\n",
    "plt.ylabel(\"Score\")\n",
    "plt.savefig('./graphs/bert_history_4.png')\n",
    "plt.show()"
   ],
   "metadata": {
    "collapsed": false,
    "ExecuteTime": {
     "end_time": "2024-04-09T03:38:42.352779Z",
     "start_time": "2024-04-09T03:38:42.056595Z"
    }
   },
   "id": "c26cc5c699acb134",
   "execution_count": 25
  },
  {
   "cell_type": "code",
   "outputs": [
    {
     "data": {
      "text/plain": "<Figure size 640x480 with 0 Axes>"
     },
     "metadata": {},
     "output_type": "display_data"
    },
    {
     "data": {
      "text/plain": "<Figure size 500x800 with 0 Axes>"
     },
     "metadata": {},
     "output_type": "display_data"
    },
    {
     "data": {
      "text/plain": "<Figure size 640x480 with 1 Axes>",
      "image/png": "[encoded data removed]"
     },
     "metadata": {},
     "output_type": "display_data"
    }
   ],
   "source": [
    "plt.clf()\n",
    "plt.figure(figsize=(5, 8))\n",
    "pd.DataFrame(best_bert_history.history).plot()\n",
    "plt.title(\"Tuned BERT training graph of epochs vs. performance (score)\")\n",
    "plt.xlabel(\"Epochs\")\n",
    "plt.ylabel(\"Score\")\n",
    "plt.savefig('./graphs/tuned_bert_history.png')\n",
    "plt.show()"
   ],
   "metadata": {
    "collapsed": false,
    "ExecuteTime": {
     "end_time": "2024-04-13T02:15:51.649056Z",
     "start_time": "2024-04-13T02:15:51.384292Z"
    }
   },
   "id": "e6e4245a87e9b9ea",
   "execution_count": 65
  }
 ],
 "metadata": {
  "kernelspec": {
   "display_name": "Python 3",
   "language": "python",
   "name": "python3"
  },
  "language_info": {
   "codemirror_mode": {
    "name": "ipython",
    "version": 2
   },
   "file_extension": ".py",
   "mimetype": "text/x-python",
   "name": "python",
   "nbconvert_exporter": "python",
   "pygments_lexer": "ipython2",
   "version": "2.7.6"
  }
 },
 "nbformat": 4,
 "nbformat_minor": 5
}
