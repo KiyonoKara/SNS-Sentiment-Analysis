{
 "cells": [
  {
   "cell_type": "markdown",
   "source": [
    "# SNS Sentiment Analysis BERT\n",
    "\n",
    "Analyze social media texts and measure potential inflammatory / offensive language with a BERT neural network.\n",
    "\n",
    "(This does not work, unable to pass data through the BERT model, Iter nor Tensor conversions are working at all for the data and model)."
   ],
   "metadata": {
    "collapsed": false
   },
   "id": "bc952063a2c1e5aa"
  },
  {
   "cell_type": "code",
   "outputs": [],
   "source": [
    "import ast\n",
    "import data_util as du\n",
    "import matplotlib.pyplot as plt\n",
    "import pandas as pd\n",
    "import tensorflow as tf\n",
    "import torch\n",
    "import transformers\n",
    "from transformers import TFBertModel, BertTokenizer"
   ],
   "metadata": {
    "collapsed": false,
    "ExecuteTime": {
     "end_time": "2024-04-08T15:44:37.361806Z",
     "start_time": "2024-04-08T15:44:37.356919Z"
    }
   },
   "id": "6ce8c337d98e9337",
   "execution_count": 66
  },
  {
   "cell_type": "code",
   "outputs": [
    {
     "name": "stderr",
     "output_type": "stream",
     "text": [
      "Some weights of the PyTorch model were not used when initializing the TF 2.0 model TFBertModel: ['cls.seq_relationship.weight', 'cls.seq_relationship.bias', 'cls.predictions.bias', 'cls.predictions.transform.LayerNorm.weight', 'cls.predictions.transform.dense.bias', 'cls.predictions.transform.dense.weight', 'cls.predictions.transform.LayerNorm.bias']\n",
      "- This IS expected if you are initializing TFBertModel from a PyTorch model trained on another task or with another architecture (e.g. initializing a TFBertForSequenceClassification model from a BertForPreTraining model).\n",
      "- This IS NOT expected if you are initializing TFBertModel from a PyTorch model that you expect to be exactly identical (e.g. initializing a TFBertForSequenceClassification model from a BertForSequenceClassification model).\n",
      "All the weights of TFBertModel were initialized from the PyTorch model.\n",
      "If your task is similar to the task the model of the checkpoint was trained on, you can already use TFBertModel for predictions without further training.\n"
     ]
    }
   ],
   "source": [
    "# Load the pre-trained BERT model and tokenizer\n",
    "tokenizer = BertTokenizer.from_pretrained('bert-base-uncased')\n",
    "bert_model = TFBertModel.from_pretrained('bert-base-uncased', output_hidden_states=False, return_dict=False)\n",
    "bert_model.trainable = False"
   ],
   "metadata": {
    "collapsed": false,
    "ExecuteTime": {
     "end_time": "2024-04-08T15:24:55.684896Z",
     "start_time": "2024-04-08T15:24:53.360200Z"
    }
   },
   "id": "d3db10e7bbe9c1cc",
   "execution_count": 25
  },
  {
   "cell_type": "code",
   "outputs": [
    {
     "name": "stdout",
     "output_type": "stream",
     "text": [
      "Tensorflow Version :  2.14.0\n",
      "Transformers Version :  4.35.0\n"
     ]
    }
   ],
   "source": [
    "print(\"Tensorflow Version : \", tf.__version__)\n",
    "print(\"Transformers Version : \", transformers.__version__)"
   ],
   "metadata": {
    "collapsed": false,
    "ExecuteTime": {
     "end_time": "2024-04-08T15:24:55.688023Z",
     "start_time": "2024-04-08T15:24:55.686104Z"
    }
   },
   "id": "f8713cddac2c6e22",
   "execution_count": 26
  },
  {
   "cell_type": "markdown",
   "source": [
    "# Load the data"
   ],
   "metadata": {
    "collapsed": false
   },
   "id": "9aa46c2e6d9392a6"
  },
  {
   "cell_type": "code",
   "outputs": [
    {
     "name": "stdout",
     "output_type": "stream",
     "text": [
      "(800,) (200,)\n",
      "(800,) (200,)\n"
     ]
    }
   ],
   "source": [
    "# Load dataset\n",
    "train = pd.read_csv(\"./datasets/processed/train.csv\")\n",
    "X_train = train[train.columns[0]].apply(ast.literal_eval)[:800]\n",
    "y_train = train[train.columns[1]].astype(int)[:200]\n",
    "print(X_train.shape, y_train.shape)\n",
    "\n",
    "test = pd.read_csv(\"./datasets/processed/test.csv\")\n",
    "X_test = test[test.columns[0]].apply(ast.literal_eval)[:800]\n",
    "y_test = test[test.columns[1]].astype(int)[:200]\n",
    "print(X_test.shape, y_test.shape)"
   ],
   "metadata": {
    "collapsed": false,
    "ExecuteTime": {
     "end_time": "2024-04-08T15:24:57.880039Z",
     "start_time": "2024-04-08T15:24:57.290903Z"
    }
   },
   "id": "76d1f06a3663a7f0",
   "execution_count": 27
  },
  {
   "cell_type": "code",
   "outputs": [],
   "source": [
    "train_text = [\" \".join(s) for s in X_train]\n",
    "test_text = [\" \".join(s) for s in X_test]"
   ],
   "metadata": {
    "collapsed": false,
    "ExecuteTime": {
     "end_time": "2024-04-08T15:24:58.622025Z",
     "start_time": "2024-04-08T15:24:58.615059Z"
    }
   },
   "id": "d9165aebb007aaff",
   "execution_count": 28
  },
  {
   "cell_type": "code",
   "outputs": [
    {
     "data": {
      "text/plain": "{'input_ids': <tf.Tensor: shape=(2, 512), dtype=int32, numpy=\narray([[ 101, 3231, 6251, ...,    0,    0,    0],\n       [ 101, 2023, 2003, ...,    0,    0,    0]], dtype=int32)>, 'token_type_ids': <tf.Tensor: shape=(2, 512), dtype=int32, numpy=\narray([[0, 0, 0, ..., 0, 0, 0],\n       [0, 0, 0, ..., 0, 0, 0]], dtype=int32)>, 'attention_mask': <tf.Tensor: shape=(2, 512), dtype=int32, numpy=\narray([[1, 1, 1, ..., 0, 0, 0],\n       [1, 1, 1, ..., 0, 0, 0]], dtype=int32)>}"
     },
     "execution_count": 29,
     "metadata": {},
     "output_type": "execute_result"
    }
   ],
   "source": [
    "# Testing\n",
    "example_input = tokenizer([\"Test sentence\", \"This is a test sentence\"], padding='max_length', truncation=True, return_tensors='tf')\n",
    "example_input"
   ],
   "metadata": {
    "collapsed": false,
    "ExecuteTime": {
     "end_time": "2024-04-08T15:24:58.943295Z",
     "start_time": "2024-04-08T15:24:58.935317Z"
    }
   },
   "id": "20cc39d220235809",
   "execution_count": 29
  },
  {
   "cell_type": "code",
   "outputs": [],
   "source": [
    "MAX_LENGTH = 128\n",
    "\n",
    "# Tokenize the training data\n",
    "X_train_tokens = tokenizer.batch_encode_plus(\n",
    "    train_text[:200],\n",
    "    max_length=MAX_LENGTH,\n",
    "    padding='max_length',\n",
    "    truncation=True,\n",
    "    return_tensors='tf'\n",
    ")\n",
    "\n",
    "# Tokenize the testing data\n",
    "X_test_tokens = tokenizer.batch_encode_plus(\n",
    "    test_text[:200],\n",
    "    max_length=MAX_LENGTH,\n",
    "    padding='max_length',\n",
    "    truncation=True,\n",
    "    return_tensors='tf'\n",
    ")"
   ],
   "metadata": {
    "collapsed": false,
    "ExecuteTime": {
     "end_time": "2024-04-08T15:25:22.390755Z",
     "start_time": "2024-04-08T15:25:22.194434Z"
    }
   },
   "id": "f5cd3ff8085b5be2",
   "execution_count": 34
  },
  {
   "cell_type": "markdown",
   "source": [
    "# Create and train BERT neural network"
   ],
   "metadata": {
    "collapsed": false
   },
   "id": "13a6d1fdfb5e16d6"
  },
  {
   "cell_type": "code",
   "outputs": [],
   "source": [
    "def create_bert_model():\n",
    "    input_ids = tf.keras.layers.Input(shape=(None,), dtype=tf.int32, name='input_ids')\n",
    "    attention_mask = tf.keras.layers.Input(shape=(None,), dtype=tf.int32, name='attention_mask')\n",
    "    token_type_ids = tf.keras.layers.Input(shape=(None,), dtype=tf.int32, name='token_type_ids')\n",
    "\n",
    "    bert_output = bert_model(input_ids, attention_mask=attention_mask, token_type_ids=token_type_ids)\n",
    "    sequence_output = bert_output[0]\n",
    "    # Take the [CLS] token representation\n",
    "    pooled_output = sequence_output[:, 0, :]\n",
    "\n",
    "    x = tf.keras.layers.Dropout(0.2)(pooled_output)\n",
    "    x = tf.keras.layers.Dense(256, activation='relu')(x)\n",
    "    x = tf.keras.layers.Dropout(0.2)(x)\n",
    "    output = tf.keras.layers.Dense(1, activation='sigmoid')(x)\n",
    "\n",
    "    model = tf.keras.Model(inputs=[input_ids, attention_mask, token_type_ids], outputs=output)\n",
    "    model.compile(optimizer=tf.keras.optimizers.legacy.Adam(learning_rate=1e-3), loss='binary_crossentropy', metrics=['accuracy'])\n",
    "\n",
    "    return model"
   ],
   "metadata": {
    "collapsed": false,
    "ExecuteTime": {
     "end_time": "2024-04-08T15:50:07.934541Z",
     "start_time": "2024-04-08T15:50:07.927834Z"
    }
   },
   "id": "b21c8f62fb049987",
   "execution_count": 77
  },
  {
   "cell_type": "code",
   "outputs": [],
   "source": [
    "bert_classifier = create_bert_model()"
   ],
   "metadata": {
    "collapsed": false,
    "ExecuteTime": {
     "end_time": "2024-04-08T15:50:08.791999Z",
     "start_time": "2024-04-08T15:50:08.049902Z"
    }
   },
   "id": "f51a783da964925c",
   "execution_count": 78
  },
  {
   "cell_type": "code",
   "outputs": [],
   "source": [
    "# Learning rate scheduler\n",
    "def scheduler(epoch, lr):\n",
    "    if epoch < 3:\n",
    "        return lr\n",
    "    else:\n",
    "        return lr * tf.math.exp(-0.1)\n",
    "\n",
    "# Create a learning rate callback\n",
    "lr_callback = tf.keras.callbacks.LearningRateScheduler(scheduler)"
   ],
   "metadata": {
    "collapsed": false,
    "ExecuteTime": {
     "end_time": "2024-04-08T15:51:33.542451Z",
     "start_time": "2024-04-08T15:51:33.534623Z"
    }
   },
   "id": "1b007f6f529a0f9",
   "execution_count": 80
  },
  {
   "cell_type": "code",
   "outputs": [
    {
     "name": "stdout",
     "output_type": "stream",
     "text": [
      "Epoch 1/5\n",
      "50/50 [==============================] - 5s 103ms/step - loss: 0.3019 - accuracy: 0.8750 - val_loss: 1.0696 - val_accuracy: 0.5469 - lr: 0.0010\n",
      "Epoch 2/5\n",
      "50/50 [==============================] - 5s 95ms/step - loss: 0.2811 - accuracy: 0.9100 - val_loss: 0.8075 - val_accuracy: 0.6406 - lr: 0.0010\n",
      "Epoch 3/5\n",
      "50/50 [==============================] - 5s 95ms/step - loss: 0.2491 - accuracy: 0.8900 - val_loss: 0.9969 - val_accuracy: 0.5938 - lr: 0.0010\n",
      "Epoch 4/5\n",
      "50/50 [==============================] - 5s 95ms/step - loss: 0.2925 - accuracy: 0.8850 - val_loss: 0.6230 - val_accuracy: 0.6406 - lr: 9.0484e-04\n",
      "Epoch 5/5\n",
      "50/50 [==============================] - 5s 97ms/step - loss: 0.1834 - accuracy: 0.9500 - val_loss: 1.0326 - val_accuracy: 0.5781 - lr: 8.1873e-04\n"
     ]
    }
   ],
   "source": [
    "BATCH_SIZE = 4\n",
    "\n",
    "bert_history = bert_classifier.fit(\n",
    "    [X_train_tokens['input_ids'], X_train_tokens['attention_mask'], X_train_tokens['token_type_ids']],\n",
    "    y_train,\n",
    "    epochs=5,\n",
    "    batch_size=BATCH_SIZE,\n",
    "    steps_per_epoch=len(train_text) // (BATCH_SIZE * 4),\n",
    "    validation_data=([X_test_tokens['input_ids'], X_test_tokens['attention_mask'], X_test_tokens['token_type_ids']], y_test),\n",
    "    validation_steps=BATCH_SIZE * 4,\n",
    "    validation_batch_size=BATCH_SIZE,\n",
    "    callbacks=lr_callback\n",
    ")"
   ],
   "metadata": {
    "collapsed": false,
    "ExecuteTime": {
     "end_time": "2024-04-08T15:51:58.363874Z",
     "start_time": "2024-04-08T15:51:33.934898Z"
    }
   },
   "id": "4edbeecf635cfa64",
   "execution_count": 81
  },
  {
   "cell_type": "code",
   "outputs": [],
   "source": [
    "bert_model.save('./models/sns_bert_model')"
   ],
   "metadata": {
    "collapsed": false
   },
   "id": "105ec182c1d49182",
   "execution_count": null
  },
  {
   "cell_type": "code",
   "outputs": [],
   "source": [
    "bert_model.save_weights('./models/sns_bert_weights.h5')"
   ],
   "metadata": {
    "collapsed": false,
    "ExecuteTime": {
     "end_time": "2024-04-08T16:02:31.862909Z",
     "start_time": "2024-04-08T16:02:30.860899Z"
    }
   },
   "id": "7bf9b8ccb53fbe52",
   "execution_count": 98
  },
  {
   "cell_type": "code",
   "outputs": [],
   "source": [
    "torch.save(bert_model, './models/sns_bert_model.pth')"
   ],
   "metadata": {
    "collapsed": false
   },
   "id": "d911629e18e315d9",
   "execution_count": null
  },
  {
   "cell_type": "code",
   "outputs": [
    {
     "name": "stdout",
     "output_type": "stream",
     "text": [
      "7/7 [==============================] - 6s 839ms/step\n"
     ]
    }
   ],
   "source": [
    "bert_preds = bert_classifier.predict([X_test_tokens['input_ids'], X_test_tokens['attention_mask'], X_test_tokens['token_type_ids']])"
   ],
   "metadata": {
    "collapsed": false,
    "ExecuteTime": {
     "end_time": "2024-04-08T16:09:58.811024Z",
     "start_time": "2024-04-08T16:09:52.286396Z"
    }
   },
   "id": "e1a31d142ee2ecfa",
   "execution_count": 105
  },
  {
   "cell_type": "code",
   "outputs": [
    {
     "name": "stdout",
     "output_type": "stream",
     "text": [
      "Precision: 0.8367346938775511\n",
      "Recall: 0.35964912280701755\n",
      "F1 Score: 0.5030674846625767\n",
      "Accuracy: 0.595\n"
     ]
    }
   ],
   "source": [
    "_ = du.get_prfa(y_test, du.probs_to_preds(bert_preds), verbose=True)"
   ],
   "metadata": {
    "collapsed": false,
    "ExecuteTime": {
     "end_time": "2024-04-08T16:10:11.115050Z",
     "start_time": "2024-04-08T16:10:11.103650Z"
    }
   },
   "id": "5ff05a78b9029fd1",
   "execution_count": 107
  },
  {
   "cell_type": "code",
   "outputs": [
    {
     "name": "stdout",
     "output_type": "stream",
     "text": [
      "7/7 [==============================] - 15s 2s/step - loss: 1.1698 - accuracy: 0.5950\n",
      "Loss: 1.1697783470153809\n",
      "Accuracy: 0.5950000286102295\n"
     ]
    }
   ],
   "source": [
    "metrics = bert_classifier.evaluate([X_test_tokens['input_ids'], X_test_tokens['attention_mask'], X_test_tokens['token_type_ids']], y_test)\n",
    "print(\"Loss:\", metrics[0])\n",
    "print(\"Accuracy:\", metrics[1]) "
   ],
   "metadata": {
    "collapsed": false,
    "ExecuteTime": {
     "end_time": "2024-04-08T16:09:11.709692Z",
     "start_time": "2024-04-08T16:08:56.373038Z"
    }
   },
   "id": "91f6291db8cfbd0b",
   "execution_count": 104
  },
  {
   "cell_type": "code",
   "outputs": [
    {
     "name": "stdout",
     "output_type": "stream",
     "text": [
      "1/1 [==============================] - 5s 5s/step\n",
      "Precision: 1.0\n",
      "Recall: 0.5\n",
      "F1 Score: 0.6666666666666666\n",
      "Accuracy: 0.8\n"
     ]
    }
   ],
   "source": [
    "# Use a smaller batch of test data\n",
    "demo_data = tokenizer(test_text[:5], return_tensors=\"tf\", max_length=128, padding='max_length', truncation=True)\n",
    "\n",
    "demo_predictions = bert_classifier.predict([demo_data['input_ids'], demo_data['attention_mask'], demo_data['token_type_ids']])\n",
    "\n",
    "_ = du.get_prfa(y_test[:5], du.probs_to_preds(demo_predictions), verbose=True)"
   ],
   "metadata": {
    "collapsed": false,
    "ExecuteTime": {
     "end_time": "2024-04-08T16:10:29.140542Z",
     "start_time": "2024-04-08T16:10:24.482905Z"
    }
   },
   "id": "3abf711cb5417f16",
   "execution_count": 108
  },
  {
   "cell_type": "code",
   "outputs": [
    {
     "data": {
      "text/plain": "<Figure size 500x800 with 0 Axes>"
     },
     "metadata": {},
     "output_type": "display_data"
    },
    {
     "data": {
      "text/plain": "<Figure size 640x480 with 1 Axes>",
      "image/png": "[encoded data removed]"
     },
     "metadata": {},
     "output_type": "display_data"
    }
   ],
   "source": [
    "plt.figure(figsize=(5, 8))\n",
    "pd.DataFrame(bert_history.history).plot()\n",
    "plt.savefig('./graphs/bert_history.png')\n",
    "plt.xlabel(\"Epochs\")\n",
    "plt.ylabel(\"Score\")\n",
    "plt.show()"
   ],
   "metadata": {
    "collapsed": false,
    "ExecuteTime": {
     "end_time": "2024-04-08T16:10:32.797975Z",
     "start_time": "2024-04-08T16:10:32.491573Z"
    }
   },
   "id": "c26cc5c699acb134",
   "execution_count": 109
  }
 ],
 "metadata": {
  "kernelspec": {
   "display_name": "Python 3",
   "language": "python",
   "name": "python3"
  },
  "language_info": {
   "codemirror_mode": {
    "name": "ipython",
    "version": 2
   },
   "file_extension": ".py",
   "mimetype": "text/x-python",
   "name": "python",
   "nbconvert_exporter": "python",
   "pygments_lexer": "ipython2",
   "version": "2.7.6"
  }
 },
 "nbformat": 4,
 "nbformat_minor": 5
}
