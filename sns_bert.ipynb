{
 "cells": [
  {
   "cell_type": "markdown",
   "source": [
    "# SNS Sentiment Analysis BERT\n",
    "\n",
    "Analyze social media texts and measure potential inflammatory / offensive language with a BERT neural network.\n",
    "\n",
    "(This does not work, unable to pass data through the BERT model, Iter nor Tensor conversions are working at all for the data and model)."
   ],
   "metadata": {
    "collapsed": false
   },
   "id": "bc952063a2c1e5aa"
  },
  {
   "cell_type": "code",
   "outputs": [],
   "source": [
    "import ast\n",
    "import numpy as np\n",
    "import pandas as pd\n",
    "import tensorflow as tf\n",
    "import transformers\n",
    "from transformers import TFBertModel, BertTokenizer"
   ],
   "metadata": {
    "collapsed": false,
    "ExecuteTime": {
     "end_time": "2024-04-08T01:38:19.572395Z",
     "start_time": "2024-04-08T01:38:19.535952Z"
    }
   },
   "id": "6ce8c337d98e9337",
   "execution_count": 75
  },
  {
   "cell_type": "code",
   "outputs": [
    {
     "name": "stderr",
     "output_type": "stream",
     "text": [
      "Some weights of the PyTorch model were not used when initializing the TF 2.0 model TFBertModel: ['cls.predictions.transform.LayerNorm.bias', 'cls.predictions.transform.dense.weight', 'cls.predictions.bias', 'cls.predictions.transform.dense.bias', 'cls.predictions.transform.LayerNorm.weight', 'cls.seq_relationship.bias', 'cls.seq_relationship.weight']\n",
      "- This IS expected if you are initializing TFBertModel from a PyTorch model trained on another task or with another architecture (e.g. initializing a TFBertForSequenceClassification model from a BertForPreTraining model).\n",
      "- This IS NOT expected if you are initializing TFBertModel from a PyTorch model that you expect to be exactly identical (e.g. initializing a TFBertForSequenceClassification model from a BertForSequenceClassification model).\n",
      "All the weights of TFBertModel were initialized from the PyTorch model.\n",
      "If your task is similar to the task the model of the checkpoint was trained on, you can already use TFBertModel for predictions without further training.\n"
     ]
    }
   ],
   "source": [
    "# Load the pre-trained BERT model and tokenizer\n",
    "tokenizer = BertTokenizer.from_pretrained('bert-base-uncased')\n",
    "bert_model = TFBertModel.from_pretrained('bert-base-uncased', output_hidden_states=False, return_dict=False)\n",
    "bert_model.trainable = False"
   ],
   "metadata": {
    "collapsed": false,
    "ExecuteTime": {
     "end_time": "2024-04-08T00:35:06.160723Z",
     "start_time": "2024-04-08T00:35:02.924354Z"
    }
   },
   "id": "d3db10e7bbe9c1cc",
   "execution_count": 2
  },
  {
   "cell_type": "markdown",
   "source": [
    "# Load the data"
   ],
   "metadata": {
    "collapsed": false
   },
   "id": "9aa46c2e6d9392a6"
  },
  {
   "cell_type": "code",
   "outputs": [
    {
     "name": "stdout",
     "output_type": "stream",
     "text": [
      "(800,) (800,)\n",
      "(200,) (200,)\n"
     ]
    }
   ],
   "source": [
    "# Load dataset\n",
    "train = pd.read_csv(\"./datasets/processed/train.csv\")\n",
    "X_train = train[train.columns[0]].apply(ast.literal_eval)[:800]\n",
    "y_train = train[train.columns[1]].astype(int)[:800]\n",
    "print(X_train.shape, y_train.shape)\n",
    "\n",
    "test = pd.read_csv(\"./datasets/processed/test.csv\")\n",
    "X_test = test[test.columns[0]].apply(ast.literal_eval)[:200]\n",
    "y_test = test[test.columns[1]].astype(int)[:200]\n",
    "print(X_test.shape, y_test.shape)"
   ],
   "metadata": {
    "collapsed": false,
    "ExecuteTime": {
     "end_time": "2024-04-08T01:36:36.324469Z",
     "start_time": "2024-04-08T01:36:35.373070Z"
    }
   },
   "id": "76d1f06a3663a7f0",
   "execution_count": 73
  },
  {
   "cell_type": "code",
   "outputs": [
    {
     "name": "stdout",
     "output_type": "stream",
     "text": [
      "Tensorflow Version :  2.14.0\n",
      "Transformers Version :  4.35.0\n"
     ]
    }
   ],
   "source": [
    "print(\"Tensorflow Version : \" ,tf.__version__)\n",
    "print(\"Transformers Version : \" ,transformers.__version__)"
   ],
   "metadata": {
    "collapsed": false,
    "ExecuteTime": {
     "end_time": "2024-04-08T01:38:32.935900Z",
     "start_time": "2024-04-08T01:38:32.930919Z"
    }
   },
   "id": "f8713cddac2c6e22",
   "execution_count": 76
  },
  {
   "cell_type": "code",
   "outputs": [],
   "source": [
    "train_text = [\" \".join(s) for s in X_train]\n",
    "test_text = [\" \".join(s) for s in X_test]"
   ],
   "metadata": {
    "collapsed": false,
    "ExecuteTime": {
     "end_time": "2024-04-08T01:04:42.778471Z",
     "start_time": "2024-04-08T01:04:42.773729Z"
    }
   },
   "id": "d9165aebb007aaff",
   "execution_count": 42
  },
  {
   "cell_type": "code",
   "outputs": [
    {
     "data": {
      "text/plain": "{'input_ids': <tf.Tensor: shape=(2, 7), dtype=int32, numpy=\narray([[ 101, 3231, 6251,  102,    0,    0,    0],\n       [ 101, 2023, 2003, 1037, 3231, 6251,  102]], dtype=int32)>, 'token_type_ids': <tf.Tensor: shape=(2, 7), dtype=int32, numpy=\narray([[0, 0, 0, 0, 0, 0, 0],\n       [0, 0, 0, 0, 0, 0, 0]], dtype=int32)>, 'attention_mask': <tf.Tensor: shape=(2, 7), dtype=int32, numpy=\narray([[1, 1, 1, 1, 0, 0, 0],\n       [1, 1, 1, 1, 1, 1, 1]], dtype=int32)>}"
     },
     "execution_count": 43,
     "metadata": {},
     "output_type": "execute_result"
    }
   ],
   "source": [
    "example_input = tokenizer([\"Test sentence\", \"This is a test sentence\"], padding=True, truncation=True, return_tensors='tf')\n",
    "example_input"
   ],
   "metadata": {
    "collapsed": false,
    "ExecuteTime": {
     "end_time": "2024-04-08T01:04:42.793968Z",
     "start_time": "2024-04-08T01:04:42.779577Z"
    }
   },
   "id": "20cc39d220235809",
   "execution_count": 43
  },
  {
   "cell_type": "code",
   "outputs": [],
   "source": [
    "BATCH_SIZE = 4\n",
    "MAX_LENGTH = 128\n",
    "\n",
    "def data_generator(text, labels, batch_size: int) -> (dict, tf.Tensor):\n",
    "    num_samples = len(text)\n",
    "    i = 0\n",
    "    print(len(text), len(labels))\n",
    "    while True:\n",
    "        x_data, y_data = [], []\n",
    "        for j in range(batch_size):\n",
    "            start = i * batch_size\n",
    "            try:\n",
    "                x_data.append(text[start + j])\n",
    "                y_data.append(labels[start + j])\n",
    "            except KeyError:\n",
    "                print(\"INDEX:\", j, \"START:\", start, \"\\n\", labels)\n",
    "            i += 1\n",
    "\n",
    "\n",
    "        if i == num_samples // batch_size:\n",
    "            i = 0\n",
    "        \n",
    "        batch_x = tokenizer(x_data, return_tensors=\"tf\", max_length=MAX_LENGTH, padding='max_length', truncation=True)\n",
    "        batch_y = tf.convert_to_tensor(y_data)\n",
    "\n",
    "        yield dict(batch_x), batch_y"
   ],
   "metadata": {
    "collapsed": false,
    "ExecuteTime": {
     "end_time": "2024-04-08T01:40:58.558711Z",
     "start_time": "2024-04-08T01:40:58.547466Z"
    }
   },
   "id": "33b1cbf576a43744",
   "execution_count": 77
  },
  {
   "cell_type": "code",
   "outputs": [],
   "source": [
    "print(np.shape(train_text), np.shape(y_train))\n",
    "print(np.shape(test_text), np.shape(y_test))"
   ],
   "metadata": {
    "collapsed": false
   },
   "id": "3fbd715e9d644f61",
   "execution_count": null
  },
  {
   "cell_type": "code",
   "outputs": [],
   "source": [
    "train_data_gen = data_generator(train_text, y_train, BATCH_SIZE)\n",
    "test_data_gen = data_generator(test_text, y_test, BATCH_SIZE)\n",
    "\n",
    "print(np.shape(next(train_data_gen)), np.shape(next(test_data_gen)))\n",
    "\n",
    "# train_text_t = tokenizer(train_text, return_tensors=\"tf\", max_length=MAX_LENGTH, padding='max_length', truncation=True)\n",
    "# test_text_t = tokenizer(test_text, return_tensors=\"tf\", max_length=MAX_LENGTH, padding='max_length', truncation=True)\n",
    "# \n",
    "# train_dataset = tf.data.Dataset.from_tensor_slices((train_text_t['input_ids'], train_text_t['attention_mask'], y_train))\n",
    "# test_dataset = tf.data.Dataset.from_tensor_slices((test_text_t['input_ids'], test_text_t['attention_mask'], y_test))\n",
    "# \n",
    "# train_dataset = train_dataset.batch(BATCH_SIZE)\n",
    "# test_dataset = test_dataset.batch(BATCH_SIZE)"
   ],
   "metadata": {
    "collapsed": false
   },
   "id": "30ed4557f794063a",
   "execution_count": null
  },
  {
   "cell_type": "code",
   "outputs": [],
   "source": [
    "class SNSBERTClassification(tf.keras.Model):\n",
    "    def __init__(self, bert_model_, num_classes=2):\n",
    "        super().__init__()\n",
    "        self.bert = bert_model_\n",
    "        self.fc = tf.keras.layers.Dense(num_classes, activation=\"sigmoid\")\n",
    "\n",
    "    def call(self, inputs, training=None, mask=None):\n",
    "        x = self.bert(inputs)[1]\n",
    "        return self.fc(x)"
   ],
   "metadata": {
    "collapsed": false,
    "ExecuteTime": {
     "end_time": "2024-04-08T01:23:45.917378Z",
     "start_time": "2024-04-08T01:23:45.910831Z"
    }
   },
   "id": "8f4f32b2767ac509",
   "execution_count": 58
  },
  {
   "cell_type": "code",
   "outputs": [],
   "source": [
    "bert_classifier = SNSBERTClassification(bert_model, num_classes=1)\n",
    "\n",
    "bert_classifier.compile(\n",
    "    optimizer=tf.keras.optimizers.legacy.Adam(learning_rate=1e-5),\n",
    "    loss='sparse_categorical_crossentropy',\n",
    "    metrics=['accuracy']\n",
    ")"
   ],
   "metadata": {
    "collapsed": false,
    "ExecuteTime": {
     "end_time": "2024-04-08T01:23:46.509378Z",
     "start_time": "2024-04-08T01:23:46.454682Z"
    }
   },
   "id": "3face30af7c4bd32",
   "execution_count": 59
  },
  {
   "cell_type": "code",
   "outputs": [],
   "source": [
    "bert_history = bert_classifier.fit(\n",
    "    train_data_gen,\n",
    "    batch_size=BATCH_SIZE,\n",
    "    steps_per_epoch=len(train_text) // BATCH_SIZE,\n",
    "    validation_data=test_data_gen,\n",
    "    validation_steps=BATCH_SIZE * 4,\n",
    "    validation_batch_size=BATCH_SIZE,\n",
    "    epochs=1\n",
    ")"
   ],
   "metadata": {
    "collapsed": false
   },
   "id": "51333fadfffa7825",
   "execution_count": null
  },
  {
   "cell_type": "code",
   "outputs": [],
   "source": [
    "model_ = tf.keras.Sequential([\n",
    "    bert_model,\n",
    "    tf.keras.layers.Lambda(lambda x: x[0][:,0,:]),\n",
    "    tf.keras.layers.Dense(50, activation=\"relu\"),\n",
    "    tf.keras.layers.Dense(1, activation=\"sigmoid\")\n",
    "])\n",
    "\n",
    "model_.compile(loss=\"binary_crossentropy\", optimizer=\"adam\", metrics=[\"accuracy\"])\n",
    "\n",
    "model_.fit(\n",
    "    train_data_gen,\n",
    "    batch_size=BATCH_SIZE,\n",
    "    steps_per_epoch=len(train_text) // BATCH_SIZE,\n",
    "    validation_data=test_data_gen,\n",
    "    validation_steps=len(test_text) // BATCH_SIZE,\n",
    "    validation_batch_size=BATCH_SIZE,\n",
    "    epochs=3\n",
    ")"
   ],
   "metadata": {
    "collapsed": false
   },
   "id": "c8544fa84374e77f",
   "execution_count": null
  },
  {
   "cell_type": "code",
   "outputs": [],
   "source": [
    "bert_classifier.evaluate_generator(test_data_gen)"
   ],
   "metadata": {
    "collapsed": false
   },
   "id": "91f6291db8cfbd0b"
  }
 ],
 "metadata": {
  "kernelspec": {
   "display_name": "Python 3",
   "language": "python",
   "name": "python3"
  },
  "language_info": {
   "codemirror_mode": {
    "name": "ipython",
    "version": 2
   },
   "file_extension": ".py",
   "mimetype": "text/x-python",
   "name": "python",
   "nbconvert_exporter": "python",
   "pygments_lexer": "ipython2",
   "version": "2.7.6"
  }
 },
 "nbformat": 4,
 "nbformat_minor": 5
}
