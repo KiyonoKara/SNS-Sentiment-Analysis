{
 "cells": [
  {
   "cell_type": "markdown",
   "source": [
    "# SNS Sentiment Analysis BERT\n",
    "\n",
    "Analyze social media texts and measure potential inflammatory / offensive language with a BERT neural network.\n",
    "\n",
    "(This does not work, unable to pass data through the BERT model, Iter nor Tensor conversions are working at all for the data and model)."
   ],
   "metadata": {
    "collapsed": false
   },
   "id": "bc952063a2c1e5aa"
  },
  {
   "cell_type": "code",
   "outputs": [],
   "source": [
    "import ast\n",
    "import data_util as du\n",
    "import matplotlib.pyplot as plt\n",
    "import numpy as np\n",
    "import pandas as pd\n",
    "import tensorflow as tf\n",
    "import transformers\n",
    "from transformers import TFBertModel, BertTokenizer"
   ],
   "metadata": {
    "collapsed": false,
    "ExecuteTime": {
     "end_time": "2024-04-13T00:45:57.907897Z",
     "start_time": "2024-04-13T00:45:57.904794Z"
    }
   },
   "id": "6ce8c337d98e9337",
   "execution_count": 2
  },
  {
   "cell_type": "code",
   "outputs": [],
   "source": [
    "# Load the pre-trained BERT model and tokenizer\n",
    "tokenizer = BertTokenizer.from_pretrained('bert-base-uncased')\n",
    "bert_model = TFBertModel.from_pretrained('bert-base-uncased', output_hidden_states=False, return_dict=False)\n",
    "bert_model.trainable = False"
   ],
   "metadata": {
    "collapsed": false
   },
   "id": "d3db10e7bbe9c1cc",
   "execution_count": null
  },
  {
   "cell_type": "code",
   "outputs": [
    {
     "name": "stdout",
     "output_type": "stream",
     "text": [
      "Tensorflow Version :  2.14.0\n",
      "Transformers Version :  4.35.0\n"
     ]
    }
   ],
   "source": [
    "print(\"Tensorflow Version : \", tf.__version__)\n",
    "print(\"Transformers Version : \", transformers.__version__)"
   ],
   "metadata": {
    "collapsed": false,
    "ExecuteTime": {
     "end_time": "2024-04-13T00:46:02.684843Z",
     "start_time": "2024-04-13T00:46:02.681085Z"
    }
   },
   "id": "f8713cddac2c6e22",
   "execution_count": 3
  },
  {
   "cell_type": "markdown",
   "source": [
    "# Load the data"
   ],
   "metadata": {
    "collapsed": false
   },
   "id": "9aa46c2e6d9392a6"
  },
  {
   "cell_type": "code",
   "outputs": [
    {
     "name": "stdout",
     "output_type": "stream",
     "text": [
      "(8000,) (8000,)\n",
      "(2000,) (2000,)\n"
     ]
    }
   ],
   "source": [
    "# Load dataset\n",
    "train = pd.read_csv(\"./datasets/processed/train.csv\")\n",
    "X_train = train[train.columns[0]].apply(ast.literal_eval)\n",
    "y_train = train[train.columns[1]].astype(int)\n",
    "print(X_train.shape, y_train.shape)\n",
    "\n",
    "test = pd.read_csv(\"./datasets/processed/test.csv\")\n",
    "X_test = test[test.columns[0]].apply(ast.literal_eval)\n",
    "y_test = test[test.columns[1]].astype(int)\n",
    "print(X_test.shape, y_test.shape)"
   ],
   "metadata": {
    "collapsed": false,
    "ExecuteTime": {
     "end_time": "2024-04-13T00:46:06.405028Z",
     "start_time": "2024-04-13T00:46:05.922550Z"
    }
   },
   "id": "76d1f06a3663a7f0",
   "execution_count": 4
  },
  {
   "cell_type": "code",
   "outputs": [],
   "source": [
    "train_text = [\" \".join(s) for s in X_train]\n",
    "test_text = [\" \".join(s) for s in X_test]"
   ],
   "metadata": {
    "collapsed": false,
    "ExecuteTime": {
     "end_time": "2024-04-13T00:46:07.031385Z",
     "start_time": "2024-04-13T00:46:07.015084Z"
    }
   },
   "id": "d9165aebb007aaff",
   "execution_count": 5
  },
  {
   "cell_type": "code",
   "outputs": [
    {
     "data": {
      "text/plain": "{'input_ids': <tf.Tensor: shape=(2, 512), dtype=int32, numpy=\narray([[ 101, 3231, 6251, ...,    0,    0,    0],\n       [ 101, 2023, 2003, ...,    0,    0,    0]], dtype=int32)>, 'token_type_ids': <tf.Tensor: shape=(2, 512), dtype=int32, numpy=\narray([[0, 0, 0, ..., 0, 0, 0],\n       [0, 0, 0, ..., 0, 0, 0]], dtype=int32)>, 'attention_mask': <tf.Tensor: shape=(2, 512), dtype=int32, numpy=\narray([[1, 1, 1, ..., 0, 0, 0],\n       [1, 1, 1, ..., 0, 0, 0]], dtype=int32)>}"
     },
     "execution_count": 6,
     "metadata": {},
     "output_type": "execute_result"
    }
   ],
   "source": [
    "# Testing\n",
    "example_input = tokenizer([\"Test sentence\", \"This is a test sentence\"], padding='max_length', truncation=True, return_tensors='tf')\n",
    "example_input"
   ],
   "metadata": {
    "collapsed": false,
    "ExecuteTime": {
     "end_time": "2024-04-09T03:27:11.235250Z",
     "start_time": "2024-04-09T03:27:11.230360Z"
    }
   },
   "id": "20cc39d220235809",
   "execution_count": 6
  },
  {
   "cell_type": "code",
   "outputs": [],
   "source": [
    "MAX_LENGTH = 128\n",
    "\n",
    "# Tokenize the training data\n",
    "X_train_tokens = tokenizer.batch_encode_plus(\n",
    "    train_text,\n",
    "    max_length=MAX_LENGTH,\n",
    "    padding='max_length',\n",
    "    truncation=True,\n",
    "    return_tensors='tf'\n",
    ")\n",
    "\n",
    "# Tokenize the testing data\n",
    "X_test_tokens = tokenizer.batch_encode_plus(\n",
    "    test_text,\n",
    "    max_length=MAX_LENGTH,\n",
    "    padding='max_length',\n",
    "    truncation=True,\n",
    "    return_tensors='tf'\n",
    ")"
   ],
   "metadata": {
    "collapsed": false,
    "ExecuteTime": {
     "end_time": "2024-04-09T03:27:16.088358Z",
     "start_time": "2024-04-09T03:27:11.235932Z"
    }
   },
   "id": "f5cd3ff8085b5be2",
   "execution_count": 7
  },
  {
   "cell_type": "markdown",
   "source": [
    "# Create and train BERT neural network"
   ],
   "metadata": {
    "collapsed": false
   },
   "id": "13a6d1fdfb5e16d6"
  },
  {
   "cell_type": "code",
   "outputs": [],
   "source": [
    "def create_bert_model():\n",
    "    input_ids = tf.keras.layers.Input(shape=(None,), dtype=tf.int32, name='input_ids')\n",
    "    attention_mask = tf.keras.layers.Input(shape=(None,), dtype=tf.int32, name='attention_mask')\n",
    "    token_type_ids = tf.keras.layers.Input(shape=(None,), dtype=tf.int32, name='token_type_ids')\n",
    "\n",
    "    bert_output = bert_model(input_ids, attention_mask=attention_mask, token_type_ids=token_type_ids)\n",
    "    sequence_output = bert_output[0]\n",
    "    # Take the [CLS] token representation\n",
    "    pooled_output = sequence_output[:, 0, :]\n",
    "\n",
    "    x = tf.keras.layers.Dropout(0.2)(pooled_output)\n",
    "    x = tf.keras.layers.Dense(256, activation='relu')(x)\n",
    "    x = tf.keras.layers.Dropout(0.2)(x)\n",
    "    output = tf.keras.layers.Dense(1, activation='sigmoid')(x)\n",
    "\n",
    "    model = tf.keras.Model(inputs=[input_ids, attention_mask, token_type_ids], outputs=output)\n",
    "    model.compile(optimizer=tf.keras.optimizers.legacy.Adam(learning_rate=1e-3), loss='binary_crossentropy', metrics=['accuracy'])\n",
    "\n",
    "    return model"
   ],
   "metadata": {
    "collapsed": false,
    "ExecuteTime": {
     "end_time": "2024-04-09T03:27:16.093502Z",
     "start_time": "2024-04-09T03:27:16.089892Z"
    }
   },
   "id": "b21c8f62fb049987",
   "execution_count": 8
  },
  {
   "cell_type": "code",
   "outputs": [],
   "source": [
    "bert_classifier = create_bert_model()"
   ],
   "metadata": {
    "collapsed": false,
    "ExecuteTime": {
     "end_time": "2024-04-09T03:27:18.290216Z",
     "start_time": "2024-04-09T03:27:16.094361Z"
    }
   },
   "id": "f51a783da964925c",
   "execution_count": 9
  },
  {
   "cell_type": "code",
   "outputs": [],
   "source": [
    "# Learning rate scheduler\n",
    "def scheduler(epoch, lr):\n",
    "    if epoch < 3:\n",
    "        return lr\n",
    "    else:\n",
    "        return lr * tf.math.exp(-0.1)\n",
    "\n",
    "# Create a learning rate callback\n",
    "lr_callback = tf.keras.callbacks.LearningRateScheduler(scheduler)"
   ],
   "metadata": {
    "collapsed": false,
    "ExecuteTime": {
     "end_time": "2024-04-09T03:27:18.292918Z",
     "start_time": "2024-04-09T03:27:18.290922Z"
    }
   },
   "id": "1b007f6f529a0f9",
   "execution_count": 10
  },
  {
   "cell_type": "code",
   "outputs": [
    {
     "name": "stdout",
     "output_type": "stream",
     "text": [
      "Epoch 1/5\n",
      "500/500 [==============================] - 43s 79ms/step - loss: 0.5723 - accuracy: 0.7265 - val_loss: 0.6305 - val_accuracy: 0.6719 - lr: 0.0010\n",
      "Epoch 2/5\n",
      "500/500 [==============================] - 37s 75ms/step - loss: 0.5072 - accuracy: 0.7540 - val_loss: 0.9280 - val_accuracy: 0.5469 - lr: 0.0010\n",
      "Epoch 3/5\n",
      "500/500 [==============================] - 37s 75ms/step - loss: 0.5259 - accuracy: 0.7415 - val_loss: 0.6956 - val_accuracy: 0.6562 - lr: 0.0010\n",
      "Epoch 4/5\n",
      "500/500 [==============================] - 38s 76ms/step - loss: 0.5022 - accuracy: 0.7675 - val_loss: 0.7409 - val_accuracy: 0.6094 - lr: 9.0484e-04\n",
      "Epoch 5/5\n",
      "500/500 [==============================] - 43s 85ms/step - loss: 0.4887 - accuracy: 0.7680 - val_loss: 0.5935 - val_accuracy: 0.6719 - lr: 8.1873e-04\n"
     ]
    }
   ],
   "source": [
    "BATCH_SIZE = 4\n",
    "\n",
    "bert_history = bert_classifier.fit(\n",
    "    [X_train_tokens['input_ids'], X_train_tokens['attention_mask'], X_train_tokens['token_type_ids']],\n",
    "    y_train,\n",
    "    epochs=5,\n",
    "    batch_size=BATCH_SIZE,\n",
    "    steps_per_epoch=len(train_text) // (BATCH_SIZE * 4),\n",
    "    validation_data=([X_test_tokens['input_ids'], X_test_tokens['attention_mask'], X_test_tokens['token_type_ids']], y_test),\n",
    "    validation_steps=BATCH_SIZE * 4,\n",
    "    validation_batch_size=BATCH_SIZE,\n",
    "    callbacks=lr_callback\n",
    ")"
   ],
   "metadata": {
    "collapsed": false,
    "ExecuteTime": {
     "end_time": "2024-04-09T03:30:37.246334Z",
     "start_time": "2024-04-09T03:27:18.294195Z"
    }
   },
   "id": "4edbeecf635cfa64",
   "execution_count": 11
  },
  {
   "cell_type": "code",
   "outputs": [],
   "source": [
    "# Saving model\n",
    "bert_classifier.save('./models/sns_bert_model_2.keras')"
   ],
   "metadata": {
    "collapsed": false
   },
   "id": "105ec182c1d49182",
   "execution_count": null
  },
  {
   "cell_type": "code",
   "outputs": [],
   "source": [
    "# Save weights, this is an important step\n",
    "bert_classifier.save_weights('./models/sns_bert_2.weights.h5')"
   ],
   "metadata": {
    "collapsed": false
   },
   "id": "7bf9b8ccb53fbe52",
   "execution_count": null
  },
  {
   "cell_type": "code",
   "outputs": [],
   "source": [
    "# Save model as JSON\n",
    "bert_json = bert_classifier.to_json()\n",
    "with open('./models/sns_bert_model_2.json', 'w') as f:\n",
    "    f.write(bert_json)\n",
    "    f.close()"
   ],
   "metadata": {
    "collapsed": false,
    "ExecuteTime": {
     "end_time": "2024-04-09T03:32:21.219764Z",
     "start_time": "2024-04-09T03:32:21.212820Z"
    }
   },
   "id": "7161569275888a9a",
   "execution_count": 16
  },
  {
   "cell_type": "code",
   "outputs": [],
   "source": [
    "# Load model from weights\n",
    "bert_loaded = create_bert_model()\n",
    "bert_loaded.load_weights('./models/sns_bert_2.weights.h5')"
   ],
   "metadata": {
    "collapsed": false
   },
   "id": "a4741bb48c3699cf",
   "execution_count": null
  },
  {
   "cell_type": "code",
   "outputs": [],
   "source": [
    "# Our test data batch\n",
    "test_data_batch = [X_test_tokens['input_ids'], X_test_tokens['attention_mask'], X_test_tokens['token_type_ids']]"
   ],
   "metadata": {
    "collapsed": false,
    "ExecuteTime": {
     "end_time": "2024-04-09T03:35:31.670461Z",
     "start_time": "2024-04-09T03:35:31.666907Z"
    }
   },
   "id": "bff7927bce29e32a",
   "execution_count": 21
  },
  {
   "cell_type": "code",
   "outputs": [
    {
     "name": "stdout",
     "output_type": "stream",
     "text": [
      "63/63 [==============================] - 36s 558ms/step\n",
      "63/63 [==============================] - 41s 607ms/step\n"
     ]
    }
   ],
   "source": [
    "# Assert loaded model and trained model are (almost) the same\n",
    "np.testing.assert_allclose(\n",
    "    bert_classifier.predict(test_data_batch),\n",
    "    bert_loaded.predict(test_data_batch)\n",
    ")"
   ],
   "metadata": {
    "collapsed": false,
    "ExecuteTime": {
     "end_time": "2024-04-09T03:36:48.459331Z",
     "start_time": "2024-04-09T03:35:31.792322Z"
    }
   },
   "id": "8a1bbfd7e76b6977",
   "execution_count": 22
  },
  {
   "cell_type": "code",
   "outputs": [],
   "source": [
    "# Load model from architecture with weights\n",
    "with open('./models/sns_bert_model_2.json', 'r') as f:\n",
    "    json_config = f.read()\n",
    "    f.close()\n",
    "bert_json_loaded = tf.keras.models.model_from_json(json_config, custom_objects={'TFBertModel': TFBertModel})\n",
    "bert_json_loaded.load_weights('./models/sns_bert_2.weights.h5')"
   ],
   "metadata": {
    "collapsed": false
   },
   "id": "e030a8e3bd77755b",
   "execution_count": 0
  },
  {
   "cell_type": "code",
   "outputs": [
    {
     "name": "stdout",
     "output_type": "stream",
     "text": [
      "63/63 [==============================] - 50s 793ms/step\n"
     ]
    }
   ],
   "source": [
    "# Test trained model\n",
    "bert_preds = bert_classifier.predict(test_data_batch)"
   ],
   "metadata": {
    "collapsed": false,
    "ExecuteTime": {
     "end_time": "2024-04-09T03:37:42.331588Z",
     "start_time": "2024-04-09T03:36:52.094780Z"
    }
   },
   "id": "e1a31d142ee2ecfa",
   "execution_count": 23
  },
  {
   "cell_type": "code",
   "outputs": [
    {
     "name": "stdout",
     "output_type": "stream",
     "text": [
      "7/7 [==============================] - 8s 763ms/step\n"
     ]
    }
   ],
   "source": [
    "# Test loaded model\n",
    "loaded_bert_preds = bert_loaded.predict(test_data_batch)"
   ],
   "metadata": {
    "collapsed": false,
    "ExecuteTime": {
     "end_time": "2024-04-08T23:11:24.012654Z",
     "start_time": "2024-04-08T23:11:15.660136Z"
    }
   },
   "id": "982b1b2b0c214a70",
   "execution_count": 26
  },
  {
   "cell_type": "code",
   "outputs": [
    {
     "name": "stdout",
     "output_type": "stream",
     "text": [
      "7/7 [==============================] - 12s 1s/step\n"
     ]
    }
   ],
   "source": [
    "# Test loaded JSON model\n",
    "bert_json_preds = bert_json_loaded.predict(test_data_batch)"
   ],
   "metadata": {
    "collapsed": false,
    "ExecuteTime": {
     "end_time": "2024-04-08T23:43:32.177406Z",
     "start_time": "2024-04-08T23:43:20.157003Z"
    }
   },
   "id": "6a82a77ea9b8850b",
   "execution_count": 71
  },
  {
   "cell_type": "code",
   "outputs": [
    {
     "name": "stdout",
     "output_type": "stream",
     "text": [
      "Precision: 0.8168202764976958\n",
      "Recall: 0.7139979859013091\n",
      "F1 Score: 0.7619559376679204\n",
      "Accuracy: 0.7785\n"
     ]
    }
   ],
   "source": [
    "_ = du.get_prfa(y_test, du.probs_to_preds(bert_preds), verbose=True)"
   ],
   "metadata": {
    "collapsed": false,
    "ExecuteTime": {
     "end_time": "2024-04-09T03:37:48.245476Z",
     "start_time": "2024-04-09T03:37:48.212387Z"
    }
   },
   "id": "5ff05a78b9029fd1",
   "execution_count": 24
  },
  {
   "cell_type": "code",
   "outputs": [
    {
     "name": "stdout",
     "output_type": "stream",
     "text": [
      "Precision: 0.8028169014084507\n",
      "Recall: 0.5\n",
      "F1 Score: 0.6162162162162163\n",
      "Accuracy: 0.645\n"
     ]
    }
   ],
   "source": [
    "_ = du.get_prfa(y_test, du.probs_to_preds(loaded_bert_preds), verbose=True)"
   ],
   "metadata": {
    "collapsed": false,
    "ExecuteTime": {
     "end_time": "2024-04-08T23:11:25.325918Z",
     "start_time": "2024-04-08T23:11:25.315437Z"
    }
   },
   "id": "69499d4c721298a2",
   "execution_count": 27
  },
  {
   "cell_type": "code",
   "outputs": [
    {
     "name": "stdout",
     "output_type": "stream",
     "text": [
      "Precision: 0.8028169014084507\n",
      "Recall: 0.5\n",
      "F1 Score: 0.6162162162162163\n",
      "Accuracy: 0.645\n"
     ]
    }
   ],
   "source": [
    "_ = du.get_prfa(y_test, du.probs_to_preds(bert_json_preds), verbose=True)"
   ],
   "metadata": {
    "collapsed": false,
    "ExecuteTime": {
     "end_time": "2024-04-08T23:43:34.641636Z",
     "start_time": "2024-04-08T23:43:34.631551Z"
    }
   },
   "id": "415ee3c400467172",
   "execution_count": 72
  },
  {
   "cell_type": "code",
   "outputs": [
    {
     "name": "stdout",
     "output_type": "stream",
     "text": [
      "7/7 [==============================] - 15s 2s/step - loss: 1.1698 - accuracy: 0.5950\n",
      "Loss: 1.1697783470153809\n",
      "Accuracy: 0.5950000286102295\n"
     ]
    }
   ],
   "source": [
    "metrics = bert_classifier.evaluate(test_data_batch, y_test)\n",
    "print(\"Loss:\", metrics[0])\n",
    "print(\"Accuracy:\", metrics[1]) "
   ],
   "metadata": {
    "collapsed": false,
    "ExecuteTime": {
     "end_time": "2024-04-08T16:09:11.709692Z",
     "start_time": "2024-04-08T16:08:56.373038Z"
    }
   },
   "id": "91f6291db8cfbd0b",
   "execution_count": 104
  },
  {
   "cell_type": "code",
   "outputs": [
    {
     "name": "stdout",
     "output_type": "stream",
     "text": [
      "1/1 [==============================] - 5s 5s/step\n",
      "Precision: 1.0\n",
      "Recall: 0.5\n",
      "F1 Score: 0.6666666666666666\n",
      "Accuracy: 0.8\n"
     ]
    }
   ],
   "source": [
    "# Use a smaller batch of test data\n",
    "demo_data = tokenizer(test_text[:5], return_tensors=\"tf\", max_length=128, padding='max_length', truncation=True)\n",
    "\n",
    "demo_predictions = bert_classifier.predict([demo_data['input_ids'], demo_data['attention_mask'], demo_data['token_type_ids']])\n",
    "\n",
    "_ = du.get_prfa(y_test[:5], du.probs_to_preds(demo_predictions), verbose=True)"
   ],
   "metadata": {
    "collapsed": false,
    "ExecuteTime": {
     "end_time": "2024-04-08T16:10:29.140542Z",
     "start_time": "2024-04-08T16:10:24.482905Z"
    }
   },
   "id": "3abf711cb5417f16",
   "execution_count": 108
  },
  {
   "cell_type": "code",
   "outputs": [
    {
     "data": {
      "text/plain": "<Figure size 500x800 with 0 Axes>"
     },
     "metadata": {},
     "output_type": "display_data"
    },
    {
     "data": {
      "text/plain": "<Figure size 640x480 with 1 Axes>",
      "image/png": "[encoded data removed]"
     },
     "metadata": {},
     "output_type": "display_data"
    }
   ],
   "source": [
    "plt.figure(figsize=(5, 8))\n",
    "pd.DataFrame(bert_history.history).plot()\n",
    "plt.savefig('./graphs/bert_history_4.png')\n",
    "plt.title(\"BERT training graph of epochs vs. performance (score)\")\n",
    "plt.xlabel(\"Epochs\")\n",
    "plt.ylabel(\"Score\")\n",
    "plt.show()"
   ],
   "metadata": {
    "collapsed": false,
    "ExecuteTime": {
     "end_time": "2024-04-09T03:38:42.352779Z",
     "start_time": "2024-04-09T03:38:42.056595Z"
    }
   },
   "id": "c26cc5c699acb134",
   "execution_count": 25
  }
 ],
 "metadata": {
  "kernelspec": {
   "display_name": "Python 3",
   "language": "python",
   "name": "python3"
  },
  "language_info": {
   "codemirror_mode": {
    "name": "ipython",
    "version": 2
   },
   "file_extension": ".py",
   "mimetype": "text/x-python",
   "name": "python",
   "nbconvert_exporter": "python",
   "pygments_lexer": "ipython2",
   "version": "2.7.6"
  }
 },
 "nbformat": 4,
 "nbformat_minor": 5
}
