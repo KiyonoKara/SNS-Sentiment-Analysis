{
 "cells": [
  {
   "cell_type": "markdown",
   "source": [
    "# SNS Sentiment Analysis LR\n",
    "\n",
    "Analyze social media texts and measure potential inflammatory / offensive language with a logistic regression."
   ],
   "metadata": {
    "collapsed": false
   },
   "id": "45980b041f92d95b"
  },
  {
   "cell_type": "code",
   "outputs": [],
   "source": [
    "import ast\n",
    "import pandas as pd\n",
    "import data_util as du\n",
    "import pickle\n",
    "from sklearn.feature_extraction.text import CountVectorizer\n",
    "from sklearn.linear_model import LogisticRegression\n",
    "from matplotlib import pyplot as plt"
   ],
   "metadata": {
    "collapsed": false,
    "ExecuteTime": {
     "end_time": "2024-04-09T20:27:12.793170Z",
     "start_time": "2024-04-09T20:27:11.423039Z"
    }
   },
   "id": "a9788ab2f344370",
   "execution_count": 1
  },
  {
   "cell_type": "markdown",
   "source": [
    "# Load data"
   ],
   "metadata": {
    "collapsed": false
   },
   "id": "20cb69117122cfa8"
  },
  {
   "cell_type": "code",
   "outputs": [
    {
     "name": "stdout",
     "output_type": "stream",
     "text": [
      "(8000,) (8000,)\n",
      "(2000,) (2000,)\n",
      "Vocabulary size: 11560\n"
     ]
    }
   ],
   "source": [
    "# Load dataset\n",
    "train = pd.read_csv(\"./datasets/processed/train.csv\")\n",
    "X_train = train[train.columns[0]].apply(ast.literal_eval)\n",
    "y_train = train[train.columns[1]].astype(int)\n",
    "print(X_train.shape, y_train.shape)\n",
    "\n",
    "test = pd.read_csv(\"./datasets/processed/test.csv\")\n",
    "X_test = test[test.columns[0]].apply(ast.literal_eval)\n",
    "y_test = test[test.columns[1]].astype(int)\n",
    "print(X_test.shape, y_test.shape)\n",
    "\n",
    "# Load vocabulary\n",
    "vocabulary = ast.literal_eval(open(\"./datasets/processed/vocabulary.txt\", \"r\").read())\n",
    "print(\"Vocabulary size:\", len(vocabulary))"
   ],
   "metadata": {
    "collapsed": false,
    "ExecuteTime": {
     "end_time": "2024-04-09T20:27:13.427116Z",
     "start_time": "2024-04-09T20:27:12.794234Z"
    }
   },
   "id": "6b03aa24b6026f6e",
   "execution_count": 2
  },
  {
   "cell_type": "code",
   "outputs": [
    {
     "name": "stdout",
     "output_type": "stream",
     "text": [
      "Lengths of train and test: 8000 2000\n"
     ]
    }
   ],
   "source": [
    "train_text = [\" \".join(s) for s in X_train]\n",
    "test_text = [\" \".join(s) for s in X_test]\n",
    "print(\"Lengths of train and test:\", len(train_text), len(test_text))"
   ],
   "metadata": {
    "collapsed": false,
    "ExecuteTime": {
     "end_time": "2024-04-09T20:27:13.438564Z",
     "start_time": "2024-04-09T20:27:13.427881Z"
    }
   },
   "id": "e5400f0f5bcd39b0",
   "execution_count": 3
  },
  {
   "cell_type": "markdown",
   "source": [
    "# Vectorize data\n",
    "\n",
    "In multinomial vectorization, we use it to calculate probabilities based on frequency of words from the vocabulary than whether the word has appeared at least once."
   ],
   "metadata": {
    "collapsed": false
   },
   "id": "5e05880e61011612"
  },
  {
   "cell_type": "code",
   "outputs": [
    {
     "name": "stdout",
     "output_type": "stream",
     "text": [
      "Vocabulary size: 11560\n"
     ]
    }
   ],
   "source": [
    "m_vectorizer = CountVectorizer(input='content', stop_words='english', binary=False, vocabulary=vocabulary, tokenizer=None, preprocessor=None)\n",
    "X_train_m = m_vectorizer.fit_transform(train_text)\n",
    "X_test_m = m_vectorizer.transform(test_text)\n",
    "print(\"Vocabulary size:\", len(m_vectorizer.get_feature_names_out()))"
   ],
   "metadata": {
    "collapsed": false,
    "ExecuteTime": {
     "end_time": "2024-04-09T20:27:15.734738Z",
     "start_time": "2024-04-09T20:27:15.594254Z"
    }
   },
   "id": "652a6ea3cea94c26",
   "execution_count": 4
  },
  {
   "cell_type": "markdown",
   "source": [
    "# Build logistic regression model and train"
   ],
   "metadata": {
    "collapsed": false
   },
   "id": "d1294515e2a03eba"
  },
  {
   "cell_type": "code",
   "outputs": [],
   "source": [
    "lr_model = LogisticRegression(C=0.1, penalty='l1', solver='liblinear', max_iter=1000, multi_class='auto')"
   ],
   "metadata": {
    "collapsed": false,
    "ExecuteTime": {
     "end_time": "2024-04-09T04:49:02.170931Z",
     "start_time": "2024-04-09T04:49:02.166945Z"
    }
   },
   "id": "99f0b3bd3ac119e",
   "execution_count": 25
  },
  {
   "cell_type": "code",
   "outputs": [
    {
     "data": {
      "text/plain": "LogisticRegression(C=0.1, max_iter=1000, penalty='l1', solver='liblinear')",
      "text/html": "<style>#sk-container-id-1 {color: black;}#sk-container-id-1 pre{padding: 0;}#sk-container-id-1 div.sk-toggleable {background-color: white;}#sk-container-id-1 label.sk-toggleable__label {cursor: pointer;display: block;width: 100%;margin-bottom: 0;padding: 0.3em;box-sizing: border-box;text-align: center;}#sk-container-id-1 label.sk-toggleable__label-arrow:before {content: \"▸\";float: left;margin-right: 0.25em;color: #696969;}#sk-container-id-1 label.sk-toggleable__label-arrow:hover:before {color: black;}#sk-container-id-1 div.sk-estimator:hover label.sk-toggleable__label-arrow:before {color: black;}#sk-container-id-1 div.sk-toggleable__content {max-height: 0;max-width: 0;overflow: hidden;text-align: left;background-color: #f0f8ff;}#sk-container-id-1 div.sk-toggleable__content pre {margin: 0.2em;color: black;border-radius: 0.25em;background-color: #f0f8ff;}#sk-container-id-1 input.sk-toggleable__control:checked~div.sk-toggleable__content {max-height: 200px;max-width: 100%;overflow: auto;}#sk-container-id-1 input.sk-toggleable__control:checked~label.sk-toggleable__label-arrow:before {content: \"▾\";}#sk-container-id-1 div.sk-estimator input.sk-toggleable__control:checked~label.sk-toggleable__label {background-color: #d4ebff;}#sk-container-id-1 div.sk-label input.sk-toggleable__control:checked~label.sk-toggleable__label {background-color: #d4ebff;}#sk-container-id-1 input.sk-hidden--visually {border: 0;clip: rect(1px 1px 1px 1px);clip: rect(1px, 1px, 1px, 1px);height: 1px;margin: -1px;overflow: hidden;padding: 0;position: absolute;width: 1px;}#sk-container-id-1 div.sk-estimator {font-family: monospace;background-color: #f0f8ff;border: 1px dotted black;border-radius: 0.25em;box-sizing: border-box;margin-bottom: 0.5em;}#sk-container-id-1 div.sk-estimator:hover {background-color: #d4ebff;}#sk-container-id-1 div.sk-parallel-item::after {content: \"\";width: 100%;border-bottom: 1px solid gray;flex-grow: 1;}#sk-container-id-1 div.sk-label:hover label.sk-toggleable__label {background-color: #d4ebff;}#sk-container-id-1 div.sk-serial::before {content: \"\";position: absolute;border-left: 1px solid gray;box-sizing: border-box;top: 0;bottom: 0;left: 50%;z-index: 0;}#sk-container-id-1 div.sk-serial {display: flex;flex-direction: column;align-items: center;background-color: white;padding-right: 0.2em;padding-left: 0.2em;position: relative;}#sk-container-id-1 div.sk-item {position: relative;z-index: 1;}#sk-container-id-1 div.sk-parallel {display: flex;align-items: stretch;justify-content: center;background-color: white;position: relative;}#sk-container-id-1 div.sk-item::before, #sk-container-id-1 div.sk-parallel-item::before {content: \"\";position: absolute;border-left: 1px solid gray;box-sizing: border-box;top: 0;bottom: 0;left: 50%;z-index: -1;}#sk-container-id-1 div.sk-parallel-item {display: flex;flex-direction: column;z-index: 1;position: relative;background-color: white;}#sk-container-id-1 div.sk-parallel-item:first-child::after {align-self: flex-end;width: 50%;}#sk-container-id-1 div.sk-parallel-item:last-child::after {align-self: flex-start;width: 50%;}#sk-container-id-1 div.sk-parallel-item:only-child::after {width: 0;}#sk-container-id-1 div.sk-dashed-wrapped {border: 1px dashed gray;margin: 0 0.4em 0.5em 0.4em;box-sizing: border-box;padding-bottom: 0.4em;background-color: white;}#sk-container-id-1 div.sk-label label {font-family: monospace;font-weight: bold;display: inline-block;line-height: 1.2em;}#sk-container-id-1 div.sk-label-container {text-align: center;}#sk-container-id-1 div.sk-container {/* jupyter's `normalize.less` sets `[hidden] { display: none; }` but bootstrap.min.css set `[hidden] { display: none !important; }` so we also need the `!important` here to be able to override the default hidden behavior on the sphinx rendered scikit-learn.org. See: https://github.com/scikit-learn/scikit-learn/issues/21755 */display: inline-block !important;position: relative;}#sk-container-id-1 div.sk-text-repr-fallback {display: none;}</style><div id=\"sk-container-id-1\" class=\"sk-top-container\"><div class=\"sk-text-repr-fallback\"><pre>LogisticRegression(C=0.1, max_iter=1000, penalty=&#x27;l1&#x27;, solver=&#x27;liblinear&#x27;)</pre><b>In a Jupyter environment, please rerun this cell to show the HTML representation or trust the notebook. <br />On GitHub, the HTML representation is unable to render, please try loading this page with nbviewer.org.</b></div><div class=\"sk-container\" hidden><div class=\"sk-item\"><div class=\"sk-estimator sk-toggleable\"><input class=\"sk-toggleable__control sk-hidden--visually\" id=\"sk-estimator-id-1\" type=\"checkbox\" checked><label for=\"sk-estimator-id-1\" class=\"sk-toggleable__label sk-toggleable__label-arrow\">LogisticRegression</label><div class=\"sk-toggleable__content\"><pre>LogisticRegression(C=0.1, max_iter=1000, penalty=&#x27;l1&#x27;, solver=&#x27;liblinear&#x27;)</pre></div></div></div></div></div>"
     },
     "execution_count": 6,
     "metadata": {},
     "output_type": "execute_result"
    }
   ],
   "source": [
    "lr_model.fit(X_train_m, y_train)"
   ],
   "metadata": {
    "collapsed": false,
    "ExecuteTime": {
     "end_time": "2024-04-09T04:33:26.687569Z",
     "start_time": "2024-04-09T04:33:26.670135Z"
    }
   },
   "id": "6468a0c3eec38848",
   "execution_count": 6
  },
  {
   "cell_type": "code",
   "outputs": [],
   "source": [
    "lr_model_2 = LogisticRegression(C=1, penalty='l2', multi_class='ovr')"
   ],
   "metadata": {
    "collapsed": false,
    "ExecuteTime": {
     "end_time": "2024-04-09T20:28:38.740281Z",
     "start_time": "2024-04-09T20:28:38.737462Z"
    }
   },
   "id": "a7ed48e233b7a2be",
   "execution_count": 13
  },
  {
   "cell_type": "code",
   "outputs": [
    {
     "data": {
      "text/plain": "LogisticRegression(C=1, multi_class='ovr')",
      "text/html": "<style>#sk-container-id-1 {color: black;}#sk-container-id-1 pre{padding: 0;}#sk-container-id-1 div.sk-toggleable {background-color: white;}#sk-container-id-1 label.sk-toggleable__label {cursor: pointer;display: block;width: 100%;margin-bottom: 0;padding: 0.3em;box-sizing: border-box;text-align: center;}#sk-container-id-1 label.sk-toggleable__label-arrow:before {content: \"▸\";float: left;margin-right: 0.25em;color: #696969;}#sk-container-id-1 label.sk-toggleable__label-arrow:hover:before {color: black;}#sk-container-id-1 div.sk-estimator:hover label.sk-toggleable__label-arrow:before {color: black;}#sk-container-id-1 div.sk-toggleable__content {max-height: 0;max-width: 0;overflow: hidden;text-align: left;background-color: #f0f8ff;}#sk-container-id-1 div.sk-toggleable__content pre {margin: 0.2em;color: black;border-radius: 0.25em;background-color: #f0f8ff;}#sk-container-id-1 input.sk-toggleable__control:checked~div.sk-toggleable__content {max-height: 200px;max-width: 100%;overflow: auto;}#sk-container-id-1 input.sk-toggleable__control:checked~label.sk-toggleable__label-arrow:before {content: \"▾\";}#sk-container-id-1 div.sk-estimator input.sk-toggleable__control:checked~label.sk-toggleable__label {background-color: #d4ebff;}#sk-container-id-1 div.sk-label input.sk-toggleable__control:checked~label.sk-toggleable__label {background-color: #d4ebff;}#sk-container-id-1 input.sk-hidden--visually {border: 0;clip: rect(1px 1px 1px 1px);clip: rect(1px, 1px, 1px, 1px);height: 1px;margin: -1px;overflow: hidden;padding: 0;position: absolute;width: 1px;}#sk-container-id-1 div.sk-estimator {font-family: monospace;background-color: #f0f8ff;border: 1px dotted black;border-radius: 0.25em;box-sizing: border-box;margin-bottom: 0.5em;}#sk-container-id-1 div.sk-estimator:hover {background-color: #d4ebff;}#sk-container-id-1 div.sk-parallel-item::after {content: \"\";width: 100%;border-bottom: 1px solid gray;flex-grow: 1;}#sk-container-id-1 div.sk-label:hover label.sk-toggleable__label {background-color: #d4ebff;}#sk-container-id-1 div.sk-serial::before {content: \"\";position: absolute;border-left: 1px solid gray;box-sizing: border-box;top: 0;bottom: 0;left: 50%;z-index: 0;}#sk-container-id-1 div.sk-serial {display: flex;flex-direction: column;align-items: center;background-color: white;padding-right: 0.2em;padding-left: 0.2em;position: relative;}#sk-container-id-1 div.sk-item {position: relative;z-index: 1;}#sk-container-id-1 div.sk-parallel {display: flex;align-items: stretch;justify-content: center;background-color: white;position: relative;}#sk-container-id-1 div.sk-item::before, #sk-container-id-1 div.sk-parallel-item::before {content: \"\";position: absolute;border-left: 1px solid gray;box-sizing: border-box;top: 0;bottom: 0;left: 50%;z-index: -1;}#sk-container-id-1 div.sk-parallel-item {display: flex;flex-direction: column;z-index: 1;position: relative;background-color: white;}#sk-container-id-1 div.sk-parallel-item:first-child::after {align-self: flex-end;width: 50%;}#sk-container-id-1 div.sk-parallel-item:last-child::after {align-self: flex-start;width: 50%;}#sk-container-id-1 div.sk-parallel-item:only-child::after {width: 0;}#sk-container-id-1 div.sk-dashed-wrapped {border: 1px dashed gray;margin: 0 0.4em 0.5em 0.4em;box-sizing: border-box;padding-bottom: 0.4em;background-color: white;}#sk-container-id-1 div.sk-label label {font-family: monospace;font-weight: bold;display: inline-block;line-height: 1.2em;}#sk-container-id-1 div.sk-label-container {text-align: center;}#sk-container-id-1 div.sk-container {/* jupyter's `normalize.less` sets `[hidden] { display: none; }` but bootstrap.min.css set `[hidden] { display: none !important; }` so we also need the `!important` here to be able to override the default hidden behavior on the sphinx rendered scikit-learn.org. See: https://github.com/scikit-learn/scikit-learn/issues/21755 */display: inline-block !important;position: relative;}#sk-container-id-1 div.sk-text-repr-fallback {display: none;}</style><div id=\"sk-container-id-1\" class=\"sk-top-container\"><div class=\"sk-text-repr-fallback\"><pre>LogisticRegression(C=1, multi_class=&#x27;ovr&#x27;)</pre><b>In a Jupyter environment, please rerun this cell to show the HTML representation or trust the notebook. <br />On GitHub, the HTML representation is unable to render, please try loading this page with nbviewer.org.</b></div><div class=\"sk-container\" hidden><div class=\"sk-item\"><div class=\"sk-estimator sk-toggleable\"><input class=\"sk-toggleable__control sk-hidden--visually\" id=\"sk-estimator-id-1\" type=\"checkbox\" checked><label for=\"sk-estimator-id-1\" class=\"sk-toggleable__label sk-toggleable__label-arrow\">LogisticRegression</label><div class=\"sk-toggleable__content\"><pre>LogisticRegression(C=1, multi_class=&#x27;ovr&#x27;)</pre></div></div></div></div></div>"
     },
     "execution_count": 14,
     "metadata": {},
     "output_type": "execute_result"
    }
   ],
   "source": [
    "lr_model_2.fit(X_train_m, y_train)"
   ],
   "metadata": {
    "collapsed": false,
    "ExecuteTime": {
     "end_time": "2024-04-09T20:28:39.089713Z",
     "start_time": "2024-04-09T20:28:38.858342Z"
    }
   },
   "id": "fa4dd5239e25355e",
   "execution_count": 14
  },
  {
   "cell_type": "code",
   "outputs": [],
   "source": [
    "# Save as pickle\n",
    "with open(\"./models/sns_multinomial_lr.pkl\", \"wb\") as f:\n",
    "    pickle.dump(lr_model, f)"
   ],
   "metadata": {
    "collapsed": false,
    "ExecuteTime": {
     "end_time": "2024-04-07T22:49:41.664781Z",
     "start_time": "2024-04-07T22:49:41.658856Z"
    }
   },
   "id": "8c859b1b4e0a6d93",
   "execution_count": 7
  },
  {
   "cell_type": "code",
   "outputs": [],
   "source": [
    "# Save as pickle\n",
    "with open(\"./models/sns_multinomial_lr_2.pkl\", \"wb\") as f:\n",
    "    pickle.dump(lr_model_2, f)"
   ],
   "metadata": {
    "collapsed": false,
    "ExecuteTime": {
     "end_time": "2024-04-09T04:55:35.313673Z",
     "start_time": "2024-04-09T04:55:35.310567Z"
    }
   },
   "id": "f4d7c11f1c7261a",
   "execution_count": 86
  },
  {
   "cell_type": "code",
   "outputs": [],
   "source": [
    "# Load from pickle\n",
    "lr_model = pickle.load(open(\"./models/sns_multinomial_lr.pkl\", \"rb\"))\n",
    "lr_model_2 = pickle.load(open(\"./models/sns_multinomial_lr_2.pkl\", \"rb\"))"
   ],
   "metadata": {
    "collapsed": false,
    "ExecuteTime": {
     "end_time": "2024-04-09T20:27:37.775449Z",
     "start_time": "2024-04-09T20:27:37.771292Z"
    }
   },
   "id": "9536eafd211fa5ad",
   "execution_count": 6
  },
  {
   "cell_type": "markdown",
   "source": [
    "# Make predictions"
   ],
   "metadata": {
    "collapsed": false
   },
   "id": "5ffbe3e1db8a1b11"
  },
  {
   "cell_type": "code",
   "outputs": [],
   "source": [
    "lr_pred_probs = lr_model.predict_proba(X_test_m)\n",
    "lr_preds = lr_model.predict(X_test_m)"
   ],
   "metadata": {
    "collapsed": false,
    "ExecuteTime": {
     "end_time": "2024-04-09T20:27:40.738633Z",
     "start_time": "2024-04-09T20:27:40.732969Z"
    }
   },
   "id": "d473ef6debb1b480",
   "execution_count": 7
  },
  {
   "cell_type": "code",
   "outputs": [
    {
     "name": "stdout",
     "output_type": "stream",
     "text": [
      "Precision: 0.6677713338856669\n",
      "Recall: 0.8116817724068479\n",
      "F1 Score: 0.7327272727272727\n",
      "Accuracy: 0.706\n"
     ]
    }
   ],
   "source": [
    "_ = du.get_prfa(y_test, lr_preds, verbose=True)"
   ],
   "metadata": {
    "collapsed": false,
    "ExecuteTime": {
     "end_time": "2024-04-07T20:08:49.542123Z",
     "start_time": "2024-04-07T20:08:49.532698Z"
    }
   },
   "id": "3e0993d19e36bcc5",
   "execution_count": 27
  },
  {
   "cell_type": "code",
   "outputs": [
    {
     "name": "stdout",
     "output_type": "stream",
     "text": [
      "Precision: 0.7113309352517986\n",
      "Recall: 0.796576032225579\n",
      "F1 Score: 0.7515439429928742\n",
      "Accuracy: 0.7385\n"
     ]
    }
   ],
   "source": [
    "lr_model_2_preds = lr_model_2.predict(X_test_m)\n",
    "_ = du.get_prfa(y_test, lr_model_2_preds, verbose=True)"
   ],
   "metadata": {
    "collapsed": false,
    "ExecuteTime": {
     "end_time": "2024-04-09T20:27:48.965652Z",
     "start_time": "2024-04-09T20:27:48.946860Z"
    }
   },
   "id": "6f1939cc2328b2fe",
   "execution_count": 8
  },
  {
   "cell_type": "code",
   "outputs": [],
   "source": [
    "def predict_inflammatory_level(text):\n",
    "    vec_text = m_vectorizer.transform([text])\n",
    "    return float(lr_model.predict_proba(vec_text)[:, 1])"
   ],
   "metadata": {
    "collapsed": false,
    "ExecuteTime": {
     "end_time": "2024-04-09T20:27:52.495364Z",
     "start_time": "2024-04-09T20:27:52.492416Z"
    }
   },
   "id": "84b614a872f2f446",
   "execution_count": 9
  },
  {
   "cell_type": "code",
   "outputs": [
    {
     "name": "stdout",
     "output_type": "stream",
     "text": [
      "Likeliness of inflammatory language: 0.40115793840859276\n",
      "Prediction: [0] (not inflammatory)\n"
     ]
    }
   ],
   "source": [
    "example = predict_inflammatory_level(\"This is regular text\")\n",
    "example_pred = du.probs_to_preds([[example]])\n",
    "print(\"Likeliness of inflammatory language:\", example)\n",
    "print(\"Prediction:\", example_pred, \"(not inflammatory)\")"
   ],
   "metadata": {
    "collapsed": false,
    "ExecuteTime": {
     "end_time": "2024-04-09T20:27:52.734696Z",
     "start_time": "2024-04-09T20:27:52.730697Z"
    }
   },
   "id": "668ec9b068d856a8",
   "execution_count": 10
  },
  {
   "cell_type": "code",
   "outputs": [],
   "source": [
    "def remove_duplicate_labels(ax_graph):\n",
    "    handles, labels = ax_graph.get_legend_handles_labels()\n",
    "    unique = [(h, l) for j, (h, l) in enumerate(zip(handles, labels)) if l not in labels[:j]]\n",
    "    ax_graph.legend(*zip(*unique))"
   ],
   "metadata": {
    "collapsed": false,
    "ExecuteTime": {
     "end_time": "2024-04-09T20:28:01.850774Z",
     "start_time": "2024-04-09T20:28:01.846180Z"
    }
   },
   "id": "d4d1d32bbe9c4f6f",
   "execution_count": 11
  },
  {
   "cell_type": "code",
   "outputs": [
    {
     "data": {
      "text/plain": "<Figure size 640x480 with 1 Axes>",
      "image/png": "[encoded data removed]"
     },
     "metadata": {},
     "output_type": "display_data"
    }
   ],
   "source": [
    "x_values = []\n",
    "train_sizes = range(10, 101, 10)\n",
    "metrics_dict = dict({\n",
    "    'precision': [],\n",
    "    'recall': [],\n",
    "    'f1': [],\n",
    "    'accuracy': []\n",
    "})\n",
    "\n",
    "fig, ax = plt.subplots()\n",
    "\n",
    "for i in train_sizes:\n",
    "    # |X| * percent of train size\n",
    "    subset = int(round(len(lr_model_2_preds) * (float(i) / float(100))))\n",
    "    x_values.append(subset)\n",
    "\n",
    "    pred_subset = int(round(len(y_test) * (float(i) / float(100))))\n",
    "    classification = lr_model_2_preds[:pred_subset]\n",
    "    (precision, recall, f1, accuracy) = du.get_prfa(y_test[:pred_subset], classification, verbose=False)\n",
    "\n",
    "    metrics_dict['precision'].append(precision)\n",
    "    metrics_dict['recall'].append(recall)\n",
    "    metrics_dict['f1'].append(f1)\n",
    "    metrics_dict['accuracy'].append(accuracy)\n",
    "\n",
    "    ax.plot(x_values, metrics_dict['precision'], label='Precision', color='red')\n",
    "    ax.plot(x_values, metrics_dict['recall'], label='Recall', color='blue')\n",
    "    ax.plot(x_values, metrics_dict['f1'], label='F1 Score', color='orange')\n",
    "    ax.plot(x_values, metrics_dict['accuracy'], label='Accuracy', color='green')\n",
    "\n",
    "plt.savefig('./graphs/lr_history_2.png')\n",
    "plt.xlabel(\"Amount of training data\")\n",
    "plt.ylabel(\"Performance\")\n",
    "plt.title(\"Logistic regression performance over training data\")\n",
    "remove_duplicate_labels(ax)\n",
    "plt.show()"
   ],
   "metadata": {
    "collapsed": false,
    "ExecuteTime": {
     "end_time": "2024-04-09T20:30:52.325771Z",
     "start_time": "2024-04-09T20:30:52.069971Z"
    }
   },
   "id": "ba53fddffd350126",
   "execution_count": 16
  },
  {
   "cell_type": "code",
   "outputs": [],
   "source": [],
   "metadata": {
    "collapsed": false
   },
   "id": "96c5c6d6414fca8d"
  }
 ],
 "metadata": {
  "kernelspec": {
   "display_name": "Python 3",
   "language": "python",
   "name": "python3"
  },
  "language_info": {
   "codemirror_mode": {
    "name": "ipython",
    "version": 2
   },
   "file_extension": ".py",
   "mimetype": "text/x-python",
   "name": "python",
   "nbconvert_exporter": "python",
   "pygments_lexer": "ipython2",
   "version": "2.7.6"
  }
 },
 "nbformat": 4,
 "nbformat_minor": 5
}
